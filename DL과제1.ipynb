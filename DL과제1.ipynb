{
  "nbformat": 4,
  "nbformat_minor": 0,
  "metadata": {
    "colab": {
      "provenance": [],
      "collapsed_sections": [],
      "authorship_tag": "ABX9TyO/OW/6VYRKic3l6PepEEEi",
      "include_colab_link": true
    },
    "kernelspec": {
      "name": "python3",
      "display_name": "Python 3"
    },
    "language_info": {
      "name": "python"
    }
  },
  "cells": [
    {
      "cell_type": "markdown",
      "metadata": {
        "id": "view-in-github",
        "colab_type": "text"
      },
      "source": [
        "<a href=\"https://colab.research.google.com/github/chaehchaeh/MajorAI-DL/blob/main/DL%EA%B3%BC%EC%A0%9C1.ipynb\" target=\"_parent\"><img src=\"https://colab.research.google.com/assets/colab-badge.svg\" alt=\"Open In Colab\"/></a>"
      ]
    },
    {
      "cell_type": "code",
      "execution_count": null,
      "metadata": {
        "colab": {
          "base_uri": "https://localhost:8080/"
        },
        "id": "UTgYJnqv0anW",
        "outputId": "7f95cafc-5a9c-4dfa-bd77-abf4d1f1ba2f"
      },
      "outputs": [
        {
          "output_type": "stream",
          "name": "stdout",
          "text": [
            "tensor([[[ 4.,  5.,  6.],\n",
            "         [ 9., 10., 11.]],\n",
            "\n",
            "        [[14., 25., 36.],\n",
            "         [49., 60., 71.]]])\n"
          ]
        }
      ],
      "source": [
        "import torch\n",
        "X=torch.FloatTensor([[[1,2,3],[4,5,6]],[[11,22,33],[44,55,66]]])\n",
        "Y=torch.FloatTensor([[3,3,3],[5,5,5]])\n",
        "Z=X+Y\n",
        "print(Z)"
      ]
    },
    {
      "cell_type": "code",
      "source": [
        "#문제2\n",
        "X=torch.FloatTensor([[[1,2,3],[4,5,6]],[[11,22,33],[44,55,66]]])\n",
        "#모든 요소의 평균과 합을 구하는 코드를 작성하시오.\n",
        "print(X.sum())\n",
        "print(X.mean())\n",
        "#첫번째 차원에 대한 평균과 합을 구하는 코드를 작성하시오.\n",
        "print(X.sum(dim=0))\n",
        "print(X.mean(dim=0))\n",
        "#두번째 차원에 대한 평균과 합을 구하는 코드를 작성하시오.\n",
        "print(X.sum(dim=1))\n",
        "print(X.mean(dim=1))"
      ],
      "metadata": {
        "colab": {
          "base_uri": "https://localhost:8080/"
        },
        "id": "cs5AgeBU05-i",
        "outputId": "a4cbcb19-592c-4774-8baf-f69897a1b18c"
      },
      "execution_count": null,
      "outputs": [
        {
          "output_type": "stream",
          "name": "stdout",
          "text": [
            "tensor(252.)\n",
            "tensor(21.)\n",
            "tensor([[12., 24., 36.],\n",
            "        [48., 60., 72.]])\n",
            "tensor([[ 6., 12., 18.],\n",
            "        [24., 30., 36.]])\n",
            "tensor([[ 5.,  7.,  9.],\n",
            "        [55., 77., 99.]])\n",
            "tensor([[ 2.5000,  3.5000,  4.5000],\n",
            "        [27.5000, 38.5000, 49.5000]])\n"
          ]
        }
      ]
    },
    {
      "cell_type": "code",
      "source": [
        "#문제3\n",
        "X=torch.FloatTensor([1,2,3])\n",
        "Y=X.expand(1,1,3)\n",
        "print(Y.size())"
      ],
      "metadata": {
        "colab": {
          "base_uri": "https://localhost:8080/"
        },
        "id": "5EaDME3e2UDW",
        "outputId": "b65c9f71-295f-409f-d64d-cc43942bc7f0"
      },
      "execution_count": null,
      "outputs": [
        {
          "output_type": "stream",
          "name": "stdout",
          "text": [
            "torch.Size([1, 1, 3])\n"
          ]
        }
      ]
    },
    {
      "cell_type": "code",
      "source": [
        "#문제4\n",
        "import torch\n",
        "X=torch.FloatTensor(range(12))\n",
        "X=X.view(2,3,2)\n",
        "print(X)"
      ],
      "metadata": {
        "id": "QqsLbWdu3Wrr",
        "colab": {
          "base_uri": "https://localhost:8080/"
        },
        "outputId": "7395f0e8-713a-4eb5-a63b-be75a7857dc3"
      },
      "execution_count": null,
      "outputs": [
        {
          "output_type": "stream",
          "name": "stdout",
          "text": [
            "tensor([[[ 0.,  1.],\n",
            "         [ 2.,  3.],\n",
            "         [ 4.,  5.]],\n",
            "\n",
            "        [[ 6.,  7.],\n",
            "         [ 8.,  9.],\n",
            "         [10., 11.]]])\n"
          ]
        }
      ]
    },
    {
      "cell_type": "code",
      "source": [
        "#문제5\n",
        "import torch\n",
        "X=torch.FloatTensor([[[1,2,3],[4,5,6]],[[11,22,33],[44,55,66]]])\n",
        "X=X.chunk(6,dim=2)\n",
        "for x in X:\n",
        "    print(x)"
      ],
      "metadata": {
        "id": "cZ1yzAfUo3Px",
        "colab": {
          "base_uri": "https://localhost:8080/"
        },
        "outputId": "45d54cc2-9ad6-4993-b6e5-2577f02e4fbc"
      },
      "execution_count": 20,
      "outputs": [
        {
          "output_type": "stream",
          "name": "stdout",
          "text": [
            "tensor([[[ 1.],\n",
            "         [ 4.]],\n",
            "\n",
            "        [[11.],\n",
            "         [44.]]])\n",
            "tensor([[[ 2.],\n",
            "         [ 5.]],\n",
            "\n",
            "        [[22.],\n",
            "         [55.]]])\n",
            "tensor([[[ 3.],\n",
            "         [ 6.]],\n",
            "\n",
            "        [[33.],\n",
            "         [66.]]])\n"
          ]
        }
      ]
    },
    {
      "cell_type": "code",
      "source": [
        "#문제5\n",
        "import torch\n",
        "X=torch.FloatTensor([[[1,2,3],[4,5,6]],[[11,22,33],[44,55,66]]])\n",
        "X=X.chunk(3,dim=-1)\n",
        "for x in X:\n",
        "    print(x)"
      ],
      "metadata": {
        "colab": {
          "base_uri": "https://localhost:8080/"
        },
        "id": "eAS0h-MW_-mC",
        "outputId": "26a20561-21d7-40bd-8c30-d6813ee9f2db"
      },
      "execution_count": 27,
      "outputs": [
        {
          "output_type": "stream",
          "name": "stdout",
          "text": [
            "tensor([[[ 1.],\n",
            "         [ 4.]],\n",
            "\n",
            "        [[11.],\n",
            "         [44.]]])\n",
            "tensor([[[ 2.],\n",
            "         [ 5.]],\n",
            "\n",
            "        [[22.],\n",
            "         [55.]]])\n",
            "tensor([[[ 3.],\n",
            "         [ 6.]],\n",
            "\n",
            "        [[33.],\n",
            "         [66.]]])\n"
          ]
        }
      ]
    },
    {
      "cell_type": "code",
      "source": [
        "#문제6\n",
        "X=torch.FloatTensor([ [[[1,2,3],[4,5,6]], [[2,4,6],[3,5,7]]],\n",
        "                      [[[1,1,1],[2,2,2]], [[3,3,3],[4,4,4]]]  ])\n",
        "Y=torch.FloatTensor([ [[[1,1],[2,2],[3,3]], [[1,1],[1,1],[1,1]]],\n",
        "                    [[[2,2],[3,3],[4,4]], [[1,2],[1,2],[1,2]]]  ])\n",
        "X1=X.size()\n",
        "Y1=Y.size()\n",
        "Z1=Z.size()\n",
        "Z=torch.matmul(X,Y)\n",
        "print(Z)"
      ],
      "metadata": {
        "colab": {
          "base_uri": "https://localhost:8080/"
        },
        "id": "Z5RXPmA3AEHq",
        "outputId": "f3be9c2a-701d-4c44-e81b-2a92c1e13d72"
      },
      "execution_count": 38,
      "outputs": [
        {
          "output_type": "stream",
          "name": "stdout",
          "text": [
            "tensor([[[[14., 14.],\n",
            "          [32., 32.]],\n",
            "\n",
            "         [[12., 12.],\n",
            "          [15., 15.]]],\n",
            "\n",
            "\n",
            "        [[[ 9.,  9.],\n",
            "          [18., 18.]],\n",
            "\n",
            "         [[ 9., 18.],\n",
            "          [12., 24.]]]])\n"
          ]
        }
      ]
    },
    {
      "cell_type": "code",
      "source": [],
      "metadata": {
        "id": "pEZQhKLtCZ-n"
      },
      "execution_count": null,
      "outputs": []
    }
  ]
}