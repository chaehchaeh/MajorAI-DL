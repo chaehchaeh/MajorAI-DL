{
  "nbformat": 4,
  "nbformat_minor": 0,
  "metadata": {
    "colab": {
      "provenance": [],
      "collapsed_sections": [],
      "authorship_tag": "ABX9TyN1F6PGiDJ89xw6m5cV7ku3",
      "include_colab_link": true
    },
    "kernelspec": {
      "name": "python3",
      "display_name": "Python 3"
    },
    "language_info": {
      "name": "python"
    }
  },
  "cells": [
    {
      "cell_type": "markdown",
      "metadata": {
        "id": "view-in-github",
        "colab_type": "text"
      },
      "source": [
        "<a href=\"https://colab.research.google.com/github/chaehchaeh/MajorAI-DL/blob/main/221114DL8_2.ipynb\" target=\"_parent\"><img src=\"https://colab.research.google.com/assets/colab-badge.svg\" alt=\"Open In Colab\"/></a>"
      ]
    },
    {
      "cell_type": "code",
      "execution_count": null,
      "metadata": {
        "id": "Om_fFvRiZsDh"
      },
      "outputs": [],
      "source": []
    },
    {
      "cell_type": "markdown",
      "source": [
        "###특징(feature)\n",
        "인공신경망 모델의 요건: 출력결과를 도출하는 입력 샘플을 다른 샘플들과 구분할 수 있어야함\n",
        "\n",
        "요건 충족을 위한 기본사항: 데이터 샘플을 잘 나타내는 특징을 추출하고 학습\n",
        "\n",
        "특징의 예) 사람의 특징/MNIST데이터의 특징\n",
        "\n"
      ],
      "metadata": {
        "id": "l9SLzIM7Z_sM"
      }
    },
    {
      "cell_type": "markdown",
      "source": [
        "###특징벡터(feature vector):특징들을 모아서 벡터로 표현한 것\n",
        "특징벡터를 구성하면 샘플들 간의 거리(유사도)를 계산할 수 있음"
      ],
      "metadata": {
        "id": "B8lfU4Dean01"
      }
    },
    {
      "cell_type": "markdown",
      "source": [
        "###원핫 인코딩(one-hot encoding): 카테고리 값을 특징 벡터로 표현하는 방법\n",
        "-카테고리를 한개의 1과 n-1개의 0으로 이루어진 n차원 벡터로 나타냄\n",
        "\n",
        "n개의 항목->n차원\n",
        "\n",
        "-벡터가 sparse(희소)한 성질을 가짐(0이 아닌 요소의 개수가 적음)"
      ],
      "metadata": {
        "id": "guh_jwNQbAQw"
      }
    },
    {
      "cell_type": "markdown",
      "source": [
        "###단어 임베딩: 자연어 처리 분야에서 단어를 고밀도 벡터로 표현하는 방법\n",
        "-비슷한 단어들끼리 비슷한 값을 가짐"
      ],
      "metadata": {
        "id": "T8w7iQJhbeqU"
      }
    },
    {
      "cell_type": "markdown",
      "source": [
        "###차원 축소(dimensionality reduction):고차원 데이터를 저차원 데이터로 표현하는 것\n",
        "-고차원의 희소벡터를 저차원의 고밀도 벡터로 바꿔 데이터 표현의 효율성을 높임\n",
        "\n",
        "희소벡터의 예:MNIST데이터\n",
        "\n",
        "###선형차원축소\n",
        "-주성분 분석(printcipal component Analysis:PCA):고차원 공간에 분포하는 샘플들의 분포를 잘 설명하는 새로운 축(aixs)를 찾아내는 방법\n",
        "\n",
        "-주어진 샘플들에 대해 아래 두가지 조건을 만족하는 축을 찾고, 이 축에 샘플들을 투사(projection)하면 저차원 샘플로 변환 가능\n",
        "\n",
        "-PCA를 통한 분류: 두 그룹을 분리하는 경계선(decision boundary)을 찾아낼 수 있음\n",
        "\n",
        "-PCA의 단점: 비선형적 경계선을 갖는 경우는 분류 어려움"
      ],
      "metadata": {
        "id": "DD4E8sqccFdi"
      }
    },
    {
      "cell_type": "code",
      "source": [],
      "metadata": {
        "id": "2tkXkIrCfjSg"
      },
      "execution_count": null,
      "outputs": []
    },
    {
      "cell_type": "markdown",
      "source": [
        "###비선형적 차원 축소\n",
        "-오토인코더(Autoencoder):비선형적 차원 축소를 할 수 있는 심층 신경망\n",
        "\n",
        "-인코더와 디코더로 구성됨\n",
        "\n",
        "-인코더: 입력 샘플의 정보를 최대한 보존하도록 손실압축을 수행\n",
        "\n",
        "-디코더: 인코더의 결과물(z)을 입력샘플과 같아지도록 압축 해제 수행\n",
        "\n",
        "-MSE 손실함수를 이용해 학습됨\n",
        "\n",
        "####오토 인코더의 은닉 표현\n",
        "-인코더의 결과물(z)을 은닉표현(Hidden(Latent) representation)이라 함\n",
        "\n",
        "-은닉 표현들이 존재하는 공간을 은닉 공간(hidden space)라 함\n",
        "\n",
        "-은닉공간에 표현된 MNIST데이터"
      ],
      "metadata": {
        "id": "CL1dfsmyfkTo"
      }
    },
    {
      "cell_type": "markdown",
      "source": [
        "###확률 통계 기본\n",
        "-이산(discrete)확률 변수: 불연속값을 갖는 확률 변수, 확률 질량(probability mass)함수에 의해 특정 값을 가질 확률이 주어짐\n",
        "\n",
        "-연속(continuous)확률 변수: 연속값을 갖는 확률 변수, 확률 밀도(probabilty density)함수에 의해 확률이 주어짐"
      ],
      "metadata": {
        "id": "ZCl8vTMqhD3C"
      }
    },
    {
      "cell_type": "code",
      "source": [
        "###결합확률(joint probabilty): 두 개 이상의 변수"
      ],
      "metadata": {
        "id": "_qasAHxNhCVG"
      },
      "execution_count": null,
      "outputs": []
    },
    {
      "cell_type": "markdown",
      "source": [
        "###결합확률(joint probabilty): 두 개 이상의 변수를 사용하는 확률 표현\n",
        "-두변수가 독립이라면 각 변수의 확률 곱으로 나타낼 수 있음\n",
        "\n",
        "###조건부 확률(conditional probabilty): 입력 샘플 x가 주어졌을 때 출력 샘플 y가 나타날 확률\n",
        "-조건부확률과 결합확률 간의 관계\n",
        "\n",
        "-베이즈 정리(Bayes Theorem):조건부 확률에 등장하는 변수의 위치를 바꿀 수 있음"
      ],
      "metadata": {
        "id": "Nq0QA3BmiZ4L"
      }
    },
    {
      "cell_type": "markdown",
      "source": [
        "####참고사항\n",
        "-주변 분포(marginal distribution): 결합확률 분포에서 하나의 변수를 적분해서 없앤것\n",
        "-기댓값(expectation):확률변수의 값 x 확률의 합\n",
        "\n",
        "-연속확률분포일 경우 적분을 이용하여 기댓값 계산"
      ],
      "metadata": {
        "id": "jWWxWL8bi8f5"
      }
    },
    {
      "cell_type": "markdown",
      "source": [
        "###최대 가능도 방법(Maximum Likelihood Estimation:MLE):샘플을 통해 모집단의 분포를 추정하는 방법\n",
        "-최대 가능도 방법이란 가능도를 최대로하는 분포의 파라미터를 찾는 방법\n",
        "*선의길이=확률밀도\n",
        "\n",
        "-정규 분포를 따르는 모집단에서 추출한 샘플\n",
        "-가능도(Likelihood):샘플들에 대한 확률의 곱\n",
        "\n",
        "-로그가능도: 언더플로 문제를 방지하기 위해 사용\n",
        "(로그를 취하면 곱하기가 더하기로 바뀌기 때문)\n",
        "-경사상승법(gradient Ascent)을 사용하여 가능도를 최대화하는 파라미터를 추정할 수 있음"
      ],
      "metadata": {
        "id": "yXi-otdkjpVT"
      }
    },
    {
      "cell_type": "markdown",
      "source": [
        "###신경망과 MLE\n",
        "-신경망에 대한 해석\n",
        "\n",
        "1) 가중치 파라미터: 분포를 나타내는 파라미터\n",
        "\n",
        "2) 출력: 가중치 파라미터의 변화에 따른 확률 분포\n",
        "\n",
        "-경사상승법을 이용해 최대 가능도를 만드는 방향으로 가중치 파라미터를 업데이트 할 수 있음\n",
        "-실제로는 Nagative Log-Likelihood,NLL을 도입하여 최대화 문제를 최소화 문제로 바꾼 뒤, 경사하강법을 적용함으로써 MLE를 구현하게 됨\n",
        "\n",
        "-교차엔트로피 손실함수를 통한 신경망 학습은 NLL에 의한 MLE와 동일"
      ],
      "metadata": {
        "id": "qrSAs0Qtl4ie"
      }
    },
    {
      "cell_type": "code",
      "source": [],
      "metadata": {
        "id": "r00pEQI4mUk7"
      },
      "execution_count": null,
      "outputs": []
    }
  ]
}