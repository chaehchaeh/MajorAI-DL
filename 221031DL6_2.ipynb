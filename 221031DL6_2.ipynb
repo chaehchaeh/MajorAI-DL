{
  "nbformat": 4,
  "nbformat_minor": 0,
  "metadata": {
    "colab": {
      "provenance": [],
      "collapsed_sections": [],
      "authorship_tag": "ABX9TyODRo3e7lZLhqcTuA0G3JOX",
      "include_colab_link": true
    },
    "kernelspec": {
      "name": "python3",
      "display_name": "Python 3"
    },
    "language_info": {
      "name": "python"
    }
  },
  "cells": [
    {
      "cell_type": "markdown",
      "metadata": {
        "id": "view-in-github",
        "colab_type": "text"
      },
      "source": [
        "<a href=\"https://colab.research.google.com/github/chaehchaeh/MajorAI-DL/blob/main/221031DL6_2.ipynb\" target=\"_parent\"><img src=\"https://colab.research.google.com/assets/colab-badge.svg\" alt=\"Open In Colab\"/></a>"
      ]
    },
    {
      "cell_type": "code",
      "execution_count": 3,
      "metadata": {
        "id": "HeHv73rfUp4l"
      },
      "outputs": [],
      "source": [
        "import numpy as np\n",
        "import pandas as pd\n",
        "import seaborn as sns\n",
        "import matplotlib.pyplot as plt\n",
        "from copy import deepcopy\n",
        "\n",
        "from sklearn.preprocessing import StandardScaler\n",
        "from sklearn.datasets import load_breast_cancer\n",
        "\n",
        "cancer=load_breast_cancer()\n",
        "df=pd.DataFrame(cancer.data,columns=cancer.feature_names)\n",
        "df['class']=cancer.target"
      ]
    },
    {
      "cell_type": "code",
      "source": [
        "import torch\n",
        "import torch.nn as nn\n",
        "import torch.nn.functional as F\n",
        "import torch.optim as optim\n",
        "data=torch.from_numpy(df.values).float()\n",
        "\n",
        "x=data[:,:-1]\n",
        "y=data[:,-1:]\n",
        "print(x.shape,y.shape)"
      ],
      "metadata": {
        "colab": {
          "base_uri": "https://localhost:8080/"
        },
        "id": "1WFhIorkg6mN",
        "outputId": "5c67bfdc-78f9-44cd-c153-b7d2fcb9f6eb"
      },
      "execution_count": 4,
      "outputs": [
        {
          "output_type": "stream",
          "name": "stdout",
          "text": [
            "torch.Size([569, 30]) torch.Size([569, 1])\n"
          ]
        }
      ]
    },
    {
      "cell_type": "code",
      "source": [
        "ratios=[.6,.2,.2]\n",
        "\n",
        "train_cnt=int(data.size(0)*ratios[0])\n",
        "valid_cnt=int(data.size(0)*ratios[1])\n",
        "test_cnt=data.size(0)-train_cnt-valid_cnt\n",
        "cnts=[train_cnt,valid_cnt,test_cnt]\n",
        "\n",
        "print(\"Train %d/ Valid %d /Test %d samples.\"% (train_cnt,valid_cnt,test_cnt))\n",
        "              "
      ],
      "metadata": {
        "colab": {
          "base_uri": "https://localhost:8080/"
        },
        "id": "Zr1Y1lGSkIoq",
        "outputId": "56b26e57-93e5-4162-f564-b37ae0d7bf1d"
      },
      "execution_count": 11,
      "outputs": [
        {
          "output_type": "stream",
          "name": "stdout",
          "text": [
            "Train 341/ Valid 113 /Test 115 samples.\n"
          ]
        }
      ]
    },
    {
      "cell_type": "code",
      "source": [
        "indices=torch.randperm(data.size(0))\n",
        "\n",
        "x=torch.index_select(x, dim=0,index=indices)\n",
        "y=torch.index_select(y, dim=0, index=indices)\n",
        "\n",
        "x=x.split(cnts, dim=0)\n",
        "y=y.split(cnts, dim=0)\n",
        "for x_i,y_i in zip(x,y):\n",
        "    print(x_i.size(),y_i.size())"
      ],
      "metadata": {
        "colab": {
          "base_uri": "https://localhost:8080/",
          "height": 280
        },
        "id": "RtSogWFThUDz",
        "outputId": "a3dc6b06-0e91-406b-8e5f-0d0e745dced1"
      },
      "execution_count": 19,
      "outputs": [
        {
          "output_type": "error",
          "ename": "TypeError",
          "evalue": "ignored",
          "traceback": [
            "\u001b[0;31m---------------------------------------------------------------------------\u001b[0m",
            "\u001b[0;31mTypeError\u001b[0m                                 Traceback (most recent call last)",
            "\u001b[0;32m<ipython-input-19-16ccbfaa45ef>\u001b[0m in \u001b[0;36m<module>\u001b[0;34m\u001b[0m\n\u001b[1;32m      1\u001b[0m \u001b[0mindices\u001b[0m\u001b[0;34m=\u001b[0m\u001b[0mtorch\u001b[0m\u001b[0;34m.\u001b[0m\u001b[0mrandperm\u001b[0m\u001b[0;34m(\u001b[0m\u001b[0mdata\u001b[0m\u001b[0;34m.\u001b[0m\u001b[0msize\u001b[0m\u001b[0;34m(\u001b[0m\u001b[0;36m0\u001b[0m\u001b[0;34m)\u001b[0m\u001b[0;34m)\u001b[0m\u001b[0;34m\u001b[0m\u001b[0;34m\u001b[0m\u001b[0m\n\u001b[1;32m      2\u001b[0m \u001b[0;34m\u001b[0m\u001b[0m\n\u001b[0;32m----> 3\u001b[0;31m \u001b[0mx\u001b[0m\u001b[0;34m=\u001b[0m\u001b[0mtorch\u001b[0m\u001b[0;34m.\u001b[0m\u001b[0mindex_select\u001b[0m\u001b[0;34m(\u001b[0m\u001b[0mx\u001b[0m\u001b[0;34m,\u001b[0m \u001b[0mdim\u001b[0m\u001b[0;34m=\u001b[0m\u001b[0;36m0\u001b[0m\u001b[0;34m,\u001b[0m\u001b[0mindex\u001b[0m\u001b[0;34m=\u001b[0m\u001b[0mindices\u001b[0m\u001b[0;34m)\u001b[0m\u001b[0;34m\u001b[0m\u001b[0;34m\u001b[0m\u001b[0m\n\u001b[0m\u001b[1;32m      4\u001b[0m \u001b[0my\u001b[0m\u001b[0;34m=\u001b[0m\u001b[0mtorch\u001b[0m\u001b[0;34m.\u001b[0m\u001b[0mindex_select\u001b[0m\u001b[0;34m(\u001b[0m\u001b[0my\u001b[0m\u001b[0;34m,\u001b[0m \u001b[0mdim\u001b[0m\u001b[0;34m=\u001b[0m\u001b[0;36m0\u001b[0m\u001b[0;34m,\u001b[0m \u001b[0mindex\u001b[0m\u001b[0;34m=\u001b[0m\u001b[0mindices\u001b[0m\u001b[0;34m)\u001b[0m\u001b[0;34m\u001b[0m\u001b[0;34m\u001b[0m\u001b[0m\n\u001b[1;32m      5\u001b[0m \u001b[0;34m\u001b[0m\u001b[0m\n",
            "\u001b[0;31mTypeError\u001b[0m: index_select() received an invalid combination of arguments - got (tuple, index=Tensor, dim=int), but expected one of:\n * (Tensor input, int dim, Tensor index, *, Tensor out)\n * (Tensor input, name dim, Tensor index, *, Tensor out)\n"
          ]
        }
      ]
    },
    {
      "cell_type": "code",
      "source": [
        "#데이터 정규화\n",
        "scaler=StandardScaler()\n",
        "scaler.fit(x[0].numpy())\n",
        "x=[torch.from_numpy(scaler.transform(x[0].numpy())).float(),\n",
        "   torch.from_numpy(scaler.transform(x[1].numpy())).float(),\n",
        "   torch.from_numpy(scaler.transform(x[2].numpy())).float()]\n"
      ],
      "metadata": {
        "id": "6vYU5Vd5kEfA"
      },
      "execution_count": 21,
      "outputs": []
    },
    {
      "cell_type": "code",
      "source": [
        "#심층신경망 모델 구성 및 옵티마이저 설정\n",
        "model=nn.Sequential(\n",
        "    nn.Linear(x[0].size(-1),25),\n",
        "    nn.LeakyReLU(),\n",
        "    nn.Linear(25,20),\n",
        "    nn.LeakyReLU(),\n",
        "    nn.Linear(20,15),\n",
        "    nn.LeakyReLU(),\n",
        "    nn.Linear(15,10),\n",
        "    nn.LeakyReLU(),\n",
        "    nn.Linear(10,5),\n",
        "    nn.LeakyReLU(),\n",
        "    nn.Linear(5,y[0].size(-1)),\n",
        "    nn.Sigmoid()\n",
        ")\n",
        "\n",
        "optimizer=optim.Adam(model.parameters())"
      ],
      "metadata": {
        "id": "nxkv093ZmR0R"
      },
      "execution_count": 24,
      "outputs": []
    },
    {
      "cell_type": "code",
      "source": [
        "#하이퍼 파라미터 설정\n",
        "n_epochs=10000\n",
        "batch_size=32\n",
        "print_interval=10\n",
        "early_stop=100\n",
        "lowest_loss=np.inf\n",
        "best_model=None\n",
        "lowest_epoch=np.inf"
      ],
      "metadata": {
        "id": "hSDCxpIsn5Dw"
      },
      "execution_count": 26,
      "outputs": []
    },
    {
      "cell_type": "code",
      "source": [
        "#이진분류 심층신경망 구현\n",
        "\n",
        "train_history, valid_history=[],[]\n",
        "\n",
        "for i in range(n_epochs):\n",
        "    indices=torch.randperm(x[0].size[0])\n",
        "    x_=torch.index_select(x[0],dim=0, index=indices)\n",
        "    y_=torch.index_select(y[0],dim=0, index=indices)\n",
        "\n",
        "    x_=x_.split(batch_size, dim=0)\n",
        "    y_=y_.split(batch_size, dim=0)\n",
        "\n",
        "    train_loss,valid_loss=0,0\n",
        "    y_hat=[]\n",
        "\n",
        "    for x_i,y_i in zip(x_,y_):\n",
        "        y_hat_i=model(x_i)\n",
        "        loss=F.binary_cross_entropy(y_hat_i,y_i)\n",
        "        \n",
        "        optimizer.zero_grad()\n",
        "        loss.backward()\n",
        "\n",
        "        optimizer.step()\n",
        "        train_loss+=float(loss)\n",
        "        \n",
        "    train_loss=train_loss/len(x_)\n",
        "\n",
        "    with torch.no_grad():\n",
        "        x_=x[1].split(batch_size, dim=0)\n",
        "        y_=y[1].split(batch_size, dim=0)\n",
        "\n",
        "        valid_loss=0\n",
        "\n",
        "        for x_i,y_i in zip(x_,y_):\n",
        "            y_hat_i=model(x_i)\n",
        "            loss=F.binary_cross_entropy(y_hat_i,y_i)\n",
        "\n",
        "            valid_loss+= float(loss)\n",
        "\n",
        "            y_hat+=[y_hat_i]\n",
        "\n",
        "    valid_loss=valid_loss/len(x_)\n",
        "\n",
        "    train_history+=[train_loss]\n"
      ],
      "metadata": {
        "colab": {
          "base_uri": "https://localhost:8080/",
          "height": 244
        },
        "id": "h2WYEXcuoP-q",
        "outputId": "896bd0e5-d6a3-4927-835c-c0ba59899235"
      },
      "execution_count": 27,
      "outputs": [
        {
          "output_type": "error",
          "ename": "TypeError",
          "evalue": "ignored",
          "traceback": [
            "\u001b[0;31m---------------------------------------------------------------------------\u001b[0m",
            "\u001b[0;31mTypeError\u001b[0m                                 Traceback (most recent call last)",
            "\u001b[0;32m<ipython-input-27-db54d6cba662>\u001b[0m in \u001b[0;36m<module>\u001b[0;34m\u001b[0m\n\u001b[1;32m      4\u001b[0m \u001b[0;34m\u001b[0m\u001b[0m\n\u001b[1;32m      5\u001b[0m \u001b[0;32mfor\u001b[0m \u001b[0mi\u001b[0m \u001b[0;32min\u001b[0m \u001b[0mrange\u001b[0m\u001b[0;34m(\u001b[0m\u001b[0mn_epochs\u001b[0m\u001b[0;34m)\u001b[0m\u001b[0;34m:\u001b[0m\u001b[0;34m\u001b[0m\u001b[0;34m\u001b[0m\u001b[0m\n\u001b[0;32m----> 6\u001b[0;31m     \u001b[0mindices\u001b[0m\u001b[0;34m=\u001b[0m\u001b[0mtorch\u001b[0m\u001b[0;34m.\u001b[0m\u001b[0mrandperm\u001b[0m\u001b[0;34m(\u001b[0m\u001b[0mx\u001b[0m\u001b[0;34m[\u001b[0m\u001b[0;36m0\u001b[0m\u001b[0;34m]\u001b[0m\u001b[0;34m.\u001b[0m\u001b[0msize\u001b[0m\u001b[0;34m[\u001b[0m\u001b[0;36m0\u001b[0m\u001b[0;34m]\u001b[0m\u001b[0;34m)\u001b[0m\u001b[0;34m\u001b[0m\u001b[0;34m\u001b[0m\u001b[0m\n\u001b[0m\u001b[1;32m      7\u001b[0m     \u001b[0mx_\u001b[0m\u001b[0;34m=\u001b[0m\u001b[0mtorch\u001b[0m\u001b[0;34m.\u001b[0m\u001b[0mindex_select\u001b[0m\u001b[0;34m(\u001b[0m\u001b[0mx\u001b[0m\u001b[0;34m[\u001b[0m\u001b[0;36m0\u001b[0m\u001b[0;34m]\u001b[0m\u001b[0;34m,\u001b[0m\u001b[0mdim\u001b[0m\u001b[0;34m=\u001b[0m\u001b[0;36m0\u001b[0m\u001b[0;34m,\u001b[0m \u001b[0mindex\u001b[0m\u001b[0;34m=\u001b[0m\u001b[0mindices\u001b[0m\u001b[0;34m)\u001b[0m\u001b[0;34m\u001b[0m\u001b[0;34m\u001b[0m\u001b[0m\n\u001b[1;32m      8\u001b[0m     \u001b[0my_\u001b[0m\u001b[0;34m=\u001b[0m\u001b[0mtorch\u001b[0m\u001b[0;34m.\u001b[0m\u001b[0mindex_select\u001b[0m\u001b[0;34m(\u001b[0m\u001b[0my\u001b[0m\u001b[0;34m[\u001b[0m\u001b[0;36m0\u001b[0m\u001b[0;34m]\u001b[0m\u001b[0;34m,\u001b[0m\u001b[0mdim\u001b[0m\u001b[0;34m=\u001b[0m\u001b[0;36m0\u001b[0m\u001b[0;34m,\u001b[0m \u001b[0mindex\u001b[0m\u001b[0;34m=\u001b[0m\u001b[0mindices\u001b[0m\u001b[0;34m)\u001b[0m\u001b[0;34m\u001b[0m\u001b[0;34m\u001b[0m\u001b[0m\n",
            "\u001b[0;31mTypeError\u001b[0m: 'builtin_function_or_method' object is not subscriptable"
          ]
        }
      ]
    },
    {
      "cell_type": "code",
      "source": [],
      "metadata": {
        "id": "L1iR7g4VpLvZ"
      },
      "execution_count": null,
      "outputs": []
    }
  ]
}