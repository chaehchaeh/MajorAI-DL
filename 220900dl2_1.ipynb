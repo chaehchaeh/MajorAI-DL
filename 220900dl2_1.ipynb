{
  "nbformat": 4,
  "nbformat_minor": 0,
  "metadata": {
    "colab": {
      "provenance": [],
      "authorship_tag": "ABX9TyPnFlYiJ8+7AVTDN7KqnyHN",
      "include_colab_link": true
    },
    "kernelspec": {
      "name": "python3",
      "display_name": "Python 3"
    },
    "language_info": {
      "name": "python"
    }
  },
  "cells": [
    {
      "cell_type": "markdown",
      "metadata": {
        "id": "view-in-github",
        "colab_type": "text"
      },
      "source": [
        "<a href=\"https://colab.research.google.com/github/chaehchaeh/MajorAI-DL/blob/main/220900dl2_1.ipynb\" target=\"_parent\"><img src=\"https://colab.research.google.com/assets/colab-badge.svg\" alt=\"Open In Colab\"/></a>"
      ]
    },
    {
      "cell_type": "code",
      "execution_count": null,
      "metadata": {
        "id": "_xnYW1ynDTRw"
      },
      "outputs": [],
      "source": [
        "import torch"
      ]
    },
    {
      "cell_type": "markdown",
      "source": [
        "파이토치 텐서 형태 변환:View함수"
      ],
      "metadata": {
        "id": "HpUrlrZkGGrd"
      }
    },
    {
      "cell_type": "code",
      "source": [
        "#크기가 3*2*2인 파이토치 텐서 생성\n",
        "x=torch.FloatTensor([[[1,2],\n",
        "                      [3,4]],\n",
        "                     [[5,6],\n",
        "                      [7,8]],\n",
        "                     [[9,10],\n",
        "                      [11,12]]])\n",
        "print(x.size())"
      ],
      "metadata": {
        "colab": {
          "base_uri": "https://localhost:8080/"
        },
        "id": "PoxzTD2oGLVs",
        "outputId": "d6c0c4c6-0215-4fe8-cd51-266ee1a4d9a1"
      },
      "execution_count": null,
      "outputs": [
        {
          "output_type": "stream",
          "name": "stdout",
          "text": [
            "torch.Size([3, 2, 2])\n"
          ]
        }
      ]
    },
    {
      "cell_type": "code",
      "source": [
        "#View함수: 텐서 요소의 총 개수는 유지한 채 shape를 바꿀 수 있음\n",
        "print(x.view(12))#요소를 가져오는 순서:사전식"
      ],
      "metadata": {
        "colab": {
          "base_uri": "https://localhost:8080/"
        },
        "id": "JYFL4QKNGdJ9",
        "outputId": "506731e5-9920-4c87-ab97-f730897eba3c"
      },
      "execution_count": null,
      "outputs": [
        {
          "output_type": "stream",
          "name": "stdout",
          "text": [
            "tensor([ 1.,  2.,  3.,  4.,  5.,  6.,  7.,  8.,  9., 10., 11., 12.])\n"
          ]
        }
      ]
    },
    {
      "cell_type": "code",
      "source": [
        "print(x.view(3,1,4))#요소를 가져오는 순서: 사전식 순서로 요소를 가져와 3x1x4인 텐서를 구성함"
      ],
      "metadata": {
        "colab": {
          "base_uri": "https://localhost:8080/"
        },
        "id": "a0gVvhPEHmLf",
        "outputId": "02c2adfb-0798-413b-c3ad-4e281bccda07"
      },
      "execution_count": null,
      "outputs": [
        {
          "output_type": "stream",
          "name": "stdout",
          "text": [
            "tensor([[[ 1.,  2.,  3.,  4.]],\n",
            "\n",
            "        [[ 5.,  6.,  7.,  8.]],\n",
            "\n",
            "        [[ 9., 10., 11., 12.]]])\n"
          ]
        }
      ]
    },
    {
      "cell_type": "code",
      "source": [
        "#1활용하기: -1이 들어간 차원의 크기를 자동계산\n",
        "print(\"0번 차원의 크기가 12로 자동계산\")\n",
        "print(x.view(-1))\n",
        "print()\n",
        "print(\"1번 차원의 크기가 4로 자동계산\")\n",
        "print(x.view(3,-1))\n",
        "print()\n",
        "print(\"0번 차원의 크기가 3으로 자동계산\")\n",
        "print(x.view(-1,1,4))"
      ],
      "metadata": {
        "colab": {
          "base_uri": "https://localhost:8080/"
        },
        "id": "yedi8bnPH2WQ",
        "outputId": "fdb15fd8-11d2-4f5d-d9a8-901647ec6adc"
      },
      "execution_count": null,
      "outputs": [
        {
          "output_type": "stream",
          "name": "stdout",
          "text": [
            "0번 차원의 크기가 12로 자동계산\n",
            "tensor([ 1.,  2.,  3.,  4.,  5.,  6.,  7.,  8.,  9., 10., 11., 12.])\n",
            "\n",
            "1번 차원의 크기가 4로 자동계산\n",
            "tensor([[ 1.,  2.,  3.,  4.],\n",
            "        [ 5.,  6.,  7.,  8.],\n",
            "        [ 9., 10., 11., 12.]])\n",
            "\n",
            "0번 차원의 크기가 3으로 자동계산\n",
            "tensor([[[ 1.,  2.,  3.,  4.]],\n",
            "\n",
            "        [[ 5.,  6.,  7.,  8.]],\n",
            "\n",
            "        [[ 9., 10., 11., 12.]]])\n"
          ]
        }
      ]
    },
    {
      "cell_type": "code",
      "source": [
        "#view함수의 변환값은 같은 메모리(저장공간)를 공유하고 있기 때문에 아래 코드에서 y가 바뀌면 x도 바뀜\n",
        "y=x.view(3,4)\n",
        "x.storage().data_ptr()==y.storage().data_ptr()"
      ],
      "metadata": {
        "colab": {
          "base_uri": "https://localhost:8080/"
        },
        "id": "pWmqrtkBIL5u",
        "outputId": "69a2b84a-481f-41ad-840e-b6b516d2bfe8"
      },
      "execution_count": null,
      "outputs": [
        {
          "output_type": "execute_result",
          "data": {
            "text/plain": [
              "True"
            ]
          },
          "metadata": {},
          "execution_count": 8
        }
      ]
    },
    {
      "cell_type": "markdown",
      "source": [
        "###view함수 사용시 만날 수 있는 에러 메시지\n",
        "     RuntimeError:view size is not compatible with input tensor's size and stride\n",
        "     (at least one dimension spans across two contiguous subspaces). Use.reshape(...)instead.\n",
        "#### 해결방법1: contiguous함수 사용 후 view함수 호출\n",
        "(주의:텐서의 주소가 변경될 수 있음)\n",
        "#### 해결방법2: view함수 대신 reshape함수 이용(contiguous+view 효과)\n",
        "(주의: 텐서의 주소가 변경될 수 있음)\n",
        " print(x.reshape(3,4))\n",
        " -->tensor([[1.,2.,3.,4.],\n",
        " [5.,6.,7.,8.],\n",
        " [9.,10.,11.,12.]])"
      ],
      "metadata": {
        "id": "n-jyhpHPIvmB"
      }
    },
    {
      "cell_type": "markdown",
      "source": [
        "# 2. 파이토치 텐서 형태 변환: sqeeze함수"
      ],
      "metadata": {
        "id": "BJVpgFDPJzSw"
      }
    },
    {
      "cell_type": "code",
      "source": [
        "#크기가 1x2x2인 파이토치 텐서 생성\n",
        "x=torch.FloatTensor([[[1,2],\n",
        "                      [3,4]]])\n",
        "print(x.size())"
      ],
      "metadata": {
        "colab": {
          "base_uri": "https://localhost:8080/"
        },
        "id": "Qw-8QumyJklK",
        "outputId": "6bdae33a-de45-4c37-c20d-6135fdc72e7d"
      },
      "execution_count": null,
      "outputs": [
        {
          "output_type": "stream",
          "name": "stdout",
          "text": [
            "torch.Size([1, 2, 2])\n"
          ]
        }
      ]
    },
    {
      "cell_type": "code",
      "source": [
        "#squeeze함수: 크기가 1인 차원 없앨 수 있음\n",
        "print(x.squeeze())\n",
        "print(x.squeeze().size())"
      ],
      "metadata": {
        "colab": {
          "base_uri": "https://localhost:8080/"
        },
        "id": "_bBOusNXKAjC",
        "outputId": "a5c94750-ae66-4c17-98a2-321da7c0395c"
      },
      "execution_count": null,
      "outputs": [
        {
          "output_type": "stream",
          "name": "stdout",
          "text": [
            "tensor([[1., 2.],\n",
            "        [3., 4.]])\n",
            "torch.Size([2, 2])\n"
          ]
        }
      ]
    },
    {
      "cell_type": "code",
      "source": [
        "#원하는 차원을 지정해서 없앨 수 있음\n",
        "#단, 지정한 차원의 크기가 1이 아니면 없애지 못함\n",
        "print(x.squeeze(0).size())\n",
        "torch.Size([2,2])\n",
        "print(x.squeeze(1).size())\n",
        "torch.Size([1,2,2])"
      ],
      "metadata": {
        "colab": {
          "base_uri": "https://localhost:8080/"
        },
        "id": "QmEiRiHiKHyr",
        "outputId": "8086276d-1715-4f75-837d-7c21dba73b7c"
      },
      "execution_count": null,
      "outputs": [
        {
          "output_type": "stream",
          "name": "stdout",
          "text": [
            "torch.Size([2, 2])\n",
            "torch.Size([1, 2, 2])\n"
          ]
        },
        {
          "output_type": "execute_result",
          "data": {
            "text/plain": [
              "torch.Size([1, 2, 2])"
            ]
          },
          "metadata": {},
          "execution_count": 14
        }
      ]
    },
    {
      "cell_type": "markdown",
      "source": [
        "# 3. 파이토치 텐서 변환: unsqueeze함수"
      ],
      "metadata": {
        "id": "gG8WggV-K8Mn"
      }
    },
    {
      "cell_type": "code",
      "source": [
        "#크기가 2x2인 파이토치 텐서 생성\n",
        "x=torch.FloatTensor([[1,2],[3,4]])\n",
        "print(x.size())"
      ],
      "metadata": {
        "colab": {
          "base_uri": "https://localhost:8080/"
        },
        "id": "1yCJH_LJKu3U",
        "outputId": "057dd023-0679-48d5-b052-260f940e5284"
      },
      "execution_count": null,
      "outputs": [
        {
          "output_type": "stream",
          "name": "stdout",
          "text": [
            "torch.Size([2, 2])\n"
          ]
        }
      ]
    },
    {
      "cell_type": "code",
      "source": [
        "#지정한 차원에 크기가 1인 차원을 추가\n",
        "print(x.unsqueeze(1).size())\n",
        "print(x.unsqueeze(-1).size())\n",
        "print(x.unsqueeze(2).size())"
      ],
      "metadata": {
        "colab": {
          "base_uri": "https://localhost:8080/"
        },
        "id": "P57I13QSK480",
        "outputId": "b04765cf-2540-4875-812f-5dce89ce5396"
      },
      "execution_count": null,
      "outputs": [
        {
          "output_type": "stream",
          "name": "stdout",
          "text": [
            "torch.Size([2, 1, 2])\n",
            "torch.Size([2, 2, 1])\n",
            "torch.Size([2, 2, 1])\n"
          ]
        }
      ]
    },
    {
      "cell_type": "code",
      "source": [
        "#참고: reshape 함수를 이용해서도 가능함\n",
        "print(x.reshape(2,2,-1).size())"
      ],
      "metadata": {
        "colab": {
          "base_uri": "https://localhost:8080/"
        },
        "id": "j6OyLDgpLNYu",
        "outputId": "8e7b4df6-c270-4cd5-d355-3fcd5add4c89"
      },
      "execution_count": null,
      "outputs": [
        {
          "output_type": "stream",
          "name": "stdout",
          "text": [
            "torch.Size([2, 2, 1])\n"
          ]
        }
      ]
    },
    {
      "cell_type": "markdown",
      "source": [
        "# 4. 파이토치 텐서 자르기:인덱싱과 슬라이싱"
      ],
      "metadata": {
        "id": "MBWh4BtmLYw-"
      }
    },
    {
      "cell_type": "code",
      "source": [
        "#크기가 3x2x2인 파이토치 텐서 생성\n",
        "x=torch.FloatTensor([[[1,2],\n",
        "                      [3,4]],\n",
        "                     [[5,6],\n",
        "                      [7,8]],\n",
        "                     [[9,10],\n",
        "                      [11,12]]])\n",
        "print(x.size())"
      ],
      "metadata": {
        "colab": {
          "base_uri": "https://localhost:8080/"
        },
        "id": "MztKO1RXLXO7",
        "outputId": "44f44e32-29a7-441e-abdd-82950b28812e"
      },
      "execution_count": null,
      "outputs": [
        {
          "output_type": "stream",
          "name": "stdout",
          "text": [
            "torch.Size([3, 2, 2])\n"
          ]
        }
      ]
    },
    {
      "cell_type": "code",
      "source": [
        "#텐서의 0번차원의 0번 인덱스 슬라이싱\n",
        "print(x[0])"
      ],
      "metadata": {
        "colab": {
          "base_uri": "https://localhost:8080/"
        },
        "id": "MKsh_cZ-LpX2",
        "outputId": "3865bd9d-d9a3-4a23-d832-4c196f264e0b"
      },
      "execution_count": null,
      "outputs": [
        {
          "output_type": "stream",
          "name": "stdout",
          "text": [
            "tensor([[1., 2.],\n",
            "        [3., 4.]])\n"
          ]
        }
      ]
    },
    {
      "cell_type": "code",
      "source": [
        "#텐서의 0번 차원의 마지막 인덱스 슬라이싱\n",
        "print(x[-1])"
      ],
      "metadata": {
        "colab": {
          "base_uri": "https://localhost:8080/"
        },
        "id": "jGsNKCKKPOkX",
        "outputId": "8162fedf-f57e-4f0c-acaa-f424164349d6"
      },
      "execution_count": null,
      "outputs": [
        {
          "output_type": "stream",
          "name": "stdout",
          "text": [
            "tensor([[ 9., 10.],\n",
            "        [11., 12.]])\n"
          ]
        }
      ]
    },
    {
      "cell_type": "code",
      "source": [
        "#텐서의 1번차원의 0번 인덱스 슬라이싱\n",
        "print(x[:,0])"
      ],
      "metadata": {
        "colab": {
          "base_uri": "https://localhost:8080/"
        },
        "id": "BRIwFd52PhBt",
        "outputId": "7f12e3c3-caf1-4fa5-9b4d-36739bd53221"
      },
      "execution_count": null,
      "outputs": [
        {
          "output_type": "stream",
          "name": "stdout",
          "text": [
            "tensor([[ 1.,  2.],\n",
            "        [ 5.,  6.],\n",
            "        [ 9., 10.]])\n"
          ]
        }
      ]
    },
    {
      "cell_type": "code",
      "source": [
        "#궁금증1: 다음 슬라이싱의 결과는?\n",
        "print(x[1:2,1:,:].size())"
      ],
      "metadata": {
        "colab": {
          "base_uri": "https://localhost:8080/"
        },
        "id": "D3EBvRPVPlsf",
        "outputId": "7db03005-60b8-4009-ea9e-046eef12e976"
      },
      "execution_count": null,
      "outputs": [
        {
          "output_type": "stream",
          "name": "stdout",
          "text": [
            "torch.Size([1, 1, 2])\n"
          ]
        }
      ]
    },
    {
      "cell_type": "markdown",
      "source": [
        "# 파이토치 텐서 자르기: split함수"
      ],
      "metadata": {
        "id": "cCRVMyCjQGJw"
      }
    },
    {
      "cell_type": "code",
      "source": [
        "#split함수: 지정한 차원이 원하는 크기가 되도록 등분함\n",
        "x=torch.FloatTensor(10,4)\n",
        "splits=x.split(4,dim=0)\n",
        "for s in splits:\n",
        "    print(s.size())"
      ],
      "metadata": {
        "colab": {
          "base_uri": "https://localhost:8080/"
        },
        "id": "vP7fug7mPxnl",
        "outputId": "f18e4179-1bb9-4167-e9f6-2a9b156f86b4"
      },
      "execution_count": null,
      "outputs": [
        {
          "output_type": "stream",
          "name": "stdout",
          "text": [
            "torch.Size([4, 4])\n",
            "torch.Size([4, 4])\n",
            "torch.Size([2, 4])\n"
          ]
        }
      ]
    },
    {
      "cell_type": "markdown",
      "source": [
        "파이토치 텐서 자르기: chunk함수"
      ],
      "metadata": {
        "id": "kXHv0Ve3QKCs"
      }
    },
    {
      "cell_type": "code",
      "source": [
        "#chunk함수: 지정된 개수로 텐서를 나눔\n",
        "x=torch.FloatTensor(8,4)\n",
        "chunks=x.chunk(3,dim=0)\n",
        "\n",
        "for c in chunks:\n",
        "        print(c.size())"
      ],
      "metadata": {
        "colab": {
          "base_uri": "https://localhost:8080/"
        },
        "id": "6oVVORDgP9R8",
        "outputId": "885baee4-a8ca-4d6b-d6ac-bc3688686b8b"
      },
      "execution_count": null,
      "outputs": [
        {
          "output_type": "stream",
          "name": "stdout",
          "text": [
            "torch.Size([3, 4])\n",
            "torch.Size([3, 4])\n",
            "torch.Size([2, 4])\n"
          ]
        }
      ]
    },
    {
      "cell_type": "markdown",
      "source": [
        "# 파이토치 텐서 자르기: index_select함수"
      ],
      "metadata": {
        "id": "h65NBmPdQc0f"
      }
    },
    {
      "cell_type": "code",
      "source": [
        "#3x2x2크기의 파이토치 텐서 생성\n",
        "#숫자 2와 1을 포함하는 1차원 정수형 텐서 생성\n",
        "x=torch.FloatTensor([[[1,1],\n",
        "                     [2,2]],\n",
        "                    [[3,3],\n",
        "                     [4,4]],\n",
        "                    [[5,5],\n",
        "                     [6,6]]])\n",
        "indice=torch.LongTensor([2,1])\n",
        "print(x.size())"
      ],
      "metadata": {
        "colab": {
          "base_uri": "https://localhost:8080/"
        },
        "id": "8CsjMknlQZJO",
        "outputId": "c805c724-0100-4197-f66a-1055b1a0c672"
      },
      "execution_count": null,
      "outputs": [
        {
          "output_type": "stream",
          "name": "stdout",
          "text": [
            "torch.Size([3, 2, 2])\n"
          ]
        }
      ]
    },
    {
      "cell_type": "code",
      "source": [
        "#index_select함수: 원하는 인덱스의 값만을 추출\n",
        "y=x.index_select(dim=0,index=indice)\n",
        "print(y)\n",
        "print(y.size())"
      ],
      "metadata": {
        "colab": {
          "base_uri": "https://localhost:8080/"
        },
        "id": "yMLRWLwwQ8CH",
        "outputId": "6a78810a-db40-4c15-b89e-0e09f45b5386"
      },
      "execution_count": null,
      "outputs": [
        {
          "output_type": "stream",
          "name": "stdout",
          "text": [
            "tensor([[[5., 5.],\n",
            "         [6., 6.]],\n",
            "\n",
            "        [[3., 3.],\n",
            "         [4., 4.]]])\n",
            "torch.Size([2, 2, 2])\n"
          ]
        }
      ]
    },
    {
      "cell_type": "code",
      "source": [
        "#궁금증2: 무슨일이 벌어진 걸까?\n",
        "indice=torch.LongTensor([2,1])\n",
        "y=x.index_select(dim=0,index=indice)\n",
        "print(y)\n",
        "print(y.size())"
      ],
      "metadata": {
        "id": "tZ6sIRUARF4u"
      },
      "execution_count": null,
      "outputs": []
    },
    {
      "cell_type": "markdown",
      "source": [
        "파이토치 텐서 붙이기: CAT함수"
      ],
      "metadata": {
        "id": "uiAKjFpBRUqd"
      }
    },
    {
      "cell_type": "code",
      "source": [
        "#크기가 각각 3x3인 두개의 파이토치 텐서 생성\n",
        "x=torch.FloatTensor([[1,2,3],\n",
        "                     [4,5,6],\n",
        "                     [7,8,9]])\n",
        "y=torch.FloatTensor([[10,11,12],\n",
        "                     [13,14,15],\n",
        "                     [16,17,18]])\n",
        "print(x.size(),y.size())"
      ],
      "metadata": {
        "colab": {
          "base_uri": "https://localhost:8080/"
        },
        "id": "Yt5pYkh1W7TX",
        "outputId": "8ff0a178-fd4b-4bff-9787-6820a5a8c6eb"
      },
      "execution_count": null,
      "outputs": [
        {
          "output_type": "stream",
          "name": "stdout",
          "text": [
            "torch.Size([3, 3]) torch.Size([3, 3])\n"
          ]
        }
      ]
    },
    {
      "cell_type": "code",
      "source": [
        "#cat함수: 지정한 차원으로 텐서 붙이기\n",
        "z=torch.cat([x,y],dim=0)\n",
        "print(z)\n",
        "print(z.size())"
      ],
      "metadata": {
        "colab": {
          "base_uri": "https://localhost:8080/"
        },
        "id": "6d7NF7kSXMi3",
        "outputId": "e98dc84d-851b-4a80-fab6-6668a3c3f6cc"
      },
      "execution_count": null,
      "outputs": [
        {
          "output_type": "stream",
          "name": "stdout",
          "text": [
            "tensor([[ 1.,  2.,  3.],\n",
            "        [ 4.,  5.,  6.],\n",
            "        [ 7.,  8.,  9.],\n",
            "        [10., 11., 12.],\n",
            "        [13., 14., 15.],\n",
            "        [16., 17., 18.]])\n",
            "torch.Size([6, 3])\n"
          ]
        }
      ]
    },
    {
      "cell_type": "code",
      "source": [
        "#0번차원으로 3x3크기의 두 텐서를 붙임(위아래)\n",
        "#차원을 -1로 지정함으로써 마지막 차원으로 두 텐서 붙이기\n",
        "z=torch.cat([x,y],dim=-1)\n",
        "print(z)\n",
        "print(z.size())"
      ],
      "metadata": {
        "colab": {
          "base_uri": "https://localhost:8080/"
        },
        "id": "NS8cyQPha0Sj",
        "outputId": "f04cfa32-14ba-46ab-ee17-db5cbeb5aa54"
      },
      "execution_count": null,
      "outputs": [
        {
          "output_type": "stream",
          "name": "stdout",
          "text": [
            "tensor([[ 1.,  2.,  3., 10., 11., 12.],\n",
            "        [ 4.,  5.,  6., 13., 14., 15.],\n",
            "        [ 7.,  8.,  9., 16., 17., 18.]])\n",
            "torch.Size([3, 6])\n"
          ]
        }
      ]
    },
    {
      "cell_type": "markdown",
      "source": [
        "붙이고자 하는 차원이외의 차원의 크기가 서로 맞지 않으면 붙일 수 없음\n",
        "\n",
        "예) 1번 차원으로 두 2d 텐서를 붙이려 할 때, 나머지 차원의 크기가 다른 경우"
      ],
      "metadata": {
        "id": "NloRvOsvbKya"
      }
    },
    {
      "cell_type": "markdown",
      "source": [
        "# 파이토치 텐서 붙이기: stack함수"
      ],
      "metadata": {
        "id": "vONIUDtzbbmz"
      }
    },
    {
      "cell_type": "code",
      "source": [
        "#크기가 각각 3x3인 두 개의 파이토치 텐서 생성\n",
        "x=torch.FloatTensor([[1,2,3,],\n",
        "                     [4,5,6],\n",
        "                     [7,8,9]])\n",
        "y=torch.FloatTensor([[10,11,12],\n",
        "                     [13,14,15],\n",
        "                     [16,17,18]])\n",
        "print(x.size(),y.size())"
      ],
      "metadata": {
        "colab": {
          "base_uri": "https://localhost:8080/"
        },
        "id": "ySvrv0tja5u_",
        "outputId": "60e76bc1-e995-47ae-c34e-be3d5807ff12"
      },
      "execution_count": null,
      "outputs": [
        {
          "output_type": "stream",
          "name": "stdout",
          "text": [
            "torch.Size([3, 3]) torch.Size([3, 3])\n"
          ]
        }
      ]
    },
    {
      "cell_type": "code",
      "source": [
        "#stack함수: 텐서를 쌓아 더 높은 차원의 텐서를 생성\n",
        "z=torch.stack([x,y])\n",
        "print(z)\n",
        "print(z.size())"
      ],
      "metadata": {
        "colab": {
          "base_uri": "https://localhost:8080/"
        },
        "id": "cPGBlBoieCDj",
        "outputId": "a10003d4-d05c-4c86-bea2-78f9660923fa"
      },
      "execution_count": null,
      "outputs": [
        {
          "output_type": "stream",
          "name": "stdout",
          "text": [
            "tensor([[[ 1.,  2.,  3.],\n",
            "         [ 4.,  5.,  6.],\n",
            "         [ 7.,  8.,  9.]],\n",
            "\n",
            "        [[10., 11., 12.],\n",
            "         [13., 14., 15.],\n",
            "         [16., 17., 18.]]])\n",
            "torch.Size([2, 3, 3])\n"
          ]
        }
      ]
    },
    {
      "cell_type": "code",
      "source": [
        "#쌓고자 하는 차원을 지정할 수 있음\n",
        "z=torch.stack([x,y],dim=-1)\n",
        "print(z)\n",
        "print(z.size())"
      ],
      "metadata": {
        "colab": {
          "base_uri": "https://localhost:8080/"
        },
        "id": "dfe9XYfFj3pw",
        "outputId": "ca452c34-2146-4593-df73-5f5e241b0abb"
      },
      "execution_count": null,
      "outputs": [
        {
          "output_type": "stream",
          "name": "stdout",
          "text": [
            "tensor([[[ 1., 10.],\n",
            "         [ 2., 11.],\n",
            "         [ 3., 12.]],\n",
            "\n",
            "        [[ 4., 13.],\n",
            "         [ 5., 14.],\n",
            "         [ 6., 15.]],\n",
            "\n",
            "        [[ 7., 16.],\n",
            "         [ 8., 17.],\n",
            "         [ 9., 18.]]])\n",
            "torch.Size([3, 3, 2])\n"
          ]
        }
      ]
    },
    {
      "cell_type": "markdown",
      "source": [
        "#연습문제#\n",
        "###연습문제1 궁금증1을 해결하시오\n",
        "###문제2 궁금증2를 해결하시오\n",
        "###문제3 unsqueeze, cat함수를 이용하여 다음 stack함수와 같은 결과가 나오도록 빈칸을 채우시오\n",
        "d=0\n",
        "\n",
        "z=torch.stack([x,y],dim=d)\n",
        "\n",
        "----------빈칸--------------  \n",
        "\n",
        "print(z)\n",
        "\n",
        "    tensor([[[1.,2.,3.],\n",
        "            [4.,5.,6.],\n",
        "            [7.,8.,9.]],\n",
        "\n",
        "            [[10.,11.,12.],\n",
        "            [13.,14.,15.],\n",
        "            [16.,17.,18.]]])\n",
        "print(z.size())\n",
        "\n",
        "    torch.size([2,3,3])\n",
        "###문제4 다음 코드의 실행이 완료되었을 때 텐서 result의 크기는 무엇인가?\n",
        "    result=[]\n",
        "    for i in range(5):\n",
        "        x=torch.FloatTensor(2,2)\n",
        "        result += [x]\n",
        "    result=torch.stack(result)\n",
        "\n",
        "###문제5 크기가 3x3x3인 임의의 수들로 이루어진 두 개의 텐서를 쌓아 2x3x3x3크기의 텐서를 생성하는 프로그램을 작성하시오.\n",
        "\n",
        "###문제5에서 생성한 4차원 텐서를 다시 두개의 3차원 텐서로 분리하는 코드를 작성하시오\n"
      ],
      "metadata": {
        "id": "5ApGy6z_kwNQ"
      }
    }
  ]
}