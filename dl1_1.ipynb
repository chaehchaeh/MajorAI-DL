{
  "nbformat": 4,
  "nbformat_minor": 0,
  "metadata": {
    "colab": {
      "provenance": [],
      "authorship_tag": "ABX9TyMFsjrKvqVemfm3zZpzv0Ix",
      "include_colab_link": true
    },
    "kernelspec": {
      "name": "python3",
      "display_name": "Python 3"
    },
    "language_info": {
      "name": "python"
    }
  },
  "cells": [
    {
      "cell_type": "markdown",
      "metadata": {
        "id": "view-in-github",
        "colab_type": "text"
      },
      "source": [
        "<a href=\"https://colab.research.google.com/github/chaehchaeh/MajorAI-DL/blob/main/dl1_1.ipynb\" target=\"_parent\"><img src=\"https://colab.research.google.com/assets/colab-badge.svg\" alt=\"Open In Colab\"/></a>"
      ]
    },
    {
      "cell_type": "code",
      "execution_count": null,
      "metadata": {
        "id": "H1D5hPmWEWx-"
      },
      "outputs": [],
      "source": [
        "###딥러닝이란?\n",
        "    #심층신경망(DNN)을 학습시켜 인공지능을 갖도록 한 뒤 이를 이용해 문제를 해결하는 것으로 머신러닝의 일종\n",
        "    #수학적으로 y=f(x)처럼 X가 입력으로 주어졌을 때 Y를 반환하는 함수로 간주할 수 있음\n",
        "    # f가 특정한 방식으로 동작하도록 데이터를 이용해 파라미터를 학습시킴\n",
        "###머신러닝VS딥러닝?\n",
        "    #ML: input->feature extraction(인간)->classification(컴퓨터)->Output\n",
        "    #DL: input-> 특성추출과 분류(컴퓨터)->출력/ 정보를 저니달하는 신경망을 사용하여 데이터의 특징 및 관계를 해석한다\n",
        "###머신러닝 학습의 종류\n",
        "    #지도학습(supervised Learning): classification/regression\n",
        "    #비지도학습:clustering/dimensionality reduction\n",
        "    #강화학습(reinforcement learning): agent 변화하는 환경에 따라 행동을 취하면서 보상을 얻게되며, 보상이 큰 행동을 더 자주하도록 학습진행\n",
        "###딥러닝 학습의 종류\n",
        "    #지도학습: 이미지분류/시계열 데이터 분석\n",
        "    #비지도학습: 군집/차원축소\n",
        "    #전이학습(transfer learning): 전이학습\n",
        "    #강화학습\n"
      ]
    },
    {
      "cell_type": "code",
      "source": [
        "#파이토치의 기본단위:tensor\n",
        "#파이토치 불러오기\n",
        "import torch\n",
        "#임의의 값으로 채워진 원하는 크기의 텐서 생성\n",
        "x=torch.FloatTensor(3,2)\n",
        "x"
      ],
      "metadata": {
        "colab": {
          "base_uri": "https://localhost:8080/"
        },
        "id": "cEtS7HSygQas",
        "outputId": "352b6eb0-fa02-4b4a-9791-34009e965d23"
      },
      "execution_count": null,
      "outputs": [
        {
          "output_type": "execute_result",
          "data": {
            "text/plain": [
              "tensor([[3.5839e-35, 0.0000e+00],\n",
              "        [3.7835e-44, 0.0000e+00],\n",
              "        [       nan, 0.0000e+00]])"
            ]
          },
          "metadata": {},
          "execution_count": 2
        }
      ]
    },
    {
      "cell_type": "code",
      "source": [
        "#long타입과 Byte타입 텐서 생성\n",
        "lt=torch.LongTensor([[1,2],\n",
        "                     [3,4]])\n",
        "bt=torch.ByteTensor([[1,0],\n",
        "                     [0,1]])\n",
        "\n",
        "#텐서의 타입변환\n",
        "ft.long()\n",
        "tensor([[1,2],\n",
        "        [3,4]])\n",
        "lt.float()\n",
        "tensor([[1.,2.],\n",
        "        [3.,4.]])"
      ],
      "metadata": {
        "colab": {
          "base_uri": "https://localhost:8080/",
          "height": 245
        },
        "id": "NoSN-kpVogSn",
        "outputId": "2b3008fb-7fbd-435c-cfa2-597e4c790c57"
      },
      "execution_count": null,
      "outputs": [
        {
          "output_type": "error",
          "ename": "NameError",
          "evalue": "ignored",
          "traceback": [
            "\u001b[0;31m---------------------------------------------------------------------------\u001b[0m",
            "\u001b[0;31mNameError\u001b[0m                                 Traceback (most recent call last)",
            "\u001b[0;32m<ipython-input-5-950c784c3693>\u001b[0m in \u001b[0;36m<module>\u001b[0;34m\u001b[0m\n\u001b[1;32m      6\u001b[0m \u001b[0;34m\u001b[0m\u001b[0m\n\u001b[1;32m      7\u001b[0m \u001b[0;31m#텐서의 타입변환\u001b[0m\u001b[0;34m\u001b[0m\u001b[0;34m\u001b[0m\u001b[0;34m\u001b[0m\u001b[0m\n\u001b[0;32m----> 8\u001b[0;31m \u001b[0mft\u001b[0m\u001b[0;34m.\u001b[0m\u001b[0mlong\u001b[0m\u001b[0;34m(\u001b[0m\u001b[0;34m)\u001b[0m\u001b[0;34m\u001b[0m\u001b[0;34m\u001b[0m\u001b[0m\n\u001b[0m\u001b[1;32m      9\u001b[0m tensor([[1,2],\n\u001b[1;32m     10\u001b[0m         [3,4]])\n",
            "\u001b[0;31mNameError\u001b[0m: name 'ft' is not defined"
          ]
        }
      ]
    },
    {
      "cell_type": "code",
      "source": [
        "#넘파이 배열 생성\n",
        "import numpy as np\n",
        "x=np.array([[1,2],\n",
        "            [3,4]])#define numpy array\n",
        "print(x,type(x))"
      ],
      "metadata": {
        "colab": {
          "base_uri": "https://localhost:8080/"
        },
        "id": "X-bI-AncozsH",
        "outputId": "b8eac67e-1a49-420b-e1c4-3482220ac2d3"
      },
      "execution_count": null,
      "outputs": [
        {
          "output_type": "stream",
          "name": "stdout",
          "text": [
            "[[1 2]\n",
            " [3 4]] <class 'numpy.ndarray'>\n"
          ]
        }
      ]
    },
    {
      "cell_type": "code",
      "source": [
        "#넘파이 배열을 파이토치 텐서로 변환\n",
        "x=torch.from_numpy(x)\n",
        "print(x,type(x))"
      ],
      "metadata": {
        "colab": {
          "base_uri": "https://localhost:8080/"
        },
        "id": "HofUq8d5o5C3",
        "outputId": "0f01bff7-ed67-4870-a5da-db9847e382e5"
      },
      "execution_count": null,
      "outputs": [
        {
          "output_type": "stream",
          "name": "stdout",
          "text": [
            "tensor([[1, 2],\n",
            "        [3, 4]]) <class 'torch.Tensor'>\n"
          ]
        }
      ]
    },
    {
      "cell_type": "code",
      "source": [
        "#파이토치 텐서를 넘파이 배열로 변환\n",
        "x=x.numpy()\n",
        "print(x,type(x))"
      ],
      "metadata": {
        "colab": {
          "base_uri": "https://localhost:8080/"
        },
        "id": "UBBkTgwnrIDf",
        "outputId": "1a30cbb7-386f-4658-c846-2efe2c67e7cd"
      },
      "execution_count": null,
      "outputs": [
        {
          "output_type": "stream",
          "name": "stdout",
          "text": [
            "[[1 2]\n",
            " [3 4]] <class 'numpy.ndarray'>\n"
          ]
        }
      ]
    },
    {
      "cell_type": "code",
      "source": [
        "#텐서의 크기구하기\n",
        "x=torch.FloatTensor([[[1,2],\n",
        "                     [3,4]],\n",
        "                     [[5,6],\n",
        "                     [7,8]],\n",
        "                    [[9,10],\n",
        "                     [11,12]]])\n",
        "print(x.size())\n",
        "print(x.shape)"
      ],
      "metadata": {
        "colab": {
          "base_uri": "https://localhost:8080/"
        },
        "id": "VEA4a2OGrOln",
        "outputId": "a28e4673-0f3f-464d-c546-edde93486e30"
      },
      "execution_count": null,
      "outputs": [
        {
          "output_type": "stream",
          "name": "stdout",
          "text": [
            "torch.Size([3, 2, 2])\n",
            "torch.Size([3, 2, 2])\n"
          ]
        }
      ]
    },
    {
      "cell_type": "code",
      "source": [
        "#텐서의 특정차원의 크기 접근\n",
        "print(x.size(1))\n",
        "print(x.shape[1])\n",
        "print(x.size(-1))\n",
        "print(x.shape[-1])"
      ],
      "metadata": {
        "colab": {
          "base_uri": "https://localhost:8080/"
        },
        "id": "V1oTlfh5raQV",
        "outputId": "ad5bdfbe-e535-4efc-e737-1d84211a236a"
      },
      "execution_count": null,
      "outputs": [
        {
          "output_type": "stream",
          "name": "stdout",
          "text": [
            "2\n",
            "2\n",
            "2\n",
            "2\n"
          ]
        }
      ]
    },
    {
      "cell_type": "code",
      "source": [
        "#텐서 차원의 갯수\n",
        "print(x.dim())\n",
        "print(len(x.size()))"
      ],
      "metadata": {
        "colab": {
          "base_uri": "https://localhost:8080/"
        },
        "id": "D4-G9Ep0sZdU",
        "outputId": "e7f69eed-8110-4812-9c46-5ccc4105b932"
      },
      "execution_count": null,
      "outputs": [
        {
          "output_type": "stream",
          "name": "stdout",
          "text": [
            "3\n",
            "3\n"
          ]
        }
      ]
    },
    {
      "cell_type": "code",
      "source": [
        "#텐서의 덧셈\n",
        "a=torch.FloatTensor([[1,2],[3,4]])\n",
        "b=torch.FloatTensor([[2,2],[3,3]])\n",
        "print(a+b)"
      ],
      "metadata": {
        "colab": {
          "base_uri": "https://localhost:8080/"
        },
        "id": "SdoTw0VtsmOT",
        "outputId": "ef2be0c5-b845-4b94-944c-c27bc166f72a"
      },
      "execution_count": null,
      "outputs": [
        {
          "output_type": "stream",
          "name": "stdout",
          "text": [
            "tensor([[3., 4.],\n",
            "        [6., 7.]])\n"
          ]
        }
      ]
    },
    {
      "cell_type": "code",
      "source": [
        "#텐서의 뺄셈, 곱셈, 나눗셈\n",
        "a=torch.FloatTensor([[1,2],[3,4]])\n",
        "b=torch.FloatTensor([[2,2],[3,3]])\n",
        "print(a-b)#뺄셈\n",
        "print(a*b)#곱셈\n",
        "print(a/b)#나눗셈"
      ],
      "metadata": {
        "colab": {
          "base_uri": "https://localhost:8080/"
        },
        "id": "bKjo_3vys08H",
        "outputId": "8b5b3b9e-e12e-442c-9606-d0652cb2bdcf"
      },
      "execution_count": null,
      "outputs": [
        {
          "output_type": "stream",
          "name": "stdout",
          "text": [
            "tensor([[-1.,  0.],\n",
            "        [ 0.,  1.]])\n",
            "tensor([[ 2.,  4.],\n",
            "        [ 9., 12.]])\n",
            "tensor([[0.5000, 1.0000],\n",
            "        [1.0000, 1.3333]])\n"
          ]
        }
      ]
    },
    {
      "cell_type": "code",
      "source": [
        "#텐서의 거듭제곱\n",
        "a=torch.FloatTensor([[1,2],[3,4]])\n",
        "b=torch.FloatTensor([[2,2],[3,3]])\n",
        "print(a**b)"
      ],
      "metadata": {
        "colab": {
          "base_uri": "https://localhost:8080/"
        },
        "id": "As3ImuAmtOyR",
        "outputId": "00fb544a-7ab4-41aa-ec0d-1374bd992615"
      },
      "execution_count": null,
      "outputs": [
        {
          "output_type": "stream",
          "name": "stdout",
          "text": [
            "tensor([[ 1.,  4.],\n",
            "        [27., 64.]])\n"
          ]
        }
      ]
    },
    {
      "cell_type": "code",
      "source": [
        "#텐서의 논리연산\n",
        "a=torch.FloatTensor([[1,2],[3,4]])\n",
        "b=torch.FloatTensor([[2,2],[3,3]])\n",
        "print(a==b)\n",
        "print(a!=b)"
      ],
      "metadata": {
        "colab": {
          "base_uri": "https://localhost:8080/"
        },
        "id": "g6GHqK8u1UOR",
        "outputId": "914e134b-a603-42e1-d315-532c4f48e96a"
      },
      "execution_count": null,
      "outputs": [
        {
          "output_type": "stream",
          "name": "stdout",
          "text": [
            "tensor([[False,  True],\n",
            "        [ True, False]])\n",
            "tensor([[ True, False],\n",
            "        [False,  True]])\n"
          ]
        }
      ]
    },
    {
      "cell_type": "code",
      "source": [
        "#텐서의 인플레이스 연산: 기존의 텐서가 연산결과로 대체됨\n",
        "a=torch.FloatTensor([[1,2],[3,4]])\n",
        "b=torch.FloatTensor([[2,2],[3,3]])\n",
        "print(\"기존연산\")\n",
        "print(a.mul(b))\n",
        "print(a)\n",
        "print()\n",
        "print(\"인플레이스 연산\")\n",
        "print(a.mul_(b))\n",
        "print(a)"
      ],
      "metadata": {
        "colab": {
          "base_uri": "https://localhost:8080/"
        },
        "id": "mF7bKHMJ1hof",
        "outputId": "f7f2b759-a19c-480a-d727-3a209d92ac4e"
      },
      "execution_count": null,
      "outputs": [
        {
          "output_type": "stream",
          "name": "stdout",
          "text": [
            "기존연산\n",
            "tensor([[ 2.,  4.],\n",
            "        [ 9., 12.]])\n",
            "tensor([[1., 2.],\n",
            "        [3., 4.]])\n",
            "\n",
            "인플레이스 연산\n",
            "tensor([[ 2.,  4.],\n",
            "        [ 9., 12.]])\n",
            "tensor([[ 2.,  4.],\n",
            "        [ 9., 12.]])\n"
          ]
        }
      ]
    },
    {
      "cell_type": "code",
      "source": [
        "x=torch.FloatTensor([[1,2],[3,4]])\n",
        "print(\"텐서 요소의 전체 합과 평균\")\n",
        "print(x.sum())\n",
        "print(x.mean())\n",
        "print()\n",
        "print(\"텐서 세로축(dim=0)에 대해 합 연산\")\n",
        "print(x.sum(dim=0))\n",
        "print()\n",
        "print(\"텐서 마지막 차원(dim=-1)에 대해 합 연산\")\n",
        "print(x.sum(dim=-1))"
      ],
      "metadata": {
        "colab": {
          "base_uri": "https://localhost:8080/"
        },
        "id": "nnzZOrEp42zj",
        "outputId": "cd8ae86e-e952-4b15-c4c4-91ad6c658403"
      },
      "execution_count": null,
      "outputs": [
        {
          "output_type": "stream",
          "name": "stdout",
          "text": [
            "텐서 요소의 전체 합과 평균\n",
            "tensor(10.)\n",
            "tensor(2.5000)\n",
            "\n",
            "텐서 세로축(dim=0)에 대해 합 연산\n",
            "tensor([4., 6.])\n",
            "\n",
            "텐서 마지막 차원(dim=-1)에 대해 합 연산\n",
            "tensor([3., 7.])\n"
          ]
        }
      ]
    },
    {
      "cell_type": "code",
      "source": [
        "#브로드 캐스트 연산:텐서+스칼라\n",
        "x=torch.FloatTensor([[1,2],[3,4]])\n",
        "y=1\n",
        "z=x+y\n",
        "print(z)\n",
        "print(z.size())"
      ],
      "metadata": {
        "colab": {
          "base_uri": "https://localhost:8080/"
        },
        "id": "DmHeQ06eIgZf",
        "outputId": "e7078e74-35be-4bbe-93b1-013cbf3f8d6f"
      },
      "execution_count": null,
      "outputs": [
        {
          "output_type": "stream",
          "name": "stdout",
          "text": [
            "tensor([[2., 3.],\n",
            "        [4., 5.]])\n",
            "torch.Size([2, 2])\n"
          ]
        }
      ]
    },
    {
      "cell_type": "code",
      "source": [
        "#브로드 캐스트 연산:텐서(2d)+벡터\n",
        "x=torch.FloatTensor([[1,2],[4,8]])\n",
        "y=torch.FloatTensor([3,5])\n",
        "print(x.size())\n",
        "print(y.size())\n",
        "z=x+y\n",
        "print(z)\n",
        "print(z.size())"
      ],
      "metadata": {
        "colab": {
          "base_uri": "https://localhost:8080/"
        },
        "id": "rtrClK_tJoH7",
        "outputId": "cb6d086c-7a88-41b7-8a17-0d2560cbcaf6"
      },
      "execution_count": null,
      "outputs": [
        {
          "output_type": "stream",
          "name": "stdout",
          "text": [
            "torch.Size([2, 2])\n",
            "torch.Size([2])\n",
            "tensor([[ 4.,  7.],\n",
            "        [ 7., 13.]])\n",
            "torch.Size([2, 2])\n"
          ]
        }
      ]
    },
    {
      "cell_type": "code",
      "source": [
        "#브로드 캐스트 연산:텐서(3D)+벡터\n",
        "x=torch.FloatTensor([[[1,2]]])\n",
        "y=torch.FloatTensor([3,5])\n",
        "print(x.size())\n",
        "print(y.size())\n",
        "z=x+y\n",
        "print(z)\n",
        "print(z.size())"
      ],
      "metadata": {
        "colab": {
          "base_uri": "https://localhost:8080/"
        },
        "id": "AIOYxAsUNArZ",
        "outputId": "db7f532c-1482-4269-ef95-6edabc94e4e2"
      },
      "execution_count": null,
      "outputs": [
        {
          "output_type": "stream",
          "name": "stdout",
          "text": [
            "torch.Size([1, 1, 2])\n",
            "torch.Size([2])\n",
            "tensor([[[4., 7.]]])\n",
            "torch.Size([1, 1, 2])\n"
          ]
        }
      ]
    },
    {
      "cell_type": "code",
      "source": [
        "#브로드캐스트 연산:텐서(2d)+텐서(2d)\n",
        "x=torch.FloatTensor([[1,2]])\n",
        "y=torch.FloatTensor([[3],[5]])\n",
        "print(x.size())\n",
        "print(y.size())\n",
        "z=x+y\n",
        "print(z)\n",
        "print(z.size())"
      ],
      "metadata": {
        "colab": {
          "base_uri": "https://localhost:8080/"
        },
        "id": "5tLO_blxVNH0",
        "outputId": "c5412027-f035-4c12-918d-afc4cc638a7d"
      },
      "execution_count": null,
      "outputs": [
        {
          "output_type": "stream",
          "name": "stdout",
          "text": [
            "torch.Size([1, 2])\n",
            "torch.Size([2, 1])\n",
            "tensor([[4., 5.],\n",
            "        [6., 7.]])\n",
            "torch.Size([2, 2])\n"
          ]
        }
      ]
    },
    {
      "cell_type": "code",
      "source": [
        "#####연습문제####\n",
        "#다음과 같은 텐서가 주어졌을 때,\n",
        "x=torch.FloatTensor([[[1,2],\n",
        "                     [3,4]],\n",
        "                     [[5,6],\n",
        "                      [7,8]],\n",
        "                     [[9,10],\n",
        "                      [11,12]]])\n",
        "#1\n",
        "print(\"텐서요소들의 합과 평균을 구하는 프로그램을 작성하시오\")\n",
        "print(x.sum())#합\n",
        "print(x.mean())#평균\n",
        "#2\n",
        "print(\"텐서의 첫번째 차원에 대한 합과 평균을 구하는 프로그램을 작성하시오\")\n",
        "print(x.sum(dim=0))\n",
        "print(x.mean(dim=0))\n",
        "#3\n",
        "print(\"텐서의 마지막 차원에 대한 합과 평균을 구하는 프로그램을 작성하시오\")\n",
        "print(x.sum(dim=-1))\n",
        "print(x.mean(dim=-1))"
      ],
      "metadata": {
        "colab": {
          "base_uri": "https://localhost:8080/"
        },
        "id": "zbf4I3sVVUt6",
        "outputId": "f8b99749-36b4-404e-b494-6faab4eda328"
      },
      "execution_count": null,
      "outputs": [
        {
          "output_type": "stream",
          "name": "stdout",
          "text": [
            "텐서요소들의 합과 평균을 구하는 프로그램을 작성하시오\n",
            "tensor(78.)\n",
            "tensor(6.5000)\n",
            "텐서의 첫번째 차원에 대한 합과 평균을 구하는 프로그램을 작성하시오\n",
            "tensor([[15., 18.],\n",
            "        [21., 24.]])\n",
            "tensor([[5., 6.],\n",
            "        [7., 8.]])\n",
            "텐서의 마지막 차원에 대한 합과 평균을 구하는 프로그램을 작성하시오\n",
            "tensor([[ 3.,  7.],\n",
            "        [11., 15.],\n",
            "        [19., 23.]])\n",
            "tensor([[ 1.5000,  3.5000],\n",
            "        [ 5.5000,  7.5000],\n",
            "        [ 9.5000, 11.5000]])\n"
          ]
        }
      ]
    },
    {
      "cell_type": "code",
      "source": [],
      "metadata": {
        "id": "9DBkf_jqZtbf"
      },
      "execution_count": null,
      "outputs": []
    }
  ]
}