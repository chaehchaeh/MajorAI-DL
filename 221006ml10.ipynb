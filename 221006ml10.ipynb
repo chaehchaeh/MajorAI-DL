{
  "nbformat": 4,
  "nbformat_minor": 0,
  "metadata": {
    "colab": {
      "provenance": [],
      "collapsed_sections": [],
      "authorship_tag": "ABX9TyM/Ce9n+BNF0+2/1nOQ0jow",
      "include_colab_link": true
    },
    "kernelspec": {
      "name": "python3",
      "display_name": "Python 3"
    },
    "language_info": {
      "name": "python"
    }
  },
  "cells": [
    {
      "cell_type": "markdown",
      "metadata": {
        "id": "view-in-github",
        "colab_type": "text"
      },
      "source": [
        "<a href=\"https://colab.research.google.com/github/chaehchaeh/MajorAI-DL/blob/main/221006ml10.ipynb\" target=\"_parent\"><img src=\"https://colab.research.google.com/assets/colab-badge.svg\" alt=\"Open In Colab\"/></a>"
      ]
    },
    {
      "cell_type": "markdown",
      "source": [
        "preparing data"
      ],
      "metadata": {
        "id": "PczTInDBFbbh"
      }
    },
    {
      "cell_type": "code",
      "execution_count": null,
      "metadata": {
        "id": "qq7Xty2eBZLO"
      },
      "outputs": [],
      "source": [
        "#preparing Data\n",
        "from pandas import read_csv\n",
        "from numpy import set_printoptions\n",
        "from sklearn import preprocessing\n",
        "path=r\"/content/pima-indians-diabetes.csv\"\n",
        "names=['preg','plas','pres','skin','test','mass','pedi','age','class']\n",
        "dataframe=read_csv(path,names=names,comment=\"#\")\n",
        "array=dataframe.values"
      ]
    },
    {
      "cell_type": "code",
      "source": [
        "dataframe.info()"
      ],
      "metadata": {
        "colab": {
          "base_uri": "https://localhost:8080/"
        },
        "id": "9eXiJBnKBwz7",
        "outputId": "42e8f0ff-9f9d-463a-b70b-f62d6086d16b"
      },
      "execution_count": null,
      "outputs": [
        {
          "output_type": "stream",
          "name": "stdout",
          "text": [
            "<class 'pandas.core.frame.DataFrame'>\n",
            "RangeIndex: 768 entries, 0 to 767\n",
            "Data columns (total 9 columns):\n",
            " #   Column  Non-Null Count  Dtype  \n",
            "---  ------  --------------  -----  \n",
            " 0   preg    768 non-null    int64  \n",
            " 1   plas    768 non-null    int64  \n",
            " 2   pres    768 non-null    int64  \n",
            " 3   skin    768 non-null    int64  \n",
            " 4   test    768 non-null    int64  \n",
            " 5   mass    768 non-null    float64\n",
            " 6   pedi    768 non-null    float64\n",
            " 7   age     768 non-null    int64  \n",
            " 8   class   768 non-null    int64  \n",
            "dtypes: float64(2), int64(7)\n",
            "memory usage: 54.1 KB\n"
          ]
        }
      ]
    },
    {
      "cell_type": "code",
      "source": [
        "data_scaler=preprocessing.MinMaxScaler(feature_range=(0,1))\n",
        "data_rescaled=data_scaler.fit_transform(array)"
      ],
      "metadata": {
        "id": "U8CNdZlyCbS8"
      },
      "execution_count": null,
      "outputs": []
    },
    {
      "cell_type": "code",
      "source": [
        "set_printoptions(precision=1)\n",
        "print(\"\\nScaled data:\\n\", data_rescaled[0:10])"
      ],
      "metadata": {
        "colab": {
          "base_uri": "https://localhost:8080/"
        },
        "id": "tubZfZveClcZ",
        "outputId": "96d0126d-b45b-4162-8eb5-d4916334855d"
      },
      "execution_count": null,
      "outputs": [
        {
          "output_type": "stream",
          "name": "stdout",
          "text": [
            "\n",
            "Scaled data:\n",
            " [[0.4 0.7 0.6 0.4 0.  0.5 0.2 0.5 1. ]\n",
            " [0.1 0.4 0.5 0.3 0.  0.4 0.1 0.2 0. ]\n",
            " [0.5 0.9 0.5 0.  0.  0.3 0.3 0.2 1. ]\n",
            " [0.1 0.4 0.5 0.2 0.1 0.4 0.  0.  0. ]\n",
            " [0.  0.7 0.3 0.4 0.2 0.6 0.9 0.2 1. ]\n",
            " [0.3 0.6 0.6 0.  0.  0.4 0.1 0.2 0. ]\n",
            " [0.2 0.4 0.4 0.3 0.1 0.5 0.1 0.1 1. ]\n",
            " [0.6 0.6 0.  0.  0.  0.5 0.  0.1 0. ]\n",
            " [0.1 1.  0.6 0.5 0.6 0.5 0.  0.5 1. ]\n",
            " [0.5 0.6 0.8 0.  0.  0.  0.1 0.6 1. ]]\n"
          ]
        }
      ]
    },
    {
      "cell_type": "code",
      "source": [
        "#L1 nomalization\n",
        "from pandas import read_csv\n",
        "from numpy import set_printoptions\n",
        "from sklearn.preprocessing import normalize\n",
        "path=r\"/content/pima-indians-diabetes.csv\"\n",
        "names=['preg','plas','pres','skin','test','mass','pedi','age','class']\n",
        "dataframe=read_csv(path,names=names,comment='#')\n",
        "array=dataframe.values\n",
        "dnr=normalize(norm='L1').fit(array)\n",
        "dnd=dnr.transform(array)\n",
        "set_printoptions(precision=2)\n",
        "print(\"\\nNormalized data:\\n\",dnd[0:3])"
      ],
      "metadata": {
        "colab": {
          "base_uri": "https://localhost:8080/",
          "height": 245
        },
        "id": "-EPQW0mgC4Xe",
        "outputId": "b76c3fbb-c4f2-4b62-b6d7-fe1ed3445e31"
      },
      "execution_count": null,
      "outputs": [
        {
          "output_type": "error",
          "ename": "TypeError",
          "evalue": "ignored",
          "traceback": [
            "\u001b[0;31m---------------------------------------------------------------------------\u001b[0m",
            "\u001b[0;31mTypeError\u001b[0m                                 Traceback (most recent call last)",
            "\u001b[0;32m<ipython-input-46-53598c1ba17b>\u001b[0m in \u001b[0;36m<module>\u001b[0;34m\u001b[0m\n\u001b[1;32m      7\u001b[0m \u001b[0mdataframe\u001b[0m\u001b[0;34m=\u001b[0m\u001b[0mread_csv\u001b[0m\u001b[0;34m(\u001b[0m\u001b[0mpath\u001b[0m\u001b[0;34m,\u001b[0m\u001b[0mnames\u001b[0m\u001b[0;34m=\u001b[0m\u001b[0mnames\u001b[0m\u001b[0;34m,\u001b[0m\u001b[0mcomment\u001b[0m\u001b[0;34m=\u001b[0m\u001b[0;34m'#'\u001b[0m\u001b[0;34m)\u001b[0m\u001b[0;34m\u001b[0m\u001b[0;34m\u001b[0m\u001b[0m\n\u001b[1;32m      8\u001b[0m \u001b[0marray\u001b[0m\u001b[0;34m=\u001b[0m\u001b[0mdataframe\u001b[0m\u001b[0;34m.\u001b[0m\u001b[0mvalues\u001b[0m\u001b[0;34m\u001b[0m\u001b[0;34m\u001b[0m\u001b[0m\n\u001b[0;32m----> 9\u001b[0;31m \u001b[0mdnr\u001b[0m\u001b[0;34m=\u001b[0m\u001b[0mnormalize\u001b[0m\u001b[0;34m(\u001b[0m\u001b[0mnorm\u001b[0m\u001b[0;34m=\u001b[0m\u001b[0;34m'L1('\u001b[0m\u001b[0;34m)\u001b[0m\u001b[0;34m.\u001b[0m\u001b[0mfit\u001b[0m\u001b[0;34m(\u001b[0m\u001b[0marray\u001b[0m\u001b[0;34m)\u001b[0m\u001b[0;34m\u001b[0m\u001b[0;34m\u001b[0m\u001b[0m\n\u001b[0m\u001b[1;32m     10\u001b[0m \u001b[0mdnd\u001b[0m\u001b[0;34m=\u001b[0m\u001b[0mdnr\u001b[0m\u001b[0;34m.\u001b[0m\u001b[0mtransform\u001b[0m\u001b[0;34m(\u001b[0m\u001b[0marray\u001b[0m\u001b[0;34m)\u001b[0m\u001b[0;34m\u001b[0m\u001b[0;34m\u001b[0m\u001b[0m\n\u001b[1;32m     11\u001b[0m \u001b[0mset_printoptions\u001b[0m\u001b[0;34m(\u001b[0m\u001b[0mprecision\u001b[0m\u001b[0;34m=\u001b[0m\u001b[0;36m2\u001b[0m\u001b[0;34m)\u001b[0m\u001b[0;34m\u001b[0m\u001b[0;34m\u001b[0m\u001b[0m\n",
            "\u001b[0;31mTypeError\u001b[0m: normalize() missing 1 required positional argument: 'X'"
          ]
        }
      ]
    },
    {
      "cell_type": "markdown",
      "source": [],
      "metadata": {
        "id": "PdaZZw-LFZ7g"
      }
    },
    {
      "cell_type": "code",
      "source": [
        "#data labeling\n",
        "import numpy as np\n",
        "from sklearn import preprocessing\n",
        "input_labels=['red','black','red','green','black','yellow','white']\n",
        "#print(\"\\nEncoded values=\", encoded_values)\n",
        "print(\"\\nDecoded labels=\", list(decoded_list))"
      ],
      "metadata": {
        "colab": {
          "base_uri": "https://localhost:8080/",
          "height": 209
        },
        "id": "cu9DL8wWDP-y",
        "outputId": "c7a8a87b-0bfa-40a9-bad0-408ab802d29e"
      },
      "execution_count": null,
      "outputs": [
        {
          "output_type": "error",
          "ename": "NameError",
          "evalue": "ignored",
          "traceback": [
            "\u001b[0;31m---------------------------------------------------------------------------\u001b[0m",
            "\u001b[0;31mNameError\u001b[0m                                 Traceback (most recent call last)",
            "\u001b[0;32m<ipython-input-25-fb8aa6450d0b>\u001b[0m in \u001b[0;36m<module>\u001b[0;34m\u001b[0m\n\u001b[1;32m      4\u001b[0m \u001b[0minput_labels\u001b[0m\u001b[0;34m=\u001b[0m\u001b[0;34m[\u001b[0m\u001b[0;34m'red'\u001b[0m\u001b[0;34m,\u001b[0m\u001b[0;34m'black'\u001b[0m\u001b[0;34m,\u001b[0m\u001b[0;34m'red'\u001b[0m\u001b[0;34m,\u001b[0m\u001b[0;34m'green'\u001b[0m\u001b[0;34m,\u001b[0m\u001b[0;34m'black'\u001b[0m\u001b[0;34m,\u001b[0m\u001b[0;34m'yellow'\u001b[0m\u001b[0;34m,\u001b[0m\u001b[0;34m'white'\u001b[0m\u001b[0;34m]\u001b[0m\u001b[0;34m\u001b[0m\u001b[0;34m\u001b[0m\u001b[0m\n\u001b[1;32m      5\u001b[0m \u001b[0;31m#print(\"\\nEncoded values=\", encoded_values)\u001b[0m\u001b[0;34m\u001b[0m\u001b[0;34m\u001b[0m\u001b[0;34m\u001b[0m\u001b[0m\n\u001b[0;32m----> 6\u001b[0;31m \u001b[0mprint\u001b[0m\u001b[0;34m(\u001b[0m\u001b[0;34m\"\\nDecoded labels=\"\u001b[0m\u001b[0;34m,\u001b[0m \u001b[0mlist\u001b[0m\u001b[0;34m(\u001b[0m\u001b[0mdecoded_list\u001b[0m\u001b[0;34m)\u001b[0m\u001b[0;34m)\u001b[0m\u001b[0;34m\u001b[0m\u001b[0;34m\u001b[0m\u001b[0m\n\u001b[0m",
            "\u001b[0;31mNameError\u001b[0m: name 'decoded_list' is not defined"
          ]
        }
      ]
    },
    {
      "cell_type": "code",
      "source": [],
      "metadata": {
        "id": "CwMeKQZeEG-U"
      },
      "execution_count": null,
      "outputs": []
    }
  ]
}