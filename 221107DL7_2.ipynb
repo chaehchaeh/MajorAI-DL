{
  "nbformat": 4,
  "nbformat_minor": 0,
  "metadata": {
    "colab": {
      "provenance": [],
      "collapsed_sections": [],
      "authorship_tag": "ABX9TyO7jyR+5aGQOO1kKBYfSoTC",
      "include_colab_link": true
    },
    "kernelspec": {
      "name": "python3",
      "display_name": "Python 3"
    },
    "language_info": {
      "name": "python"
    },
    "accelerator": "GPU",
    "gpuClass": "standard",
    "widgets": {
      "application/vnd.jupyter.widget-state+json": {
        "1e554fb6948347b494e02a2a33c4f03f": {
          "model_module": "@jupyter-widgets/controls",
          "model_name": "HBoxModel",
          "model_module_version": "1.5.0",
          "state": {
            "_dom_classes": [],
            "_model_module": "@jupyter-widgets/controls",
            "_model_module_version": "1.5.0",
            "_model_name": "HBoxModel",
            "_view_count": null,
            "_view_module": "@jupyter-widgets/controls",
            "_view_module_version": "1.5.0",
            "_view_name": "HBoxView",
            "box_style": "",
            "children": [
              "IPY_MODEL_4952d8f40ce1494d82bc132695fb3535",
              "IPY_MODEL_c07141fce0d54a72be71770c3cc068e7",
              "IPY_MODEL_56b5723b7a2e4e2a9019237b0bc552e4"
            ],
            "layout": "IPY_MODEL_0124acabecb8484b87f6b119f235932d"
          }
        },
        "4952d8f40ce1494d82bc132695fb3535": {
          "model_module": "@jupyter-widgets/controls",
          "model_name": "HTMLModel",
          "model_module_version": "1.5.0",
          "state": {
            "_dom_classes": [],
            "_model_module": "@jupyter-widgets/controls",
            "_model_module_version": "1.5.0",
            "_model_name": "HTMLModel",
            "_view_count": null,
            "_view_module": "@jupyter-widgets/controls",
            "_view_module_version": "1.5.0",
            "_view_name": "HTMLView",
            "description": "",
            "description_tooltip": null,
            "layout": "IPY_MODEL_2cada2578df44c5680e84f737d3046cc",
            "placeholder": "​",
            "style": "IPY_MODEL_827bd183bde143d2a7009073c35157b5",
            "value": "100%"
          }
        },
        "c07141fce0d54a72be71770c3cc068e7": {
          "model_module": "@jupyter-widgets/controls",
          "model_name": "FloatProgressModel",
          "model_module_version": "1.5.0",
          "state": {
            "_dom_classes": [],
            "_model_module": "@jupyter-widgets/controls",
            "_model_module_version": "1.5.0",
            "_model_name": "FloatProgressModel",
            "_view_count": null,
            "_view_module": "@jupyter-widgets/controls",
            "_view_module_version": "1.5.0",
            "_view_name": "ProgressView",
            "bar_style": "success",
            "description": "",
            "description_tooltip": null,
            "layout": "IPY_MODEL_a712c02f52cd4518bad9688757d9f108",
            "max": 9912422,
            "min": 0,
            "orientation": "horizontal",
            "style": "IPY_MODEL_0314f379dc2846dd8c5ddef3e5ac8386",
            "value": 9912422
          }
        },
        "56b5723b7a2e4e2a9019237b0bc552e4": {
          "model_module": "@jupyter-widgets/controls",
          "model_name": "HTMLModel",
          "model_module_version": "1.5.0",
          "state": {
            "_dom_classes": [],
            "_model_module": "@jupyter-widgets/controls",
            "_model_module_version": "1.5.0",
            "_model_name": "HTMLModel",
            "_view_count": null,
            "_view_module": "@jupyter-widgets/controls",
            "_view_module_version": "1.5.0",
            "_view_name": "HTMLView",
            "description": "",
            "description_tooltip": null,
            "layout": "IPY_MODEL_267b059c9a3544349ec6b86983cb821f",
            "placeholder": "​",
            "style": "IPY_MODEL_dee1bd5be24245f9997ab8ec314f135d",
            "value": " 9912422/9912422 [00:01&lt;00:00, 14572260.14it/s]"
          }
        },
        "0124acabecb8484b87f6b119f235932d": {
          "model_module": "@jupyter-widgets/base",
          "model_name": "LayoutModel",
          "model_module_version": "1.2.0",
          "state": {
            "_model_module": "@jupyter-widgets/base",
            "_model_module_version": "1.2.0",
            "_model_name": "LayoutModel",
            "_view_count": null,
            "_view_module": "@jupyter-widgets/base",
            "_view_module_version": "1.2.0",
            "_view_name": "LayoutView",
            "align_content": null,
            "align_items": null,
            "align_self": null,
            "border": null,
            "bottom": null,
            "display": null,
            "flex": null,
            "flex_flow": null,
            "grid_area": null,
            "grid_auto_columns": null,
            "grid_auto_flow": null,
            "grid_auto_rows": null,
            "grid_column": null,
            "grid_gap": null,
            "grid_row": null,
            "grid_template_areas": null,
            "grid_template_columns": null,
            "grid_template_rows": null,
            "height": null,
            "justify_content": null,
            "justify_items": null,
            "left": null,
            "margin": null,
            "max_height": null,
            "max_width": null,
            "min_height": null,
            "min_width": null,
            "object_fit": null,
            "object_position": null,
            "order": null,
            "overflow": null,
            "overflow_x": null,
            "overflow_y": null,
            "padding": null,
            "right": null,
            "top": null,
            "visibility": null,
            "width": null
          }
        },
        "2cada2578df44c5680e84f737d3046cc": {
          "model_module": "@jupyter-widgets/base",
          "model_name": "LayoutModel",
          "model_module_version": "1.2.0",
          "state": {
            "_model_module": "@jupyter-widgets/base",
            "_model_module_version": "1.2.0",
            "_model_name": "LayoutModel",
            "_view_count": null,
            "_view_module": "@jupyter-widgets/base",
            "_view_module_version": "1.2.0",
            "_view_name": "LayoutView",
            "align_content": null,
            "align_items": null,
            "align_self": null,
            "border": null,
            "bottom": null,
            "display": null,
            "flex": null,
            "flex_flow": null,
            "grid_area": null,
            "grid_auto_columns": null,
            "grid_auto_flow": null,
            "grid_auto_rows": null,
            "grid_column": null,
            "grid_gap": null,
            "grid_row": null,
            "grid_template_areas": null,
            "grid_template_columns": null,
            "grid_template_rows": null,
            "height": null,
            "justify_content": null,
            "justify_items": null,
            "left": null,
            "margin": null,
            "max_height": null,
            "max_width": null,
            "min_height": null,
            "min_width": null,
            "object_fit": null,
            "object_position": null,
            "order": null,
            "overflow": null,
            "overflow_x": null,
            "overflow_y": null,
            "padding": null,
            "right": null,
            "top": null,
            "visibility": null,
            "width": null
          }
        },
        "827bd183bde143d2a7009073c35157b5": {
          "model_module": "@jupyter-widgets/controls",
          "model_name": "DescriptionStyleModel",
          "model_module_version": "1.5.0",
          "state": {
            "_model_module": "@jupyter-widgets/controls",
            "_model_module_version": "1.5.0",
            "_model_name": "DescriptionStyleModel",
            "_view_count": null,
            "_view_module": "@jupyter-widgets/base",
            "_view_module_version": "1.2.0",
            "_view_name": "StyleView",
            "description_width": ""
          }
        },
        "a712c02f52cd4518bad9688757d9f108": {
          "model_module": "@jupyter-widgets/base",
          "model_name": "LayoutModel",
          "model_module_version": "1.2.0",
          "state": {
            "_model_module": "@jupyter-widgets/base",
            "_model_module_version": "1.2.0",
            "_model_name": "LayoutModel",
            "_view_count": null,
            "_view_module": "@jupyter-widgets/base",
            "_view_module_version": "1.2.0",
            "_view_name": "LayoutView",
            "align_content": null,
            "align_items": null,
            "align_self": null,
            "border": null,
            "bottom": null,
            "display": null,
            "flex": null,
            "flex_flow": null,
            "grid_area": null,
            "grid_auto_columns": null,
            "grid_auto_flow": null,
            "grid_auto_rows": null,
            "grid_column": null,
            "grid_gap": null,
            "grid_row": null,
            "grid_template_areas": null,
            "grid_template_columns": null,
            "grid_template_rows": null,
            "height": null,
            "justify_content": null,
            "justify_items": null,
            "left": null,
            "margin": null,
            "max_height": null,
            "max_width": null,
            "min_height": null,
            "min_width": null,
            "object_fit": null,
            "object_position": null,
            "order": null,
            "overflow": null,
            "overflow_x": null,
            "overflow_y": null,
            "padding": null,
            "right": null,
            "top": null,
            "visibility": null,
            "width": null
          }
        },
        "0314f379dc2846dd8c5ddef3e5ac8386": {
          "model_module": "@jupyter-widgets/controls",
          "model_name": "ProgressStyleModel",
          "model_module_version": "1.5.0",
          "state": {
            "_model_module": "@jupyter-widgets/controls",
            "_model_module_version": "1.5.0",
            "_model_name": "ProgressStyleModel",
            "_view_count": null,
            "_view_module": "@jupyter-widgets/base",
            "_view_module_version": "1.2.0",
            "_view_name": "StyleView",
            "bar_color": null,
            "description_width": ""
          }
        },
        "267b059c9a3544349ec6b86983cb821f": {
          "model_module": "@jupyter-widgets/base",
          "model_name": "LayoutModel",
          "model_module_version": "1.2.0",
          "state": {
            "_model_module": "@jupyter-widgets/base",
            "_model_module_version": "1.2.0",
            "_model_name": "LayoutModel",
            "_view_count": null,
            "_view_module": "@jupyter-widgets/base",
            "_view_module_version": "1.2.0",
            "_view_name": "LayoutView",
            "align_content": null,
            "align_items": null,
            "align_self": null,
            "border": null,
            "bottom": null,
            "display": null,
            "flex": null,
            "flex_flow": null,
            "grid_area": null,
            "grid_auto_columns": null,
            "grid_auto_flow": null,
            "grid_auto_rows": null,
            "grid_column": null,
            "grid_gap": null,
            "grid_row": null,
            "grid_template_areas": null,
            "grid_template_columns": null,
            "grid_template_rows": null,
            "height": null,
            "justify_content": null,
            "justify_items": null,
            "left": null,
            "margin": null,
            "max_height": null,
            "max_width": null,
            "min_height": null,
            "min_width": null,
            "object_fit": null,
            "object_position": null,
            "order": null,
            "overflow": null,
            "overflow_x": null,
            "overflow_y": null,
            "padding": null,
            "right": null,
            "top": null,
            "visibility": null,
            "width": null
          }
        },
        "dee1bd5be24245f9997ab8ec314f135d": {
          "model_module": "@jupyter-widgets/controls",
          "model_name": "DescriptionStyleModel",
          "model_module_version": "1.5.0",
          "state": {
            "_model_module": "@jupyter-widgets/controls",
            "_model_module_version": "1.5.0",
            "_model_name": "DescriptionStyleModel",
            "_view_count": null,
            "_view_module": "@jupyter-widgets/base",
            "_view_module_version": "1.2.0",
            "_view_name": "StyleView",
            "description_width": ""
          }
        },
        "dd6dc03c415d4e7ba127a16360276552": {
          "model_module": "@jupyter-widgets/controls",
          "model_name": "HBoxModel",
          "model_module_version": "1.5.0",
          "state": {
            "_dom_classes": [],
            "_model_module": "@jupyter-widgets/controls",
            "_model_module_version": "1.5.0",
            "_model_name": "HBoxModel",
            "_view_count": null,
            "_view_module": "@jupyter-widgets/controls",
            "_view_module_version": "1.5.0",
            "_view_name": "HBoxView",
            "box_style": "",
            "children": [
              "IPY_MODEL_f56ef7f117f6403fa53f023ae2827a5a",
              "IPY_MODEL_89cda481ca9f445faa77157d9847fbe8",
              "IPY_MODEL_419b376039aa4ec4927a25187087ff6e"
            ],
            "layout": "IPY_MODEL_f80ab43cd0f34cce80733aa468ffb816"
          }
        },
        "f56ef7f117f6403fa53f023ae2827a5a": {
          "model_module": "@jupyter-widgets/controls",
          "model_name": "HTMLModel",
          "model_module_version": "1.5.0",
          "state": {
            "_dom_classes": [],
            "_model_module": "@jupyter-widgets/controls",
            "_model_module_version": "1.5.0",
            "_model_name": "HTMLModel",
            "_view_count": null,
            "_view_module": "@jupyter-widgets/controls",
            "_view_module_version": "1.5.0",
            "_view_name": "HTMLView",
            "description": "",
            "description_tooltip": null,
            "layout": "IPY_MODEL_cd3fb63156fa42cca8d780622235852b",
            "placeholder": "​",
            "style": "IPY_MODEL_98f4f7c9c16d482583ac5d273ce19af8",
            "value": "100%"
          }
        },
        "89cda481ca9f445faa77157d9847fbe8": {
          "model_module": "@jupyter-widgets/controls",
          "model_name": "FloatProgressModel",
          "model_module_version": "1.5.0",
          "state": {
            "_dom_classes": [],
            "_model_module": "@jupyter-widgets/controls",
            "_model_module_version": "1.5.0",
            "_model_name": "FloatProgressModel",
            "_view_count": null,
            "_view_module": "@jupyter-widgets/controls",
            "_view_module_version": "1.5.0",
            "_view_name": "ProgressView",
            "bar_style": "success",
            "description": "",
            "description_tooltip": null,
            "layout": "IPY_MODEL_3c0a2bbb8f8f4cdc81008ae20eb29cd8",
            "max": 28881,
            "min": 0,
            "orientation": "horizontal",
            "style": "IPY_MODEL_d1fbb90f76b14a10a58cf0d6c6f20a50",
            "value": 28881
          }
        },
        "419b376039aa4ec4927a25187087ff6e": {
          "model_module": "@jupyter-widgets/controls",
          "model_name": "HTMLModel",
          "model_module_version": "1.5.0",
          "state": {
            "_dom_classes": [],
            "_model_module": "@jupyter-widgets/controls",
            "_model_module_version": "1.5.0",
            "_model_name": "HTMLModel",
            "_view_count": null,
            "_view_module": "@jupyter-widgets/controls",
            "_view_module_version": "1.5.0",
            "_view_name": "HTMLView",
            "description": "",
            "description_tooltip": null,
            "layout": "IPY_MODEL_7a69a16c4e144182a769085dd263f9b7",
            "placeholder": "​",
            "style": "IPY_MODEL_2179c7fa1453496da65351dcf9296af3",
            "value": " 28881/28881 [00:00&lt;00:00, 889134.57it/s]"
          }
        },
        "f80ab43cd0f34cce80733aa468ffb816": {
          "model_module": "@jupyter-widgets/base",
          "model_name": "LayoutModel",
          "model_module_version": "1.2.0",
          "state": {
            "_model_module": "@jupyter-widgets/base",
            "_model_module_version": "1.2.0",
            "_model_name": "LayoutModel",
            "_view_count": null,
            "_view_module": "@jupyter-widgets/base",
            "_view_module_version": "1.2.0",
            "_view_name": "LayoutView",
            "align_content": null,
            "align_items": null,
            "align_self": null,
            "border": null,
            "bottom": null,
            "display": null,
            "flex": null,
            "flex_flow": null,
            "grid_area": null,
            "grid_auto_columns": null,
            "grid_auto_flow": null,
            "grid_auto_rows": null,
            "grid_column": null,
            "grid_gap": null,
            "grid_row": null,
            "grid_template_areas": null,
            "grid_template_columns": null,
            "grid_template_rows": null,
            "height": null,
            "justify_content": null,
            "justify_items": null,
            "left": null,
            "margin": null,
            "max_height": null,
            "max_width": null,
            "min_height": null,
            "min_width": null,
            "object_fit": null,
            "object_position": null,
            "order": null,
            "overflow": null,
            "overflow_x": null,
            "overflow_y": null,
            "padding": null,
            "right": null,
            "top": null,
            "visibility": null,
            "width": null
          }
        },
        "cd3fb63156fa42cca8d780622235852b": {
          "model_module": "@jupyter-widgets/base",
          "model_name": "LayoutModel",
          "model_module_version": "1.2.0",
          "state": {
            "_model_module": "@jupyter-widgets/base",
            "_model_module_version": "1.2.0",
            "_model_name": "LayoutModel",
            "_view_count": null,
            "_view_module": "@jupyter-widgets/base",
            "_view_module_version": "1.2.0",
            "_view_name": "LayoutView",
            "align_content": null,
            "align_items": null,
            "align_self": null,
            "border": null,
            "bottom": null,
            "display": null,
            "flex": null,
            "flex_flow": null,
            "grid_area": null,
            "grid_auto_columns": null,
            "grid_auto_flow": null,
            "grid_auto_rows": null,
            "grid_column": null,
            "grid_gap": null,
            "grid_row": null,
            "grid_template_areas": null,
            "grid_template_columns": null,
            "grid_template_rows": null,
            "height": null,
            "justify_content": null,
            "justify_items": null,
            "left": null,
            "margin": null,
            "max_height": null,
            "max_width": null,
            "min_height": null,
            "min_width": null,
            "object_fit": null,
            "object_position": null,
            "order": null,
            "overflow": null,
            "overflow_x": null,
            "overflow_y": null,
            "padding": null,
            "right": null,
            "top": null,
            "visibility": null,
            "width": null
          }
        },
        "98f4f7c9c16d482583ac5d273ce19af8": {
          "model_module": "@jupyter-widgets/controls",
          "model_name": "DescriptionStyleModel",
          "model_module_version": "1.5.0",
          "state": {
            "_model_module": "@jupyter-widgets/controls",
            "_model_module_version": "1.5.0",
            "_model_name": "DescriptionStyleModel",
            "_view_count": null,
            "_view_module": "@jupyter-widgets/base",
            "_view_module_version": "1.2.0",
            "_view_name": "StyleView",
            "description_width": ""
          }
        },
        "3c0a2bbb8f8f4cdc81008ae20eb29cd8": {
          "model_module": "@jupyter-widgets/base",
          "model_name": "LayoutModel",
          "model_module_version": "1.2.0",
          "state": {
            "_model_module": "@jupyter-widgets/base",
            "_model_module_version": "1.2.0",
            "_model_name": "LayoutModel",
            "_view_count": null,
            "_view_module": "@jupyter-widgets/base",
            "_view_module_version": "1.2.0",
            "_view_name": "LayoutView",
            "align_content": null,
            "align_items": null,
            "align_self": null,
            "border": null,
            "bottom": null,
            "display": null,
            "flex": null,
            "flex_flow": null,
            "grid_area": null,
            "grid_auto_columns": null,
            "grid_auto_flow": null,
            "grid_auto_rows": null,
            "grid_column": null,
            "grid_gap": null,
            "grid_row": null,
            "grid_template_areas": null,
            "grid_template_columns": null,
            "grid_template_rows": null,
            "height": null,
            "justify_content": null,
            "justify_items": null,
            "left": null,
            "margin": null,
            "max_height": null,
            "max_width": null,
            "min_height": null,
            "min_width": null,
            "object_fit": null,
            "object_position": null,
            "order": null,
            "overflow": null,
            "overflow_x": null,
            "overflow_y": null,
            "padding": null,
            "right": null,
            "top": null,
            "visibility": null,
            "width": null
          }
        },
        "d1fbb90f76b14a10a58cf0d6c6f20a50": {
          "model_module": "@jupyter-widgets/controls",
          "model_name": "ProgressStyleModel",
          "model_module_version": "1.5.0",
          "state": {
            "_model_module": "@jupyter-widgets/controls",
            "_model_module_version": "1.5.0",
            "_model_name": "ProgressStyleModel",
            "_view_count": null,
            "_view_module": "@jupyter-widgets/base",
            "_view_module_version": "1.2.0",
            "_view_name": "StyleView",
            "bar_color": null,
            "description_width": ""
          }
        },
        "7a69a16c4e144182a769085dd263f9b7": {
          "model_module": "@jupyter-widgets/base",
          "model_name": "LayoutModel",
          "model_module_version": "1.2.0",
          "state": {
            "_model_module": "@jupyter-widgets/base",
            "_model_module_version": "1.2.0",
            "_model_name": "LayoutModel",
            "_view_count": null,
            "_view_module": "@jupyter-widgets/base",
            "_view_module_version": "1.2.0",
            "_view_name": "LayoutView",
            "align_content": null,
            "align_items": null,
            "align_self": null,
            "border": null,
            "bottom": null,
            "display": null,
            "flex": null,
            "flex_flow": null,
            "grid_area": null,
            "grid_auto_columns": null,
            "grid_auto_flow": null,
            "grid_auto_rows": null,
            "grid_column": null,
            "grid_gap": null,
            "grid_row": null,
            "grid_template_areas": null,
            "grid_template_columns": null,
            "grid_template_rows": null,
            "height": null,
            "justify_content": null,
            "justify_items": null,
            "left": null,
            "margin": null,
            "max_height": null,
            "max_width": null,
            "min_height": null,
            "min_width": null,
            "object_fit": null,
            "object_position": null,
            "order": null,
            "overflow": null,
            "overflow_x": null,
            "overflow_y": null,
            "padding": null,
            "right": null,
            "top": null,
            "visibility": null,
            "width": null
          }
        },
        "2179c7fa1453496da65351dcf9296af3": {
          "model_module": "@jupyter-widgets/controls",
          "model_name": "DescriptionStyleModel",
          "model_module_version": "1.5.0",
          "state": {
            "_model_module": "@jupyter-widgets/controls",
            "_model_module_version": "1.5.0",
            "_model_name": "DescriptionStyleModel",
            "_view_count": null,
            "_view_module": "@jupyter-widgets/base",
            "_view_module_version": "1.2.0",
            "_view_name": "StyleView",
            "description_width": ""
          }
        },
        "1b634077f8734b47a0c6254b1f0cbb76": {
          "model_module": "@jupyter-widgets/controls",
          "model_name": "HBoxModel",
          "model_module_version": "1.5.0",
          "state": {
            "_dom_classes": [],
            "_model_module": "@jupyter-widgets/controls",
            "_model_module_version": "1.5.0",
            "_model_name": "HBoxModel",
            "_view_count": null,
            "_view_module": "@jupyter-widgets/controls",
            "_view_module_version": "1.5.0",
            "_view_name": "HBoxView",
            "box_style": "",
            "children": [
              "IPY_MODEL_441876abb1d646e899879afe8c6a5c04",
              "IPY_MODEL_17cab08a76ae4b1c8e9d194c5775a0e9",
              "IPY_MODEL_6ccb0f9dddda4093b08cb6a3bde7de49"
            ],
            "layout": "IPY_MODEL_79aa4d9f3b514d508cb9b24e5b23540d"
          }
        },
        "441876abb1d646e899879afe8c6a5c04": {
          "model_module": "@jupyter-widgets/controls",
          "model_name": "HTMLModel",
          "model_module_version": "1.5.0",
          "state": {
            "_dom_classes": [],
            "_model_module": "@jupyter-widgets/controls",
            "_model_module_version": "1.5.0",
            "_model_name": "HTMLModel",
            "_view_count": null,
            "_view_module": "@jupyter-widgets/controls",
            "_view_module_version": "1.5.0",
            "_view_name": "HTMLView",
            "description": "",
            "description_tooltip": null,
            "layout": "IPY_MODEL_7936327cfdce4001bf09db8d5ea2f85e",
            "placeholder": "​",
            "style": "IPY_MODEL_a20de91bebfa4e4c96e55717883813c8",
            "value": "100%"
          }
        },
        "17cab08a76ae4b1c8e9d194c5775a0e9": {
          "model_module": "@jupyter-widgets/controls",
          "model_name": "FloatProgressModel",
          "model_module_version": "1.5.0",
          "state": {
            "_dom_classes": [],
            "_model_module": "@jupyter-widgets/controls",
            "_model_module_version": "1.5.0",
            "_model_name": "FloatProgressModel",
            "_view_count": null,
            "_view_module": "@jupyter-widgets/controls",
            "_view_module_version": "1.5.0",
            "_view_name": "ProgressView",
            "bar_style": "success",
            "description": "",
            "description_tooltip": null,
            "layout": "IPY_MODEL_7f66f61029c641df9ee28d7ab4a52933",
            "max": 1648877,
            "min": 0,
            "orientation": "horizontal",
            "style": "IPY_MODEL_66dc825282a1453bbce3941a0be1242e",
            "value": 1648877
          }
        },
        "6ccb0f9dddda4093b08cb6a3bde7de49": {
          "model_module": "@jupyter-widgets/controls",
          "model_name": "HTMLModel",
          "model_module_version": "1.5.0",
          "state": {
            "_dom_classes": [],
            "_model_module": "@jupyter-widgets/controls",
            "_model_module_version": "1.5.0",
            "_model_name": "HTMLModel",
            "_view_count": null,
            "_view_module": "@jupyter-widgets/controls",
            "_view_module_version": "1.5.0",
            "_view_name": "HTMLView",
            "description": "",
            "description_tooltip": null,
            "layout": "IPY_MODEL_2e7f73e3454f4001821f141686c7c48c",
            "placeholder": "​",
            "style": "IPY_MODEL_da5d14e5aa824748a44256f42aa475d8",
            "value": " 1648877/1648877 [00:00&lt;00:00, 2372203.24it/s]"
          }
        },
        "79aa4d9f3b514d508cb9b24e5b23540d": {
          "model_module": "@jupyter-widgets/base",
          "model_name": "LayoutModel",
          "model_module_version": "1.2.0",
          "state": {
            "_model_module": "@jupyter-widgets/base",
            "_model_module_version": "1.2.0",
            "_model_name": "LayoutModel",
            "_view_count": null,
            "_view_module": "@jupyter-widgets/base",
            "_view_module_version": "1.2.0",
            "_view_name": "LayoutView",
            "align_content": null,
            "align_items": null,
            "align_self": null,
            "border": null,
            "bottom": null,
            "display": null,
            "flex": null,
            "flex_flow": null,
            "grid_area": null,
            "grid_auto_columns": null,
            "grid_auto_flow": null,
            "grid_auto_rows": null,
            "grid_column": null,
            "grid_gap": null,
            "grid_row": null,
            "grid_template_areas": null,
            "grid_template_columns": null,
            "grid_template_rows": null,
            "height": null,
            "justify_content": null,
            "justify_items": null,
            "left": null,
            "margin": null,
            "max_height": null,
            "max_width": null,
            "min_height": null,
            "min_width": null,
            "object_fit": null,
            "object_position": null,
            "order": null,
            "overflow": null,
            "overflow_x": null,
            "overflow_y": null,
            "padding": null,
            "right": null,
            "top": null,
            "visibility": null,
            "width": null
          }
        },
        "7936327cfdce4001bf09db8d5ea2f85e": {
          "model_module": "@jupyter-widgets/base",
          "model_name": "LayoutModel",
          "model_module_version": "1.2.0",
          "state": {
            "_model_module": "@jupyter-widgets/base",
            "_model_module_version": "1.2.0",
            "_model_name": "LayoutModel",
            "_view_count": null,
            "_view_module": "@jupyter-widgets/base",
            "_view_module_version": "1.2.0",
            "_view_name": "LayoutView",
            "align_content": null,
            "align_items": null,
            "align_self": null,
            "border": null,
            "bottom": null,
            "display": null,
            "flex": null,
            "flex_flow": null,
            "grid_area": null,
            "grid_auto_columns": null,
            "grid_auto_flow": null,
            "grid_auto_rows": null,
            "grid_column": null,
            "grid_gap": null,
            "grid_row": null,
            "grid_template_areas": null,
            "grid_template_columns": null,
            "grid_template_rows": null,
            "height": null,
            "justify_content": null,
            "justify_items": null,
            "left": null,
            "margin": null,
            "max_height": null,
            "max_width": null,
            "min_height": null,
            "min_width": null,
            "object_fit": null,
            "object_position": null,
            "order": null,
            "overflow": null,
            "overflow_x": null,
            "overflow_y": null,
            "padding": null,
            "right": null,
            "top": null,
            "visibility": null,
            "width": null
          }
        },
        "a20de91bebfa4e4c96e55717883813c8": {
          "model_module": "@jupyter-widgets/controls",
          "model_name": "DescriptionStyleModel",
          "model_module_version": "1.5.0",
          "state": {
            "_model_module": "@jupyter-widgets/controls",
            "_model_module_version": "1.5.0",
            "_model_name": "DescriptionStyleModel",
            "_view_count": null,
            "_view_module": "@jupyter-widgets/base",
            "_view_module_version": "1.2.0",
            "_view_name": "StyleView",
            "description_width": ""
          }
        },
        "7f66f61029c641df9ee28d7ab4a52933": {
          "model_module": "@jupyter-widgets/base",
          "model_name": "LayoutModel",
          "model_module_version": "1.2.0",
          "state": {
            "_model_module": "@jupyter-widgets/base",
            "_model_module_version": "1.2.0",
            "_model_name": "LayoutModel",
            "_view_count": null,
            "_view_module": "@jupyter-widgets/base",
            "_view_module_version": "1.2.0",
            "_view_name": "LayoutView",
            "align_content": null,
            "align_items": null,
            "align_self": null,
            "border": null,
            "bottom": null,
            "display": null,
            "flex": null,
            "flex_flow": null,
            "grid_area": null,
            "grid_auto_columns": null,
            "grid_auto_flow": null,
            "grid_auto_rows": null,
            "grid_column": null,
            "grid_gap": null,
            "grid_row": null,
            "grid_template_areas": null,
            "grid_template_columns": null,
            "grid_template_rows": null,
            "height": null,
            "justify_content": null,
            "justify_items": null,
            "left": null,
            "margin": null,
            "max_height": null,
            "max_width": null,
            "min_height": null,
            "min_width": null,
            "object_fit": null,
            "object_position": null,
            "order": null,
            "overflow": null,
            "overflow_x": null,
            "overflow_y": null,
            "padding": null,
            "right": null,
            "top": null,
            "visibility": null,
            "width": null
          }
        },
        "66dc825282a1453bbce3941a0be1242e": {
          "model_module": "@jupyter-widgets/controls",
          "model_name": "ProgressStyleModel",
          "model_module_version": "1.5.0",
          "state": {
            "_model_module": "@jupyter-widgets/controls",
            "_model_module_version": "1.5.0",
            "_model_name": "ProgressStyleModel",
            "_view_count": null,
            "_view_module": "@jupyter-widgets/base",
            "_view_module_version": "1.2.0",
            "_view_name": "StyleView",
            "bar_color": null,
            "description_width": ""
          }
        },
        "2e7f73e3454f4001821f141686c7c48c": {
          "model_module": "@jupyter-widgets/base",
          "model_name": "LayoutModel",
          "model_module_version": "1.2.0",
          "state": {
            "_model_module": "@jupyter-widgets/base",
            "_model_module_version": "1.2.0",
            "_model_name": "LayoutModel",
            "_view_count": null,
            "_view_module": "@jupyter-widgets/base",
            "_view_module_version": "1.2.0",
            "_view_name": "LayoutView",
            "align_content": null,
            "align_items": null,
            "align_self": null,
            "border": null,
            "bottom": null,
            "display": null,
            "flex": null,
            "flex_flow": null,
            "grid_area": null,
            "grid_auto_columns": null,
            "grid_auto_flow": null,
            "grid_auto_rows": null,
            "grid_column": null,
            "grid_gap": null,
            "grid_row": null,
            "grid_template_areas": null,
            "grid_template_columns": null,
            "grid_template_rows": null,
            "height": null,
            "justify_content": null,
            "justify_items": null,
            "left": null,
            "margin": null,
            "max_height": null,
            "max_width": null,
            "min_height": null,
            "min_width": null,
            "object_fit": null,
            "object_position": null,
            "order": null,
            "overflow": null,
            "overflow_x": null,
            "overflow_y": null,
            "padding": null,
            "right": null,
            "top": null,
            "visibility": null,
            "width": null
          }
        },
        "da5d14e5aa824748a44256f42aa475d8": {
          "model_module": "@jupyter-widgets/controls",
          "model_name": "DescriptionStyleModel",
          "model_module_version": "1.5.0",
          "state": {
            "_model_module": "@jupyter-widgets/controls",
            "_model_module_version": "1.5.0",
            "_model_name": "DescriptionStyleModel",
            "_view_count": null,
            "_view_module": "@jupyter-widgets/base",
            "_view_module_version": "1.2.0",
            "_view_name": "StyleView",
            "description_width": ""
          }
        },
        "4711bd5090b34e10a744c5dad0cc5234": {
          "model_module": "@jupyter-widgets/controls",
          "model_name": "HBoxModel",
          "model_module_version": "1.5.0",
          "state": {
            "_dom_classes": [],
            "_model_module": "@jupyter-widgets/controls",
            "_model_module_version": "1.5.0",
            "_model_name": "HBoxModel",
            "_view_count": null,
            "_view_module": "@jupyter-widgets/controls",
            "_view_module_version": "1.5.0",
            "_view_name": "HBoxView",
            "box_style": "",
            "children": [
              "IPY_MODEL_9c5f6963dc7d4d269100b9eac72b1db5",
              "IPY_MODEL_d1a782a0f1be42849e245c8c0a1ad20d",
              "IPY_MODEL_29a8d55ab01741b58373787602de72ea"
            ],
            "layout": "IPY_MODEL_8835a0d3d9f14151b52953125e80f7b7"
          }
        },
        "9c5f6963dc7d4d269100b9eac72b1db5": {
          "model_module": "@jupyter-widgets/controls",
          "model_name": "HTMLModel",
          "model_module_version": "1.5.0",
          "state": {
            "_dom_classes": [],
            "_model_module": "@jupyter-widgets/controls",
            "_model_module_version": "1.5.0",
            "_model_name": "HTMLModel",
            "_view_count": null,
            "_view_module": "@jupyter-widgets/controls",
            "_view_module_version": "1.5.0",
            "_view_name": "HTMLView",
            "description": "",
            "description_tooltip": null,
            "layout": "IPY_MODEL_ed676000ae974cd6a0cbfdc97ca138a8",
            "placeholder": "​",
            "style": "IPY_MODEL_716c8c837f3a428289e5ed6f7f118dae",
            "value": "100%"
          }
        },
        "d1a782a0f1be42849e245c8c0a1ad20d": {
          "model_module": "@jupyter-widgets/controls",
          "model_name": "FloatProgressModel",
          "model_module_version": "1.5.0",
          "state": {
            "_dom_classes": [],
            "_model_module": "@jupyter-widgets/controls",
            "_model_module_version": "1.5.0",
            "_model_name": "FloatProgressModel",
            "_view_count": null,
            "_view_module": "@jupyter-widgets/controls",
            "_view_module_version": "1.5.0",
            "_view_name": "ProgressView",
            "bar_style": "success",
            "description": "",
            "description_tooltip": null,
            "layout": "IPY_MODEL_e34c4ac6798d4cbd9eb3c3606a4bf130",
            "max": 4542,
            "min": 0,
            "orientation": "horizontal",
            "style": "IPY_MODEL_03c6112580ba444b969aee51e9f78045",
            "value": 4542
          }
        },
        "29a8d55ab01741b58373787602de72ea": {
          "model_module": "@jupyter-widgets/controls",
          "model_name": "HTMLModel",
          "model_module_version": "1.5.0",
          "state": {
            "_dom_classes": [],
            "_model_module": "@jupyter-widgets/controls",
            "_model_module_version": "1.5.0",
            "_model_name": "HTMLModel",
            "_view_count": null,
            "_view_module": "@jupyter-widgets/controls",
            "_view_module_version": "1.5.0",
            "_view_name": "HTMLView",
            "description": "",
            "description_tooltip": null,
            "layout": "IPY_MODEL_7e0a6801589f472c91401041a11f52cc",
            "placeholder": "​",
            "style": "IPY_MODEL_fcb9486d3e504ebd904f208b25933d87",
            "value": " 4542/4542 [00:00&lt;00:00, 163249.20it/s]"
          }
        },
        "8835a0d3d9f14151b52953125e80f7b7": {
          "model_module": "@jupyter-widgets/base",
          "model_name": "LayoutModel",
          "model_module_version": "1.2.0",
          "state": {
            "_model_module": "@jupyter-widgets/base",
            "_model_module_version": "1.2.0",
            "_model_name": "LayoutModel",
            "_view_count": null,
            "_view_module": "@jupyter-widgets/base",
            "_view_module_version": "1.2.0",
            "_view_name": "LayoutView",
            "align_content": null,
            "align_items": null,
            "align_self": null,
            "border": null,
            "bottom": null,
            "display": null,
            "flex": null,
            "flex_flow": null,
            "grid_area": null,
            "grid_auto_columns": null,
            "grid_auto_flow": null,
            "grid_auto_rows": null,
            "grid_column": null,
            "grid_gap": null,
            "grid_row": null,
            "grid_template_areas": null,
            "grid_template_columns": null,
            "grid_template_rows": null,
            "height": null,
            "justify_content": null,
            "justify_items": null,
            "left": null,
            "margin": null,
            "max_height": null,
            "max_width": null,
            "min_height": null,
            "min_width": null,
            "object_fit": null,
            "object_position": null,
            "order": null,
            "overflow": null,
            "overflow_x": null,
            "overflow_y": null,
            "padding": null,
            "right": null,
            "top": null,
            "visibility": null,
            "width": null
          }
        },
        "ed676000ae974cd6a0cbfdc97ca138a8": {
          "model_module": "@jupyter-widgets/base",
          "model_name": "LayoutModel",
          "model_module_version": "1.2.0",
          "state": {
            "_model_module": "@jupyter-widgets/base",
            "_model_module_version": "1.2.0",
            "_model_name": "LayoutModel",
            "_view_count": null,
            "_view_module": "@jupyter-widgets/base",
            "_view_module_version": "1.2.0",
            "_view_name": "LayoutView",
            "align_content": null,
            "align_items": null,
            "align_self": null,
            "border": null,
            "bottom": null,
            "display": null,
            "flex": null,
            "flex_flow": null,
            "grid_area": null,
            "grid_auto_columns": null,
            "grid_auto_flow": null,
            "grid_auto_rows": null,
            "grid_column": null,
            "grid_gap": null,
            "grid_row": null,
            "grid_template_areas": null,
            "grid_template_columns": null,
            "grid_template_rows": null,
            "height": null,
            "justify_content": null,
            "justify_items": null,
            "left": null,
            "margin": null,
            "max_height": null,
            "max_width": null,
            "min_height": null,
            "min_width": null,
            "object_fit": null,
            "object_position": null,
            "order": null,
            "overflow": null,
            "overflow_x": null,
            "overflow_y": null,
            "padding": null,
            "right": null,
            "top": null,
            "visibility": null,
            "width": null
          }
        },
        "716c8c837f3a428289e5ed6f7f118dae": {
          "model_module": "@jupyter-widgets/controls",
          "model_name": "DescriptionStyleModel",
          "model_module_version": "1.5.0",
          "state": {
            "_model_module": "@jupyter-widgets/controls",
            "_model_module_version": "1.5.0",
            "_model_name": "DescriptionStyleModel",
            "_view_count": null,
            "_view_module": "@jupyter-widgets/base",
            "_view_module_version": "1.2.0",
            "_view_name": "StyleView",
            "description_width": ""
          }
        },
        "e34c4ac6798d4cbd9eb3c3606a4bf130": {
          "model_module": "@jupyter-widgets/base",
          "model_name": "LayoutModel",
          "model_module_version": "1.2.0",
          "state": {
            "_model_module": "@jupyter-widgets/base",
            "_model_module_version": "1.2.0",
            "_model_name": "LayoutModel",
            "_view_count": null,
            "_view_module": "@jupyter-widgets/base",
            "_view_module_version": "1.2.0",
            "_view_name": "LayoutView",
            "align_content": null,
            "align_items": null,
            "align_self": null,
            "border": null,
            "bottom": null,
            "display": null,
            "flex": null,
            "flex_flow": null,
            "grid_area": null,
            "grid_auto_columns": null,
            "grid_auto_flow": null,
            "grid_auto_rows": null,
            "grid_column": null,
            "grid_gap": null,
            "grid_row": null,
            "grid_template_areas": null,
            "grid_template_columns": null,
            "grid_template_rows": null,
            "height": null,
            "justify_content": null,
            "justify_items": null,
            "left": null,
            "margin": null,
            "max_height": null,
            "max_width": null,
            "min_height": null,
            "min_width": null,
            "object_fit": null,
            "object_position": null,
            "order": null,
            "overflow": null,
            "overflow_x": null,
            "overflow_y": null,
            "padding": null,
            "right": null,
            "top": null,
            "visibility": null,
            "width": null
          }
        },
        "03c6112580ba444b969aee51e9f78045": {
          "model_module": "@jupyter-widgets/controls",
          "model_name": "ProgressStyleModel",
          "model_module_version": "1.5.0",
          "state": {
            "_model_module": "@jupyter-widgets/controls",
            "_model_module_version": "1.5.0",
            "_model_name": "ProgressStyleModel",
            "_view_count": null,
            "_view_module": "@jupyter-widgets/base",
            "_view_module_version": "1.2.0",
            "_view_name": "StyleView",
            "bar_color": null,
            "description_width": ""
          }
        },
        "7e0a6801589f472c91401041a11f52cc": {
          "model_module": "@jupyter-widgets/base",
          "model_name": "LayoutModel",
          "model_module_version": "1.2.0",
          "state": {
            "_model_module": "@jupyter-widgets/base",
            "_model_module_version": "1.2.0",
            "_model_name": "LayoutModel",
            "_view_count": null,
            "_view_module": "@jupyter-widgets/base",
            "_view_module_version": "1.2.0",
            "_view_name": "LayoutView",
            "align_content": null,
            "align_items": null,
            "align_self": null,
            "border": null,
            "bottom": null,
            "display": null,
            "flex": null,
            "flex_flow": null,
            "grid_area": null,
            "grid_auto_columns": null,
            "grid_auto_flow": null,
            "grid_auto_rows": null,
            "grid_column": null,
            "grid_gap": null,
            "grid_row": null,
            "grid_template_areas": null,
            "grid_template_columns": null,
            "grid_template_rows": null,
            "height": null,
            "justify_content": null,
            "justify_items": null,
            "left": null,
            "margin": null,
            "max_height": null,
            "max_width": null,
            "min_height": null,
            "min_width": null,
            "object_fit": null,
            "object_position": null,
            "order": null,
            "overflow": null,
            "overflow_x": null,
            "overflow_y": null,
            "padding": null,
            "right": null,
            "top": null,
            "visibility": null,
            "width": null
          }
        },
        "fcb9486d3e504ebd904f208b25933d87": {
          "model_module": "@jupyter-widgets/controls",
          "model_name": "DescriptionStyleModel",
          "model_module_version": "1.5.0",
          "state": {
            "_model_module": "@jupyter-widgets/controls",
            "_model_module_version": "1.5.0",
            "_model_name": "DescriptionStyleModel",
            "_view_count": null,
            "_view_module": "@jupyter-widgets/base",
            "_view_module_version": "1.2.0",
            "_view_name": "StyleView",
            "description_width": ""
          }
        }
      }
    }
  },
  "cells": [
    {
      "cell_type": "markdown",
      "metadata": {
        "id": "view-in-github",
        "colab_type": "text"
      },
      "source": [
        "<a href=\"https://colab.research.google.com/github/chaehchaeh/MajorAI-DL/blob/main/221107DL7_2.ipynb\" target=\"_parent\"><img src=\"https://colab.research.google.com/assets/colab-badge.svg\" alt=\"Open In Colab\"/></a>"
      ]
    },
    {
      "cell_type": "code",
      "execution_count": 1,
      "metadata": {
        "id": "DiizXXakTnyz"
      },
      "outputs": [],
      "source": []
    },
    {
      "cell_type": "markdown",
      "source": [
        "##정규화\n",
        "-오버피팅을 늦추고 모델이 학습데이터로부터 적절한 특징들을 학습하여 일반화 오차를 낮출 수 있는 방법\n",
        "\n",
        "1) 데이터를 통한 정규화: 데이터 증강(Data augmentation)\n",
        "\n",
        "2) 손실함수를 통한 정규화: 가중치 감쇠(weight decay)\n",
        "\n",
        "3) 신경망 계층을 통한 정규화: 드랍아웃, 배치정규화(Batch normalization), \n",
        "계층정규화\n",
        "\n",
        "4) 학습/추론 방식을 통한 정규화:학습 조기종료, 배깅&앙상블(bagging&ensemble)\n"
      ],
      "metadata": {
        "id": "NOuBr1l_Uc47"
      }
    },
    {
      "cell_type": "markdown",
      "source": [],
      "metadata": {
        "id": "crO3SEeGY-nJ"
      }
    },
    {
      "cell_type": "markdown",
      "source": [
        "####가중치 감쇠\n",
        ":손실함수에 항을 추가하여 가중치가 감쇠되도록 하는 방법\n",
        "-파이토치 옵티마이저 설정을 통해 구현가능\n",
        "-weight_decay 매개변수가 손실함수의 하이퍼 파라미터 알파를 의미\n",
        "-가중치의 요소값이 크기가 클수록 선형계층의 해당 입출력 노드간의 관계가 강함을 의미\n",
        "-가중치의 L2노름이 작아지도록 하여 노드사이의 관계를 제한함\n",
        "\n",
        "####L1노름을 사용한 방식: L1노름은 가중치 파라미터 값들이 회소(sparse)하도록 제한함\n",
        "\n"
      ],
      "metadata": {
        "id": "1SFr80ExY-r9"
      }
    },
    {
      "cell_type": "markdown",
      "source": [
        "###데이터 증강(data Augmentation)-데이터를 통한 정규화\n",
        "-데이터의 핵심적인 특징을 유지한 채 노이즈를 더하여 데이터 셋을 확장하는 방법\n",
        "-수배에서 수십배의 데이터 확장이 가능\n",
        "-노이즈에 더 강인한(robust)모델을 얻을 수 있음\n",
        "\n",
        "####이미지 데이터 증강기법: \n",
        "소금과 후추 노이즈 추가: 하얗거나 검은 점을 무작위로 흩뿌리는 방법\n",
        "\n",
        "회전(rotation), 이동(shifting), 뒤집기(flipping)\n",
        "\n",
        "-생성(generative)모델을 이용한 증강\n",
        "\n",
        "-생성모델은 데이터 셋의 분포자체를 학습하여 모델로부터 데이터 샘프로가 유사한 샘플들을 생성해낼 수 있는 모델\n",
        "\n",
        "ex)생성적대 신경망(Generative Adversarial Networks,GAN), 오토인코더(Autoencoder)\n",
        "####텍스트 데이터 증강기법:\n",
        "단어의 생략: 일정 확률로 임의의 단어를 생략하는 방법\n",
        "\n",
        "단어교환: 임의로 일정범위 내에서 단어를 교환하는 방법\n",
        "\n",
        "단어이동:임의로 일정 범위 내에서 단어를 이동하는 방법\n",
        "*참고) 언어에따라 문장구조가 다르므로 증강방법을 달리 적용해야함"
      ],
      "metadata": {
        "id": "11gXASiZao1e"
      }
    },
    {
      "cell_type": "markdown",
      "source": [
        "오버피팅: 학습오차가 일반화 오차에 비해 현격하게 낮아지는 현상\n",
        "모델(심층신경망)이 학습데이터의 불필요한 편향(bias)이나 노이즈까지 학습 함으로써 일반화 성능이 떨어짐\n"
      ],
      "metadata": {
        "id": "b9Xoe8TzXiyH"
      }
    },
    {
      "cell_type": "markdown",
      "source": [
        "###드롭아웃-신경망계층을 통한 정규화\n",
        "-신경망에 노이즈를 추가하는 개념\n",
        "-임의의 노드를 일정확률(이항분포)로 드롭해서 학습에 참여하지 않도록 하는 방법\n",
        "-학습과 추론(inference 또는 evaluation)방식의 차이:\n",
        "드롭아웃은 학습할 때만 적용, 추론할 때는 모든 노드가 참여\n"
      ],
      "metadata": {
        "id": "8YYfp9PRUk52"
      }
    },
    {
      "cell_type": "code",
      "source": [
        "-일반적으로 활성 함수와 다음 계층 사이에 하나의 계층으로 구현됨\n",
        "layer-act-drop-layer\n",
        "#예제코드\n",
        "import torch.nn as nn\n",
        "p=0.3\n",
        "net=nn.Sequential(\n",
        "    nn.Linear(300,200),\n",
        "    nn.LeakyReLU(),\n",
        "    nn.Dropout(p),\n",
        "    nn.Linear(200,100),\n",
        "    nn.LeakyReLU(),\n",
        "    nn.Dropout(p),\n",
        "    nn.Linear(100,50),\n",
        "    nn.LeakyReLU(),\n",
        "    nn.Dropout(p),\n",
        "    nn.Linear(50,10)\n",
        ")"
      ],
      "metadata": {
        "colab": {
          "base_uri": "https://localhost:8080/",
          "height": 137
        },
        "id": "laYBD4IFUqMr",
        "outputId": "be3b6938-84f5-4a14-f602-6c501dc09d91"
      },
      "execution_count": 2,
      "outputs": [
        {
          "output_type": "error",
          "ename": "SyntaxError",
          "evalue": "ignored",
          "traceback": [
            "\u001b[0;36m  File \u001b[0;32m\"<ipython-input-2-c8a46ef85e6e>\"\u001b[0;36m, line \u001b[0;32m1\u001b[0m\n\u001b[0;31m    -일반적으로 활성 함수와 다음 계층 사이에 하나의 계층으로 구현됨\u001b[0m\n\u001b[0m            ^\u001b[0m\n\u001b[0;31mSyntaxError\u001b[0m\u001b[0;31m:\u001b[0m invalid syntax\n"
          ]
        }
      ]
    },
    {
      "cell_type": "code",
      "source": [
        "#train,eval 함수를 이요해 학습모드와 추론모드 전환 필요\n",
        "for epoch_idx in range(n_epochs):\n",
        "    net.train()\n",
        "    for iter_idx in range(n_train_iters):\n",
        "        #Training procedure\n",
        "    net.eval()\n",
        "    for iter_idx in range(n_valid_iters):\n",
        "        #Validation procedure\n",
        "    \n",
        "#참고) 드롭아웃 적용시 일반화 성능이 개선되나 학습오차 증가 및 손실 값 수렴 속도가 저하될 수 있음"
      ],
      "metadata": {
        "id": "-zkeRKqAVCUp"
      },
      "execution_count": null,
      "outputs": []
    },
    {
      "cell_type": "markdown",
      "source": [
        "###배치 정규화(Batch Normalization)\n",
        "-학습속도를 향상시키면서 일반화 성능 또한 개선될 수 있는 방법\n",
        "-공변량 변화(convariance Shift) 문제해결을 위해 제안된\n",
        "*공변량 변화문제: 학습 이 후, 다음 미니배치에 대한 각 계층 출력의 분포가 기존과 다르게 바뀌는 문제가 발생하여 학습 효율과 성능개선이 저하됨\n",
        "배치정규화수식: 미니배치를 단위 가우시안 분포로 바꾸는 표준 정규 분포화를 수행하고 스케일 및 이동연산 적용\n",
        "***추론시에는 들어오는 샘플들에 대한이동평균과 이에따른 표준편차를 이용해 표준정규분포화 수행"
      ],
      "metadata": {
        "id": "hkIuntwxe0Jl"
      }
    },
    {
      "cell_type": "code",
      "source": [
        "#배치정규화는 신경망 내부에 계층으로 구현됨\n",
        "##배치정규화를 활용하게 될 경우 드롭아웃을 사용하지 않는 경우가 많음\n",
        "#예제코드:\n"
      ],
      "metadata": {
        "id": "I0mqMcvQgJDw"
      },
      "execution_count": null,
      "outputs": []
    },
    {
      "cell_type": "code",
      "source": [
        "#정규화 구현\n",
        "##필요한 라이브러리 불러오기\n",
        "import numpy as np\n",
        "from copy import deepcopy\n",
        "import matplotlib.pyplot as plt\n",
        "import torch\n",
        "import torch.nn as nn\n",
        "import torch.nn.functional as F\n",
        "import torch.optim as optim\n",
        "\n",
        "from torchvision import datasets, transforms"
      ],
      "metadata": {
        "id": "OrRMn7JcVyQE"
      },
      "execution_count": 4,
      "outputs": []
    },
    {
      "cell_type": "code",
      "source": [
        "#데이터 셋 불러오기 및 입출력 크기 계산\n",
        "train=datasets.MNIST(\n",
        "    '../data', train=True, download=True,\n",
        "    transform=transforms.Compose([\n",
        "        transforms.ToTensor(),\n",
        "    ]),\n",
        ")\n",
        "test=datasets.MNIST(\n",
        "    '../data', train=False,\n",
        "    transform=transforms. Compose([\n",
        "        transforms.ToTensor(),\n",
        "    ]),\n",
        ")\n",
        "x=train.data.float()/255.\n",
        "y=train.targets\n",
        "\n",
        "x=x.view(x.size(0),-1)\n",
        "print(x.shape,y.shape)\n",
        "\n",
        "input_size=x.size(-1)\n",
        "output_size=int(max(y))+1\n",
        "\n",
        "print('input_size:%d, output_size:%d'%(input_size, output_size))"
      ],
      "metadata": {
        "colab": {
          "base_uri": "https://localhost:8080/",
          "height": 475,
          "referenced_widgets": [
            "1e554fb6948347b494e02a2a33c4f03f",
            "4952d8f40ce1494d82bc132695fb3535",
            "c07141fce0d54a72be71770c3cc068e7",
            "56b5723b7a2e4e2a9019237b0bc552e4",
            "0124acabecb8484b87f6b119f235932d",
            "2cada2578df44c5680e84f737d3046cc",
            "827bd183bde143d2a7009073c35157b5",
            "a712c02f52cd4518bad9688757d9f108",
            "0314f379dc2846dd8c5ddef3e5ac8386",
            "267b059c9a3544349ec6b86983cb821f",
            "dee1bd5be24245f9997ab8ec314f135d",
            "dd6dc03c415d4e7ba127a16360276552",
            "f56ef7f117f6403fa53f023ae2827a5a",
            "89cda481ca9f445faa77157d9847fbe8",
            "419b376039aa4ec4927a25187087ff6e",
            "f80ab43cd0f34cce80733aa468ffb816",
            "cd3fb63156fa42cca8d780622235852b",
            "98f4f7c9c16d482583ac5d273ce19af8",
            "3c0a2bbb8f8f4cdc81008ae20eb29cd8",
            "d1fbb90f76b14a10a58cf0d6c6f20a50",
            "7a69a16c4e144182a769085dd263f9b7",
            "2179c7fa1453496da65351dcf9296af3",
            "1b634077f8734b47a0c6254b1f0cbb76",
            "441876abb1d646e899879afe8c6a5c04",
            "17cab08a76ae4b1c8e9d194c5775a0e9",
            "6ccb0f9dddda4093b08cb6a3bde7de49",
            "79aa4d9f3b514d508cb9b24e5b23540d",
            "7936327cfdce4001bf09db8d5ea2f85e",
            "a20de91bebfa4e4c96e55717883813c8",
            "7f66f61029c641df9ee28d7ab4a52933",
            "66dc825282a1453bbce3941a0be1242e",
            "2e7f73e3454f4001821f141686c7c48c",
            "da5d14e5aa824748a44256f42aa475d8",
            "4711bd5090b34e10a744c5dad0cc5234",
            "9c5f6963dc7d4d269100b9eac72b1db5",
            "d1a782a0f1be42849e245c8c0a1ad20d",
            "29a8d55ab01741b58373787602de72ea",
            "8835a0d3d9f14151b52953125e80f7b7",
            "ed676000ae974cd6a0cbfdc97ca138a8",
            "716c8c837f3a428289e5ed6f7f118dae",
            "e34c4ac6798d4cbd9eb3c3606a4bf130",
            "03c6112580ba444b969aee51e9f78045",
            "7e0a6801589f472c91401041a11f52cc",
            "fcb9486d3e504ebd904f208b25933d87"
          ]
        },
        "id": "JeQ0Pj-xWGGm",
        "outputId": "2100991c-7bb6-4fb2-aed9-cc9a7649bf77"
      },
      "execution_count": 5,
      "outputs": [
        {
          "output_type": "stream",
          "name": "stdout",
          "text": [
            "Downloading http://yann.lecun.com/exdb/mnist/train-images-idx3-ubyte.gz\n",
            "Downloading http://yann.lecun.com/exdb/mnist/train-images-idx3-ubyte.gz to ../data/MNIST/raw/train-images-idx3-ubyte.gz\n"
          ]
        },
        {
          "output_type": "display_data",
          "data": {
            "text/plain": [
              "  0%|          | 0/9912422 [00:00<?, ?it/s]"
            ],
            "application/vnd.jupyter.widget-view+json": {
              "version_major": 2,
              "version_minor": 0,
              "model_id": "1e554fb6948347b494e02a2a33c4f03f"
            }
          },
          "metadata": {}
        },
        {
          "output_type": "stream",
          "name": "stdout",
          "text": [
            "Extracting ../data/MNIST/raw/train-images-idx3-ubyte.gz to ../data/MNIST/raw\n",
            "\n",
            "Downloading http://yann.lecun.com/exdb/mnist/train-labels-idx1-ubyte.gz\n",
            "Downloading http://yann.lecun.com/exdb/mnist/train-labels-idx1-ubyte.gz to ../data/MNIST/raw/train-labels-idx1-ubyte.gz\n"
          ]
        },
        {
          "output_type": "display_data",
          "data": {
            "text/plain": [
              "  0%|          | 0/28881 [00:00<?, ?it/s]"
            ],
            "application/vnd.jupyter.widget-view+json": {
              "version_major": 2,
              "version_minor": 0,
              "model_id": "dd6dc03c415d4e7ba127a16360276552"
            }
          },
          "metadata": {}
        },
        {
          "output_type": "stream",
          "name": "stdout",
          "text": [
            "Extracting ../data/MNIST/raw/train-labels-idx1-ubyte.gz to ../data/MNIST/raw\n",
            "\n",
            "Downloading http://yann.lecun.com/exdb/mnist/t10k-images-idx3-ubyte.gz\n",
            "Downloading http://yann.lecun.com/exdb/mnist/t10k-images-idx3-ubyte.gz to ../data/MNIST/raw/t10k-images-idx3-ubyte.gz\n"
          ]
        },
        {
          "output_type": "display_data",
          "data": {
            "text/plain": [
              "  0%|          | 0/1648877 [00:00<?, ?it/s]"
            ],
            "application/vnd.jupyter.widget-view+json": {
              "version_major": 2,
              "version_minor": 0,
              "model_id": "1b634077f8734b47a0c6254b1f0cbb76"
            }
          },
          "metadata": {}
        },
        {
          "output_type": "stream",
          "name": "stdout",
          "text": [
            "Extracting ../data/MNIST/raw/t10k-images-idx3-ubyte.gz to ../data/MNIST/raw\n",
            "\n",
            "Downloading http://yann.lecun.com/exdb/mnist/t10k-labels-idx1-ubyte.gz\n",
            "Downloading http://yann.lecun.com/exdb/mnist/t10k-labels-idx1-ubyte.gz to ../data/MNIST/raw/t10k-labels-idx1-ubyte.gz\n"
          ]
        },
        {
          "output_type": "display_data",
          "data": {
            "text/plain": [
              "  0%|          | 0/4542 [00:00<?, ?it/s]"
            ],
            "application/vnd.jupyter.widget-view+json": {
              "version_major": 2,
              "version_minor": 0,
              "model_id": "4711bd5090b34e10a744c5dad0cc5234"
            }
          },
          "metadata": {}
        },
        {
          "output_type": "stream",
          "name": "stdout",
          "text": [
            "Extracting ../data/MNIST/raw/t10k-labels-idx1-ubyte.gz to ../data/MNIST/raw\n",
            "\n",
            "torch.Size([60000, 784]) torch.Size([60000])\n",
            "input_size:784, output_size:10\n"
          ]
        }
      ]
    },
    {
      "cell_type": "code",
      "source": [
        "#학습, 검증 테스트 데이터 셋 구성\n",
        "#train/valid ratio\n",
        "ratios=[.8,.2]\n",
        "train_cnt=int(x.size(0)*ratios[0])\n",
        "valid_cnt=int(x.size(0)*ratios[1])\n",
        "test_cnt=len(test.data)\n",
        "cnts=[train_cnt,valid_cnt]\n",
        "print(\"Train%d/Valid%d/Test%d samples.\"%(train_cnt,valid_cnt, test_cnt))\n",
        "indices=torch.randperm(x.size(0))\n",
        "x=torch.index_select(x,dim=0,index=indices)\n",
        "y=torch.index_select(y,dim=0,index=indices)\n",
        "x=list(x.split(cnts,dim=0))\n",
        "y=list(y.split(cnts,dim=0))\n",
        "x+=[(test.data.float()/255.).view(test_cnt,-1)]\n",
        "y+=[test.targets]\n",
        "for x_i,y_i in zip(x,y):\n",
        "    print(x_i.size(),y_i.size())"
      ],
      "metadata": {
        "colab": {
          "base_uri": "https://localhost:8080/"
        },
        "id": "tsJHYQypWx8x",
        "outputId": "0ccada1a-94f3-4992-fc48-f6871ca890ee"
      },
      "execution_count": 6,
      "outputs": [
        {
          "output_type": "stream",
          "name": "stdout",
          "text": [
            "Train48000/Valid12000/Test10000 samples.\n",
            "torch.Size([48000, 784]) torch.Size([48000])\n",
            "torch.Size([12000, 784]) torch.Size([12000])\n",
            "torch.Size([10000, 784]) torch.Size([10000])\n"
          ]
        }
      ]
    },
    {
      "cell_type": "code",
      "source": [
        "#기본 블록 정의\n",
        "class Block(nn.Module):\n",
        "    def __init__(self,\n",
        "                input_size,\n",
        "                output_size,\n",
        "                use_batch_norm=True,\n",
        "                dropout_p=.4):\n",
        "        self.input_size=input_size\n",
        "        self.output_size=output_size\n",
        "        self.use_batch_norm=use_batch_norm\n",
        "        self.dropout_p=dropout_p\n",
        "        super().__init__()\n",
        "        def get_regularizer(use_batch_norm,size):\n",
        "            return nn.BatchNorm1d(size) if use_batch_norm else nn.Dropout(dropout_p)\n",
        "        self.block=nn.Sequential(\n",
        "            nn.Linear(input_size,output_size),\n",
        "            nn.LeakyReLU(),\n",
        "            get_regularizer(use_batch_norm,output_size),\n",
        "        )\n",
        "    def forward(self,x):\n",
        "        y=self.block(x)\n",
        "        return y"
      ],
      "metadata": {
        "id": "1ET4AhkehdKV"
      },
      "execution_count": 7,
      "outputs": []
    },
    {
      "cell_type": "code",
      "source": [
        "#모델(신경망)구성\n",
        "class MyModel(nn.Module):\n",
        "    def __init__(self,\n",
        "                 input_size,\n",
        "                 output_size,\n",
        "                 use_batch_norm=True,\n",
        "                 dropout_p=.4):\n",
        "        super().__init__()\n",
        "\n",
        "        self.layers=nn.Sequential(\n",
        "            Block(input_size,500,use_batch_norm,dropout_p),\n",
        "            Block(500,400,use_batch_norm,dropout_p),\n",
        "            Block(400,300,use_batch_norm,dropout_p),\n",
        "            Block(300,200,use_batch_norm,dropout_p),\n",
        "            Block(200,100,use_batch_norm,dropout_p),\n",
        "            Block(100,50,use_batch_norm,dropout_p),\n",
        "            nn.Linear(50,output_size),\n",
        "            nn.LogSoftmax(dim=-1)\n",
        "        )\n",
        "    def forward(self,x):\n",
        "        y=self.layers(x)\n",
        "        return y"
      ],
      "metadata": {
        "id": "qrul9BFviiQk"
      },
      "execution_count": 8,
      "outputs": []
    },
    {
      "cell_type": "code",
      "source": [
        "#모델 선언 및 출력\n",
        "model=MyModel(input_size,\n",
        "              output_size,\n",
        "              use_batch_norm=True)\n",
        "print(model)\n",
        "\n",
        "#옵티마이저 및 손실함수 설정\n",
        "optimizer=optim.Adam(model.parameters())\n",
        "crit=nn.NLLLoss()"
      ],
      "metadata": {
        "colab": {
          "base_uri": "https://localhost:8080/"
        },
        "id": "DSW247Z-j7D9",
        "outputId": "56b9f857-14a6-44f4-a2ab-69b2005ec3cb"
      },
      "execution_count": 9,
      "outputs": [
        {
          "output_type": "stream",
          "name": "stdout",
          "text": [
            "MyModel(\n",
            "  (layers): Sequential(\n",
            "    (0): Block(\n",
            "      (block): Sequential(\n",
            "        (0): Linear(in_features=784, out_features=500, bias=True)\n",
            "        (1): LeakyReLU(negative_slope=0.01)\n",
            "        (2): BatchNorm1d(500, eps=1e-05, momentum=0.1, affine=True, track_running_stats=True)\n",
            "      )\n",
            "    )\n",
            "    (1): Block(\n",
            "      (block): Sequential(\n",
            "        (0): Linear(in_features=500, out_features=400, bias=True)\n",
            "        (1): LeakyReLU(negative_slope=0.01)\n",
            "        (2): BatchNorm1d(400, eps=1e-05, momentum=0.1, affine=True, track_running_stats=True)\n",
            "      )\n",
            "    )\n",
            "    (2): Block(\n",
            "      (block): Sequential(\n",
            "        (0): Linear(in_features=400, out_features=300, bias=True)\n",
            "        (1): LeakyReLU(negative_slope=0.01)\n",
            "        (2): BatchNorm1d(300, eps=1e-05, momentum=0.1, affine=True, track_running_stats=True)\n",
            "      )\n",
            "    )\n",
            "    (3): Block(\n",
            "      (block): Sequential(\n",
            "        (0): Linear(in_features=300, out_features=200, bias=True)\n",
            "        (1): LeakyReLU(negative_slope=0.01)\n",
            "        (2): BatchNorm1d(200, eps=1e-05, momentum=0.1, affine=True, track_running_stats=True)\n",
            "      )\n",
            "    )\n",
            "    (4): Block(\n",
            "      (block): Sequential(\n",
            "        (0): Linear(in_features=200, out_features=100, bias=True)\n",
            "        (1): LeakyReLU(negative_slope=0.01)\n",
            "        (2): BatchNorm1d(100, eps=1e-05, momentum=0.1, affine=True, track_running_stats=True)\n",
            "      )\n",
            "    )\n",
            "    (5): Block(\n",
            "      (block): Sequential(\n",
            "        (0): Linear(in_features=100, out_features=50, bias=True)\n",
            "        (1): LeakyReLU(negative_slope=0.01)\n",
            "        (2): BatchNorm1d(50, eps=1e-05, momentum=0.1, affine=True, track_running_stats=True)\n",
            "      )\n",
            "    )\n",
            "    (6): Linear(in_features=50, out_features=10, bias=True)\n",
            "    (7): LogSoftmax(dim=-1)\n",
            "  )\n",
            ")\n"
          ]
        }
      ]
    },
    {
      "cell_type": "code",
      "source": [
        "#GPU 사용 설정\n",
        "device=torch.device('cpu')\n",
        "if torch.cuda.is_available():\n",
        "    device=torch.device('cuda')\n",
        "model=model.to(device)\n",
        "x=[x_i.to(device) for x_i in x]\n",
        "y=[y_i.to(device) for y_i in y]\n",
        "#하이퍼 파라미터 및 학습을 위한 변수 설정\n",
        "n_epochs=1000\n",
        "batch_size=256\n",
        "print_interval=10\n",
        "\n",
        "lowest_loss=np.inf\n",
        "best_model=None\n",
        "\n",
        "early_stop=50\n",
        "lowest_epoch=np.inf"
      ],
      "metadata": {
        "id": "YJYczG_skMWl"
      },
      "execution_count": 12,
      "outputs": []
    },
    {
      "cell_type": "code",
      "source": [
        "#학습시작\n",
        "train_history,valid_history=[],[]\n",
        "for i in range(n_epochs):\n",
        "    model.train()\n",
        "\n",
        "    indices=torch.randperm(x[0].size(0)).to(device)\n",
        "    x_=torch.index_select(x[0],dim=0,index=indices)\n",
        "    y_=torch.index_select(y[0],dim=0,index=indices)\n",
        "\n",
        "    x_=x_.split(batch_size,dim=0)\n",
        "    y_=y_.split(batch_size,dim=0)\n",
        "\n",
        "    train_loss,valid_loss=0,0\n",
        "    y_hat=[]\n",
        "\n",
        "    for x_i,y_i in zip(x_,y_):\n",
        "        y_hat_i= model(x_i)\n",
        "        loss=crit(y_hat_i,y_i.squeeze())\n",
        "\n",
        "        optimizer.zero_grad()\n",
        "        loss.backward()\n",
        "\n",
        "        optimizer.step()\n",
        "        train_loss+=float(loss)\n",
        "\n",
        "    train_loss=train_loss/len(x_)\n",
        "\n",
        "#학습시작: 검증\n",
        "    model.eval()\n",
        "    with torch.no_grad():\n",
        "        x_=x[1].split(batch_size,dim=0)\n",
        "        y_=y[1].split(batch_size,dim=0)\n",
        "\n",
        "        valid_loss=0\n",
        "\n",
        "        for x_i,y_i in zip(x_,y_):\n",
        "            y_hat_i=model(x_i)\n",
        "            loss=crit(y_hat_i, y_i.squeeze())\n",
        "\n",
        "            valid_loss+=float(loss)\n",
        "            y_hat+=[y_hat_i]\n",
        "    valid_loss=valid_loss/len(x_)\n",
        "\n",
        "    train_history+=[train_loss]\n",
        "    valid_history+=[valid_loss]\n",
        "\n",
        "    if (i+1)% print_interval==0:\n",
        "        print('Epoch%d: train loss=%.4e valid_loss=%.4e lowest_loss=%.4e'%\n",
        "(\n",
        "                  i+1,\n",
        "               train_loss,\n",
        "               valid_loss,\n",
        "               lowest_loss,\n",
        "              )\n",
        "              )\n",
        "        \n",
        "        #학습시작:검증\n",
        "    if valid_loss<=lowest_loss:\n",
        "        lowest_loss=valid_loss\n",
        "        lowest_epoch=i\n",
        "\n",
        "        best_model=deepcopy(model.state_dict())\n",
        "    else:\n",
        "        if early_stop>0 and lowest_epoch + early_stop<i+1:\n",
        "            print(\"There is no improvement during last %d epochs.\"% early_stop)\n",
        "            break\n",
        "\n",
        "print(\"The best validation loss from epoch %d: %.4e\"%(lowest_epoch+1,lowest_loss))\n",
        "model.load_state_dict(best_model)"
      ],
      "metadata": {
        "colab": {
          "base_uri": "https://localhost:8080/"
        },
        "id": "nZzOB-tLkhal",
        "outputId": "d8548a21-b2fb-447e-ec4f-ce3dc5820633"
      },
      "execution_count": 22,
      "outputs": [
        {
          "output_type": "stream",
          "name": "stdout",
          "text": [
            "Epoch10: train loss=6.0549e-04 valid_loss=1.0097e-01 lowest_loss=7.9528e-02\n",
            "Epoch20: train loss=7.9567e-04 valid_loss=9.1514e-02 lowest_loss=7.9528e-02\n",
            "Epoch30: train loss=8.2963e-04 valid_loss=1.0170e-01 lowest_loss=7.9528e-02\n",
            "Epoch40: train loss=3.3897e-03 valid_loss=1.0196e-01 lowest_loss=7.9528e-02\n",
            "Epoch50: train loss=2.8384e-03 valid_loss=9.5138e-02 lowest_loss=7.9528e-02\n",
            "Epoch60: train loss=1.9568e-03 valid_loss=1.0244e-01 lowest_loss=7.9528e-02\n",
            "Epoch70: train loss=4.7464e-04 valid_loss=9.6219e-02 lowest_loss=7.9528e-02\n",
            "There is no improvement during last 50 epochs.\n",
            "The best validation loss from epoch 27: 7.9528e-02\n"
          ]
        },
        {
          "output_type": "execute_result",
          "data": {
            "text/plain": [
              "<All keys matched successfully>"
            ]
          },
          "metadata": {},
          "execution_count": 22
        }
      ]
    },
    {
      "cell_type": "code",
      "source": [
        "#손실곡선 확인\n",
        "plot_from=0\n",
        "\n",
        "plt.figure(figsize=(20,10))\n",
        "plt.grid(True)\n",
        "plt.title(\"Train/Valid Loss History\")\n",
        "plt.plot(\n",
        "    range(plot_from,len(train_history)),train_history[plot_from:],\n",
        "    range(plot_from,len(valid_history)),valid_history[plot_from:],\n",
        ")\n",
        "plt.yscale('log')\n",
        "plt.show()"
      ],
      "metadata": {
        "colab": {
          "base_uri": "https://localhost:8080/",
          "height": 607
        },
        "id": "zwVVsBoOldYl",
        "outputId": "b411c05a-5cb0-4f0c-91b8-f703007780c0"
      },
      "execution_count": 24,
      "outputs": [
        {
          "output_type": "display_data",
          "data": {
            "text/plain": [
              "<Figure size 1440x720 with 1 Axes>"
            ],
            "image/png": "[encoded data removed]"
          },
          "metadata": {
            "needs_background": "light"
          }
        }
      ]
    },
    {
      "cell_type": "code",
      "source": [],
      "metadata": {
        "id": "7_80XOtQpnwp"
      },
      "execution_count": null,
      "outputs": []
    }
  ]
}