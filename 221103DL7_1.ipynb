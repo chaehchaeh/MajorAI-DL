{
  "nbformat": 4,
  "nbformat_minor": 0,
  "metadata": {
    "colab": {
      "provenance": [],
      "collapsed_sections": [],
      "authorship_tag": "ABX9TyOCypqm9S26uF5VHDwha/Vi",
      "include_colab_link": true
    },
    "kernelspec": {
      "name": "python3",
      "display_name": "Python 3"
    },
    "language_info": {
      "name": "python"
    },
    "accelerator": "GPU",
    "gpuClass": "standard",
    "widgets": {
      "application/vnd.jupyter.widget-state+json": {
        "8bda3fe49c3b4bd9adfd1b1d41ecdb4a": {
          "model_module": "@jupyter-widgets/controls",
          "model_name": "HBoxModel",
          "model_module_version": "1.5.0",
          "state": {
            "_dom_classes": [],
            "_model_module": "@jupyter-widgets/controls",
            "_model_module_version": "1.5.0",
            "_model_name": "HBoxModel",
            "_view_count": null,
            "_view_module": "@jupyter-widgets/controls",
            "_view_module_version": "1.5.0",
            "_view_name": "HBoxView",
            "box_style": "",
            "children": [
              "IPY_MODEL_abc402ca9ae54895b5e5d90466eb621a",
              "IPY_MODEL_8c6852c5438347b1badd72384202a590",
              "IPY_MODEL_b9d3e1e9390541f4aba5c20c6a708f84"
            ],
            "layout": "IPY_MODEL_fd76c1e16d8748e58e035ea32bee1184"
          }
        },
        "abc402ca9ae54895b5e5d90466eb621a": {
          "model_module": "@jupyter-widgets/controls",
          "model_name": "HTMLModel",
          "model_module_version": "1.5.0",
          "state": {
            "_dom_classes": [],
            "_model_module": "@jupyter-widgets/controls",
            "_model_module_version": "1.5.0",
            "_model_name": "HTMLModel",
            "_view_count": null,
            "_view_module": "@jupyter-widgets/controls",
            "_view_module_version": "1.5.0",
            "_view_name": "HTMLView",
            "description": "",
            "description_tooltip": null,
            "layout": "IPY_MODEL_6fb984881b434880b1d55997bebf5ad4",
            "placeholder": "​",
            "style": "IPY_MODEL_9b50fb7cc9d7416992775d6f86e4ba8d",
            "value": "100%"
          }
        },
        "8c6852c5438347b1badd72384202a590": {
          "model_module": "@jupyter-widgets/controls",
          "model_name": "FloatProgressModel",
          "model_module_version": "1.5.0",
          "state": {
            "_dom_classes": [],
            "_model_module": "@jupyter-widgets/controls",
            "_model_module_version": "1.5.0",
            "_model_name": "FloatProgressModel",
            "_view_count": null,
            "_view_module": "@jupyter-widgets/controls",
            "_view_module_version": "1.5.0",
            "_view_name": "ProgressView",
            "bar_style": "success",
            "description": "",
            "description_tooltip": null,
            "layout": "IPY_MODEL_faf4642c920245af84d85a3580f04edf",
            "max": 9912422,
            "min": 0,
            "orientation": "horizontal",
            "style": "IPY_MODEL_5bf6ce1fb2e8428ba14e88e53a33625f",
            "value": 9912422
          }
        },
        "b9d3e1e9390541f4aba5c20c6a708f84": {
          "model_module": "@jupyter-widgets/controls",
          "model_name": "HTMLModel",
          "model_module_version": "1.5.0",
          "state": {
            "_dom_classes": [],
            "_model_module": "@jupyter-widgets/controls",
            "_model_module_version": "1.5.0",
            "_model_name": "HTMLModel",
            "_view_count": null,
            "_view_module": "@jupyter-widgets/controls",
            "_view_module_version": "1.5.0",
            "_view_name": "HTMLView",
            "description": "",
            "description_tooltip": null,
            "layout": "IPY_MODEL_a82323f759aa4484ba5f6d074001fa1a",
            "placeholder": "​",
            "style": "IPY_MODEL_676283502eea4e998667c3c50292f5eb",
            "value": " 9912422/9912422 [00:00&lt;00:00, 66205462.89it/s]"
          }
        },
        "fd76c1e16d8748e58e035ea32bee1184": {
          "model_module": "@jupyter-widgets/base",
          "model_name": "LayoutModel",
          "model_module_version": "1.2.0",
          "state": {
            "_model_module": "@jupyter-widgets/base",
            "_model_module_version": "1.2.0",
            "_model_name": "LayoutModel",
            "_view_count": null,
            "_view_module": "@jupyter-widgets/base",
            "_view_module_version": "1.2.0",
            "_view_name": "LayoutView",
            "align_content": null,
            "align_items": null,
            "align_self": null,
            "border": null,
            "bottom": null,
            "display": null,
            "flex": null,
            "flex_flow": null,
            "grid_area": null,
            "grid_auto_columns": null,
            "grid_auto_flow": null,
            "grid_auto_rows": null,
            "grid_column": null,
            "grid_gap": null,
            "grid_row": null,
            "grid_template_areas": null,
            "grid_template_columns": null,
            "grid_template_rows": null,
            "height": null,
            "justify_content": null,
            "justify_items": null,
            "left": null,
            "margin": null,
            "max_height": null,
            "max_width": null,
            "min_height": null,
            "min_width": null,
            "object_fit": null,
            "object_position": null,
            "order": null,
            "overflow": null,
            "overflow_x": null,
            "overflow_y": null,
            "padding": null,
            "right": null,
            "top": null,
            "visibility": null,
            "width": null
          }
        },
        "6fb984881b434880b1d55997bebf5ad4": {
          "model_module": "@jupyter-widgets/base",
          "model_name": "LayoutModel",
          "model_module_version": "1.2.0",
          "state": {
            "_model_module": "@jupyter-widgets/base",
            "_model_module_version": "1.2.0",
            "_model_name": "LayoutModel",
            "_view_count": null,
            "_view_module": "@jupyter-widgets/base",
            "_view_module_version": "1.2.0",
            "_view_name": "LayoutView",
            "align_content": null,
            "align_items": null,
            "align_self": null,
            "border": null,
            "bottom": null,
            "display": null,
            "flex": null,
            "flex_flow": null,
            "grid_area": null,
            "grid_auto_columns": null,
            "grid_auto_flow": null,
            "grid_auto_rows": null,
            "grid_column": null,
            "grid_gap": null,
            "grid_row": null,
            "grid_template_areas": null,
            "grid_template_columns": null,
            "grid_template_rows": null,
            "height": null,
            "justify_content": null,
            "justify_items": null,
            "left": null,
            "margin": null,
            "max_height": null,
            "max_width": null,
            "min_height": null,
            "min_width": null,
            "object_fit": null,
            "object_position": null,
            "order": null,
            "overflow": null,
            "overflow_x": null,
            "overflow_y": null,
            "padding": null,
            "right": null,
            "top": null,
            "visibility": null,
            "width": null
          }
        },
        "9b50fb7cc9d7416992775d6f86e4ba8d": {
          "model_module": "@jupyter-widgets/controls",
          "model_name": "DescriptionStyleModel",
          "model_module_version": "1.5.0",
          "state": {
            "_model_module": "@jupyter-widgets/controls",
            "_model_module_version": "1.5.0",
            "_model_name": "DescriptionStyleModel",
            "_view_count": null,
            "_view_module": "@jupyter-widgets/base",
            "_view_module_version": "1.2.0",
            "_view_name": "StyleView",
            "description_width": ""
          }
        },
        "faf4642c920245af84d85a3580f04edf": {
          "model_module": "@jupyter-widgets/base",
          "model_name": "LayoutModel",
          "model_module_version": "1.2.0",
          "state": {
            "_model_module": "@jupyter-widgets/base",
            "_model_module_version": "1.2.0",
            "_model_name": "LayoutModel",
            "_view_count": null,
            "_view_module": "@jupyter-widgets/base",
            "_view_module_version": "1.2.0",
            "_view_name": "LayoutView",
            "align_content": null,
            "align_items": null,
            "align_self": null,
            "border": null,
            "bottom": null,
            "display": null,
            "flex": null,
            "flex_flow": null,
            "grid_area": null,
            "grid_auto_columns": null,
            "grid_auto_flow": null,
            "grid_auto_rows": null,
            "grid_column": null,
            "grid_gap": null,
            "grid_row": null,
            "grid_template_areas": null,
            "grid_template_columns": null,
            "grid_template_rows": null,
            "height": null,
            "justify_content": null,
            "justify_items": null,
            "left": null,
            "margin": null,
            "max_height": null,
            "max_width": null,
            "min_height": null,
            "min_width": null,
            "object_fit": null,
            "object_position": null,
            "order": null,
            "overflow": null,
            "overflow_x": null,
            "overflow_y": null,
            "padding": null,
            "right": null,
            "top": null,
            "visibility": null,
            "width": null
          }
        },
        "5bf6ce1fb2e8428ba14e88e53a33625f": {
          "model_module": "@jupyter-widgets/controls",
          "model_name": "ProgressStyleModel",
          "model_module_version": "1.5.0",
          "state": {
            "_model_module": "@jupyter-widgets/controls",
            "_model_module_version": "1.5.0",
            "_model_name": "ProgressStyleModel",
            "_view_count": null,
            "_view_module": "@jupyter-widgets/base",
            "_view_module_version": "1.2.0",
            "_view_name": "StyleView",
            "bar_color": null,
            "description_width": ""
          }
        },
        "a82323f759aa4484ba5f6d074001fa1a": {
          "model_module": "@jupyter-widgets/base",
          "model_name": "LayoutModel",
          "model_module_version": "1.2.0",
          "state": {
            "_model_module": "@jupyter-widgets/base",
            "_model_module_version": "1.2.0",
            "_model_name": "LayoutModel",
            "_view_count": null,
            "_view_module": "@jupyter-widgets/base",
            "_view_module_version": "1.2.0",
            "_view_name": "LayoutView",
            "align_content": null,
            "align_items": null,
            "align_self": null,
            "border": null,
            "bottom": null,
            "display": null,
            "flex": null,
            "flex_flow": null,
            "grid_area": null,
            "grid_auto_columns": null,
            "grid_auto_flow": null,
            "grid_auto_rows": null,
            "grid_column": null,
            "grid_gap": null,
            "grid_row": null,
            "grid_template_areas": null,
            "grid_template_columns": null,
            "grid_template_rows": null,
            "height": null,
            "justify_content": null,
            "justify_items": null,
            "left": null,
            "margin": null,
            "max_height": null,
            "max_width": null,
            "min_height": null,
            "min_width": null,
            "object_fit": null,
            "object_position": null,
            "order": null,
            "overflow": null,
            "overflow_x": null,
            "overflow_y": null,
            "padding": null,
            "right": null,
            "top": null,
            "visibility": null,
            "width": null
          }
        },
        "676283502eea4e998667c3c50292f5eb": {
          "model_module": "@jupyter-widgets/controls",
          "model_name": "DescriptionStyleModel",
          "model_module_version": "1.5.0",
          "state": {
            "_model_module": "@jupyter-widgets/controls",
            "_model_module_version": "1.5.0",
            "_model_name": "DescriptionStyleModel",
            "_view_count": null,
            "_view_module": "@jupyter-widgets/base",
            "_view_module_version": "1.2.0",
            "_view_name": "StyleView",
            "description_width": ""
          }
        },
        "53f66308249145a0a7e247245964d92d": {
          "model_module": "@jupyter-widgets/controls",
          "model_name": "HBoxModel",
          "model_module_version": "1.5.0",
          "state": {
            "_dom_classes": [],
            "_model_module": "@jupyter-widgets/controls",
            "_model_module_version": "1.5.0",
            "_model_name": "HBoxModel",
            "_view_count": null,
            "_view_module": "@jupyter-widgets/controls",
            "_view_module_version": "1.5.0",
            "_view_name": "HBoxView",
            "box_style": "",
            "children": [
              "IPY_MODEL_a9d3191d7e01493a8f4c98361f8aec6c",
              "IPY_MODEL_eb32c29803f54d67ba76389b34bee092",
              "IPY_MODEL_54dbf155e9534c7c90a841a2df7354c9"
            ],
            "layout": "IPY_MODEL_b517d95cae62416cb651341eb0410e25"
          }
        },
        "a9d3191d7e01493a8f4c98361f8aec6c": {
          "model_module": "@jupyter-widgets/controls",
          "model_name": "HTMLModel",
          "model_module_version": "1.5.0",
          "state": {
            "_dom_classes": [],
            "_model_module": "@jupyter-widgets/controls",
            "_model_module_version": "1.5.0",
            "_model_name": "HTMLModel",
            "_view_count": null,
            "_view_module": "@jupyter-widgets/controls",
            "_view_module_version": "1.5.0",
            "_view_name": "HTMLView",
            "description": "",
            "description_tooltip": null,
            "layout": "IPY_MODEL_771ea810575c454db2924711228769a6",
            "placeholder": "​",
            "style": "IPY_MODEL_f17c8697144042ecb4dd7d3c44035dec",
            "value": "100%"
          }
        },
        "eb32c29803f54d67ba76389b34bee092": {
          "model_module": "@jupyter-widgets/controls",
          "model_name": "FloatProgressModel",
          "model_module_version": "1.5.0",
          "state": {
            "_dom_classes": [],
            "_model_module": "@jupyter-widgets/controls",
            "_model_module_version": "1.5.0",
            "_model_name": "FloatProgressModel",
            "_view_count": null,
            "_view_module": "@jupyter-widgets/controls",
            "_view_module_version": "1.5.0",
            "_view_name": "ProgressView",
            "bar_style": "success",
            "description": "",
            "description_tooltip": null,
            "layout": "IPY_MODEL_c8d714475ca346008166815aa3324902",
            "max": 28881,
            "min": 0,
            "orientation": "horizontal",
            "style": "IPY_MODEL_e9f8137379ff493da0b0b0a7b774b08b",
            "value": 28881
          }
        },
        "54dbf155e9534c7c90a841a2df7354c9": {
          "model_module": "@jupyter-widgets/controls",
          "model_name": "HTMLModel",
          "model_module_version": "1.5.0",
          "state": {
            "_dom_classes": [],
            "_model_module": "@jupyter-widgets/controls",
            "_model_module_version": "1.5.0",
            "_model_name": "HTMLModel",
            "_view_count": null,
            "_view_module": "@jupyter-widgets/controls",
            "_view_module_version": "1.5.0",
            "_view_name": "HTMLView",
            "description": "",
            "description_tooltip": null,
            "layout": "IPY_MODEL_fa9fa30bcc644b3e90edf551bb6b42a2",
            "placeholder": "​",
            "style": "IPY_MODEL_098eeb31ff514b8aa3637784ced0bca0",
            "value": " 28881/28881 [00:00&lt;00:00, 975579.00it/s]"
          }
        },
        "b517d95cae62416cb651341eb0410e25": {
          "model_module": "@jupyter-widgets/base",
          "model_name": "LayoutModel",
          "model_module_version": "1.2.0",
          "state": {
            "_model_module": "@jupyter-widgets/base",
            "_model_module_version": "1.2.0",
            "_model_name": "LayoutModel",
            "_view_count": null,
            "_view_module": "@jupyter-widgets/base",
            "_view_module_version": "1.2.0",
            "_view_name": "LayoutView",
            "align_content": null,
            "align_items": null,
            "align_self": null,
            "border": null,
            "bottom": null,
            "display": null,
            "flex": null,
            "flex_flow": null,
            "grid_area": null,
            "grid_auto_columns": null,
            "grid_auto_flow": null,
            "grid_auto_rows": null,
            "grid_column": null,
            "grid_gap": null,
            "grid_row": null,
            "grid_template_areas": null,
            "grid_template_columns": null,
            "grid_template_rows": null,
            "height": null,
            "justify_content": null,
            "justify_items": null,
            "left": null,
            "margin": null,
            "max_height": null,
            "max_width": null,
            "min_height": null,
            "min_width": null,
            "object_fit": null,
            "object_position": null,
            "order": null,
            "overflow": null,
            "overflow_x": null,
            "overflow_y": null,
            "padding": null,
            "right": null,
            "top": null,
            "visibility": null,
            "width": null
          }
        },
        "771ea810575c454db2924711228769a6": {
          "model_module": "@jupyter-widgets/base",
          "model_name": "LayoutModel",
          "model_module_version": "1.2.0",
          "state": {
            "_model_module": "@jupyter-widgets/base",
            "_model_module_version": "1.2.0",
            "_model_name": "LayoutModel",
            "_view_count": null,
            "_view_module": "@jupyter-widgets/base",
            "_view_module_version": "1.2.0",
            "_view_name": "LayoutView",
            "align_content": null,
            "align_items": null,
            "align_self": null,
            "border": null,
            "bottom": null,
            "display": null,
            "flex": null,
            "flex_flow": null,
            "grid_area": null,
            "grid_auto_columns": null,
            "grid_auto_flow": null,
            "grid_auto_rows": null,
            "grid_column": null,
            "grid_gap": null,
            "grid_row": null,
            "grid_template_areas": null,
            "grid_template_columns": null,
            "grid_template_rows": null,
            "height": null,
            "justify_content": null,
            "justify_items": null,
            "left": null,
            "margin": null,
            "max_height": null,
            "max_width": null,
            "min_height": null,
            "min_width": null,
            "object_fit": null,
            "object_position": null,
            "order": null,
            "overflow": null,
            "overflow_x": null,
            "overflow_y": null,
            "padding": null,
            "right": null,
            "top": null,
            "visibility": null,
            "width": null
          }
        },
        "f17c8697144042ecb4dd7d3c44035dec": {
          "model_module": "@jupyter-widgets/controls",
          "model_name": "DescriptionStyleModel",
          "model_module_version": "1.5.0",
          "state": {
            "_model_module": "@jupyter-widgets/controls",
            "_model_module_version": "1.5.0",
            "_model_name": "DescriptionStyleModel",
            "_view_count": null,
            "_view_module": "@jupyter-widgets/base",
            "_view_module_version": "1.2.0",
            "_view_name": "StyleView",
            "description_width": ""
          }
        },
        "c8d714475ca346008166815aa3324902": {
          "model_module": "@jupyter-widgets/base",
          "model_name": "LayoutModel",
          "model_module_version": "1.2.0",
          "state": {
            "_model_module": "@jupyter-widgets/base",
            "_model_module_version": "1.2.0",
            "_model_name": "LayoutModel",
            "_view_count": null,
            "_view_module": "@jupyter-widgets/base",
            "_view_module_version": "1.2.0",
            "_view_name": "LayoutView",
            "align_content": null,
            "align_items": null,
            "align_self": null,
            "border": null,
            "bottom": null,
            "display": null,
            "flex": null,
            "flex_flow": null,
            "grid_area": null,
            "grid_auto_columns": null,
            "grid_auto_flow": null,
            "grid_auto_rows": null,
            "grid_column": null,
            "grid_gap": null,
            "grid_row": null,
            "grid_template_areas": null,
            "grid_template_columns": null,
            "grid_template_rows": null,
            "height": null,
            "justify_content": null,
            "justify_items": null,
            "left": null,
            "margin": null,
            "max_height": null,
            "max_width": null,
            "min_height": null,
            "min_width": null,
            "object_fit": null,
            "object_position": null,
            "order": null,
            "overflow": null,
            "overflow_x": null,
            "overflow_y": null,
            "padding": null,
            "right": null,
            "top": null,
            "visibility": null,
            "width": null
          }
        },
        "e9f8137379ff493da0b0b0a7b774b08b": {
          "model_module": "@jupyter-widgets/controls",
          "model_name": "ProgressStyleModel",
          "model_module_version": "1.5.0",
          "state": {
            "_model_module": "@jupyter-widgets/controls",
            "_model_module_version": "1.5.0",
            "_model_name": "ProgressStyleModel",
            "_view_count": null,
            "_view_module": "@jupyter-widgets/base",
            "_view_module_version": "1.2.0",
            "_view_name": "StyleView",
            "bar_color": null,
            "description_width": ""
          }
        },
        "fa9fa30bcc644b3e90edf551bb6b42a2": {
          "model_module": "@jupyter-widgets/base",
          "model_name": "LayoutModel",
          "model_module_version": "1.2.0",
          "state": {
            "_model_module": "@jupyter-widgets/base",
            "_model_module_version": "1.2.0",
            "_model_name": "LayoutModel",
            "_view_count": null,
            "_view_module": "@jupyter-widgets/base",
            "_view_module_version": "1.2.0",
            "_view_name": "LayoutView",
            "align_content": null,
            "align_items": null,
            "align_self": null,
            "border": null,
            "bottom": null,
            "display": null,
            "flex": null,
            "flex_flow": null,
            "grid_area": null,
            "grid_auto_columns": null,
            "grid_auto_flow": null,
            "grid_auto_rows": null,
            "grid_column": null,
            "grid_gap": null,
            "grid_row": null,
            "grid_template_areas": null,
            "grid_template_columns": null,
            "grid_template_rows": null,
            "height": null,
            "justify_content": null,
            "justify_items": null,
            "left": null,
            "margin": null,
            "max_height": null,
            "max_width": null,
            "min_height": null,
            "min_width": null,
            "object_fit": null,
            "object_position": null,
            "order": null,
            "overflow": null,
            "overflow_x": null,
            "overflow_y": null,
            "padding": null,
            "right": null,
            "top": null,
            "visibility": null,
            "width": null
          }
        },
        "098eeb31ff514b8aa3637784ced0bca0": {
          "model_module": "@jupyter-widgets/controls",
          "model_name": "DescriptionStyleModel",
          "model_module_version": "1.5.0",
          "state": {
            "_model_module": "@jupyter-widgets/controls",
            "_model_module_version": "1.5.0",
            "_model_name": "DescriptionStyleModel",
            "_view_count": null,
            "_view_module": "@jupyter-widgets/base",
            "_view_module_version": "1.2.0",
            "_view_name": "StyleView",
            "description_width": ""
          }
        },
        "c925eec14b96424d8613b036fb9bf428": {
          "model_module": "@jupyter-widgets/controls",
          "model_name": "HBoxModel",
          "model_module_version": "1.5.0",
          "state": {
            "_dom_classes": [],
            "_model_module": "@jupyter-widgets/controls",
            "_model_module_version": "1.5.0",
            "_model_name": "HBoxModel",
            "_view_count": null,
            "_view_module": "@jupyter-widgets/controls",
            "_view_module_version": "1.5.0",
            "_view_name": "HBoxView",
            "box_style": "",
            "children": [
              "IPY_MODEL_d738fdb038c7405fb2b15619cfbd3fd2",
              "IPY_MODEL_13d212198e994f8d829de5361c43fa91",
              "IPY_MODEL_790e311370bf481ea158fb2776d5314b"
            ],
            "layout": "IPY_MODEL_51f6eebe76154236ae090c16c62d96da"
          }
        },
        "d738fdb038c7405fb2b15619cfbd3fd2": {
          "model_module": "@jupyter-widgets/controls",
          "model_name": "HTMLModel",
          "model_module_version": "1.5.0",
          "state": {
            "_dom_classes": [],
            "_model_module": "@jupyter-widgets/controls",
            "_model_module_version": "1.5.0",
            "_model_name": "HTMLModel",
            "_view_count": null,
            "_view_module": "@jupyter-widgets/controls",
            "_view_module_version": "1.5.0",
            "_view_name": "HTMLView",
            "description": "",
            "description_tooltip": null,
            "layout": "IPY_MODEL_6d4ea1ac18b54604993246dc9d6227d3",
            "placeholder": "​",
            "style": "IPY_MODEL_269c31cc450849cbb79a11fb5f8d943c",
            "value": "100%"
          }
        },
        "13d212198e994f8d829de5361c43fa91": {
          "model_module": "@jupyter-widgets/controls",
          "model_name": "FloatProgressModel",
          "model_module_version": "1.5.0",
          "state": {
            "_dom_classes": [],
            "_model_module": "@jupyter-widgets/controls",
            "_model_module_version": "1.5.0",
            "_model_name": "FloatProgressModel",
            "_view_count": null,
            "_view_module": "@jupyter-widgets/controls",
            "_view_module_version": "1.5.0",
            "_view_name": "ProgressView",
            "bar_style": "success",
            "description": "",
            "description_tooltip": null,
            "layout": "IPY_MODEL_9a424fab211e46a1a515aa18488543df",
            "max": 1648877,
            "min": 0,
            "orientation": "horizontal",
            "style": "IPY_MODEL_aba137d50b9545aba7d2294eac4b8bdf",
            "value": 1648877
          }
        },
        "790e311370bf481ea158fb2776d5314b": {
          "model_module": "@jupyter-widgets/controls",
          "model_name": "HTMLModel",
          "model_module_version": "1.5.0",
          "state": {
            "_dom_classes": [],
            "_model_module": "@jupyter-widgets/controls",
            "_model_module_version": "1.5.0",
            "_model_name": "HTMLModel",
            "_view_count": null,
            "_view_module": "@jupyter-widgets/controls",
            "_view_module_version": "1.5.0",
            "_view_name": "HTMLView",
            "description": "",
            "description_tooltip": null,
            "layout": "IPY_MODEL_3ab0c2812fd44421a34c548de1f32e0d",
            "placeholder": "​",
            "style": "IPY_MODEL_fcefa408ce9d4169bf6eb5348c96a5f9",
            "value": " 1648877/1648877 [00:00&lt;00:00, 44535616.80it/s]"
          }
        },
        "51f6eebe76154236ae090c16c62d96da": {
          "model_module": "@jupyter-widgets/base",
          "model_name": "LayoutModel",
          "model_module_version": "1.2.0",
          "state": {
            "_model_module": "@jupyter-widgets/base",
            "_model_module_version": "1.2.0",
            "_model_name": "LayoutModel",
            "_view_count": null,
            "_view_module": "@jupyter-widgets/base",
            "_view_module_version": "1.2.0",
            "_view_name": "LayoutView",
            "align_content": null,
            "align_items": null,
            "align_self": null,
            "border": null,
            "bottom": null,
            "display": null,
            "flex": null,
            "flex_flow": null,
            "grid_area": null,
            "grid_auto_columns": null,
            "grid_auto_flow": null,
            "grid_auto_rows": null,
            "grid_column": null,
            "grid_gap": null,
            "grid_row": null,
            "grid_template_areas": null,
            "grid_template_columns": null,
            "grid_template_rows": null,
            "height": null,
            "justify_content": null,
            "justify_items": null,
            "left": null,
            "margin": null,
            "max_height": null,
            "max_width": null,
            "min_height": null,
            "min_width": null,
            "object_fit": null,
            "object_position": null,
            "order": null,
            "overflow": null,
            "overflow_x": null,
            "overflow_y": null,
            "padding": null,
            "right": null,
            "top": null,
            "visibility": null,
            "width": null
          }
        },
        "6d4ea1ac18b54604993246dc9d6227d3": {
          "model_module": "@jupyter-widgets/base",
          "model_name": "LayoutModel",
          "model_module_version": "1.2.0",
          "state": {
            "_model_module": "@jupyter-widgets/base",
            "_model_module_version": "1.2.0",
            "_model_name": "LayoutModel",
            "_view_count": null,
            "_view_module": "@jupyter-widgets/base",
            "_view_module_version": "1.2.0",
            "_view_name": "LayoutView",
            "align_content": null,
            "align_items": null,
            "align_self": null,
            "border": null,
            "bottom": null,
            "display": null,
            "flex": null,
            "flex_flow": null,
            "grid_area": null,
            "grid_auto_columns": null,
            "grid_auto_flow": null,
            "grid_auto_rows": null,
            "grid_column": null,
            "grid_gap": null,
            "grid_row": null,
            "grid_template_areas": null,
            "grid_template_columns": null,
            "grid_template_rows": null,
            "height": null,
            "justify_content": null,
            "justify_items": null,
            "left": null,
            "margin": null,
            "max_height": null,
            "max_width": null,
            "min_height": null,
            "min_width": null,
            "object_fit": null,
            "object_position": null,
            "order": null,
            "overflow": null,
            "overflow_x": null,
            "overflow_y": null,
            "padding": null,
            "right": null,
            "top": null,
            "visibility": null,
            "width": null
          }
        },
        "269c31cc450849cbb79a11fb5f8d943c": {
          "model_module": "@jupyter-widgets/controls",
          "model_name": "DescriptionStyleModel",
          "model_module_version": "1.5.0",
          "state": {
            "_model_module": "@jupyter-widgets/controls",
            "_model_module_version": "1.5.0",
            "_model_name": "DescriptionStyleModel",
            "_view_count": null,
            "_view_module": "@jupyter-widgets/base",
            "_view_module_version": "1.2.0",
            "_view_name": "StyleView",
            "description_width": ""
          }
        },
        "9a424fab211e46a1a515aa18488543df": {
          "model_module": "@jupyter-widgets/base",
          "model_name": "LayoutModel",
          "model_module_version": "1.2.0",
          "state": {
            "_model_module": "@jupyter-widgets/base",
            "_model_module_version": "1.2.0",
            "_model_name": "LayoutModel",
            "_view_count": null,
            "_view_module": "@jupyter-widgets/base",
            "_view_module_version": "1.2.0",
            "_view_name": "LayoutView",
            "align_content": null,
            "align_items": null,
            "align_self": null,
            "border": null,
            "bottom": null,
            "display": null,
            "flex": null,
            "flex_flow": null,
            "grid_area": null,
            "grid_auto_columns": null,
            "grid_auto_flow": null,
            "grid_auto_rows": null,
            "grid_column": null,
            "grid_gap": null,
            "grid_row": null,
            "grid_template_areas": null,
            "grid_template_columns": null,
            "grid_template_rows": null,
            "height": null,
            "justify_content": null,
            "justify_items": null,
            "left": null,
            "margin": null,
            "max_height": null,
            "max_width": null,
            "min_height": null,
            "min_width": null,
            "object_fit": null,
            "object_position": null,
            "order": null,
            "overflow": null,
            "overflow_x": null,
            "overflow_y": null,
            "padding": null,
            "right": null,
            "top": null,
            "visibility": null,
            "width": null
          }
        },
        "aba137d50b9545aba7d2294eac4b8bdf": {
          "model_module": "@jupyter-widgets/controls",
          "model_name": "ProgressStyleModel",
          "model_module_version": "1.5.0",
          "state": {
            "_model_module": "@jupyter-widgets/controls",
            "_model_module_version": "1.5.0",
            "_model_name": "ProgressStyleModel",
            "_view_count": null,
            "_view_module": "@jupyter-widgets/base",
            "_view_module_version": "1.2.0",
            "_view_name": "StyleView",
            "bar_color": null,
            "description_width": ""
          }
        },
        "3ab0c2812fd44421a34c548de1f32e0d": {
          "model_module": "@jupyter-widgets/base",
          "model_name": "LayoutModel",
          "model_module_version": "1.2.0",
          "state": {
            "_model_module": "@jupyter-widgets/base",
            "_model_module_version": "1.2.0",
            "_model_name": "LayoutModel",
            "_view_count": null,
            "_view_module": "@jupyter-widgets/base",
            "_view_module_version": "1.2.0",
            "_view_name": "LayoutView",
            "align_content": null,
            "align_items": null,
            "align_self": null,
            "border": null,
            "bottom": null,
            "display": null,
            "flex": null,
            "flex_flow": null,
            "grid_area": null,
            "grid_auto_columns": null,
            "grid_auto_flow": null,
            "grid_auto_rows": null,
            "grid_column": null,
            "grid_gap": null,
            "grid_row": null,
            "grid_template_areas": null,
            "grid_template_columns": null,
            "grid_template_rows": null,
            "height": null,
            "justify_content": null,
            "justify_items": null,
            "left": null,
            "margin": null,
            "max_height": null,
            "max_width": null,
            "min_height": null,
            "min_width": null,
            "object_fit": null,
            "object_position": null,
            "order": null,
            "overflow": null,
            "overflow_x": null,
            "overflow_y": null,
            "padding": null,
            "right": null,
            "top": null,
            "visibility": null,
            "width": null
          }
        },
        "fcefa408ce9d4169bf6eb5348c96a5f9": {
          "model_module": "@jupyter-widgets/controls",
          "model_name": "DescriptionStyleModel",
          "model_module_version": "1.5.0",
          "state": {
            "_model_module": "@jupyter-widgets/controls",
            "_model_module_version": "1.5.0",
            "_model_name": "DescriptionStyleModel",
            "_view_count": null,
            "_view_module": "@jupyter-widgets/base",
            "_view_module_version": "1.2.0",
            "_view_name": "StyleView",
            "description_width": ""
          }
        },
        "694d3519b4064c4f96e6788d914906e4": {
          "model_module": "@jupyter-widgets/controls",
          "model_name": "HBoxModel",
          "model_module_version": "1.5.0",
          "state": {
            "_dom_classes": [],
            "_model_module": "@jupyter-widgets/controls",
            "_model_module_version": "1.5.0",
            "_model_name": "HBoxModel",
            "_view_count": null,
            "_view_module": "@jupyter-widgets/controls",
            "_view_module_version": "1.5.0",
            "_view_name": "HBoxView",
            "box_style": "",
            "children": [
              "IPY_MODEL_c7076ddc4c934e788d88a70c6e113503",
              "IPY_MODEL_69e72c88197243fabc1431d5f550f252",
              "IPY_MODEL_5e0302ea1d5c42848ab3be9a9f6ed933"
            ],
            "layout": "IPY_MODEL_8d9d733d8c064e0487331359a64e4d29"
          }
        },
        "c7076ddc4c934e788d88a70c6e113503": {
          "model_module": "@jupyter-widgets/controls",
          "model_name": "HTMLModel",
          "model_module_version": "1.5.0",
          "state": {
            "_dom_classes": [],
            "_model_module": "@jupyter-widgets/controls",
            "_model_module_version": "1.5.0",
            "_model_name": "HTMLModel",
            "_view_count": null,
            "_view_module": "@jupyter-widgets/controls",
            "_view_module_version": "1.5.0",
            "_view_name": "HTMLView",
            "description": "",
            "description_tooltip": null,
            "layout": "IPY_MODEL_10c74a2e063d4cb4a424cec4810aa1a7",
            "placeholder": "​",
            "style": "IPY_MODEL_58825416b50047b0a4dfcfb355aeaeda",
            "value": "100%"
          }
        },
        "69e72c88197243fabc1431d5f550f252": {
          "model_module": "@jupyter-widgets/controls",
          "model_name": "FloatProgressModel",
          "model_module_version": "1.5.0",
          "state": {
            "_dom_classes": [],
            "_model_module": "@jupyter-widgets/controls",
            "_model_module_version": "1.5.0",
            "_model_name": "FloatProgressModel",
            "_view_count": null,
            "_view_module": "@jupyter-widgets/controls",
            "_view_module_version": "1.5.0",
            "_view_name": "ProgressView",
            "bar_style": "success",
            "description": "",
            "description_tooltip": null,
            "layout": "IPY_MODEL_4e225b94aa38443ca96b455bffd5d0e9",
            "max": 4542,
            "min": 0,
            "orientation": "horizontal",
            "style": "IPY_MODEL_613ca939a0594e449dddb6942ec36037",
            "value": 4542
          }
        },
        "5e0302ea1d5c42848ab3be9a9f6ed933": {
          "model_module": "@jupyter-widgets/controls",
          "model_name": "HTMLModel",
          "model_module_version": "1.5.0",
          "state": {
            "_dom_classes": [],
            "_model_module": "@jupyter-widgets/controls",
            "_model_module_version": "1.5.0",
            "_model_name": "HTMLModel",
            "_view_count": null,
            "_view_module": "@jupyter-widgets/controls",
            "_view_module_version": "1.5.0",
            "_view_name": "HTMLView",
            "description": "",
            "description_tooltip": null,
            "layout": "IPY_MODEL_b9f4c20e7a63437fa4b30dbe582d13da",
            "placeholder": "​",
            "style": "IPY_MODEL_b40b65d98e7e4558979ad1a746712af5",
            "value": " 4542/4542 [00:00&lt;00:00, 136564.89it/s]"
          }
        },
        "8d9d733d8c064e0487331359a64e4d29": {
          "model_module": "@jupyter-widgets/base",
          "model_name": "LayoutModel",
          "model_module_version": "1.2.0",
          "state": {
            "_model_module": "@jupyter-widgets/base",
            "_model_module_version": "1.2.0",
            "_model_name": "LayoutModel",
            "_view_count": null,
            "_view_module": "@jupyter-widgets/base",
            "_view_module_version": "1.2.0",
            "_view_name": "LayoutView",
            "align_content": null,
            "align_items": null,
            "align_self": null,
            "border": null,
            "bottom": null,
            "display": null,
            "flex": null,
            "flex_flow": null,
            "grid_area": null,
            "grid_auto_columns": null,
            "grid_auto_flow": null,
            "grid_auto_rows": null,
            "grid_column": null,
            "grid_gap": null,
            "grid_row": null,
            "grid_template_areas": null,
            "grid_template_columns": null,
            "grid_template_rows": null,
            "height": null,
            "justify_content": null,
            "justify_items": null,
            "left": null,
            "margin": null,
            "max_height": null,
            "max_width": null,
            "min_height": null,
            "min_width": null,
            "object_fit": null,
            "object_position": null,
            "order": null,
            "overflow": null,
            "overflow_x": null,
            "overflow_y": null,
            "padding": null,
            "right": null,
            "top": null,
            "visibility": null,
            "width": null
          }
        },
        "10c74a2e063d4cb4a424cec4810aa1a7": {
          "model_module": "@jupyter-widgets/base",
          "model_name": "LayoutModel",
          "model_module_version": "1.2.0",
          "state": {
            "_model_module": "@jupyter-widgets/base",
            "_model_module_version": "1.2.0",
            "_model_name": "LayoutModel",
            "_view_count": null,
            "_view_module": "@jupyter-widgets/base",
            "_view_module_version": "1.2.0",
            "_view_name": "LayoutView",
            "align_content": null,
            "align_items": null,
            "align_self": null,
            "border": null,
            "bottom": null,
            "display": null,
            "flex": null,
            "flex_flow": null,
            "grid_area": null,
            "grid_auto_columns": null,
            "grid_auto_flow": null,
            "grid_auto_rows": null,
            "grid_column": null,
            "grid_gap": null,
            "grid_row": null,
            "grid_template_areas": null,
            "grid_template_columns": null,
            "grid_template_rows": null,
            "height": null,
            "justify_content": null,
            "justify_items": null,
            "left": null,
            "margin": null,
            "max_height": null,
            "max_width": null,
            "min_height": null,
            "min_width": null,
            "object_fit": null,
            "object_position": null,
            "order": null,
            "overflow": null,
            "overflow_x": null,
            "overflow_y": null,
            "padding": null,
            "right": null,
            "top": null,
            "visibility": null,
            "width": null
          }
        },
        "58825416b50047b0a4dfcfb355aeaeda": {
          "model_module": "@jupyter-widgets/controls",
          "model_name": "DescriptionStyleModel",
          "model_module_version": "1.5.0",
          "state": {
            "_model_module": "@jupyter-widgets/controls",
            "_model_module_version": "1.5.0",
            "_model_name": "DescriptionStyleModel",
            "_view_count": null,
            "_view_module": "@jupyter-widgets/base",
            "_view_module_version": "1.2.0",
            "_view_name": "StyleView",
            "description_width": ""
          }
        },
        "4e225b94aa38443ca96b455bffd5d0e9": {
          "model_module": "@jupyter-widgets/base",
          "model_name": "LayoutModel",
          "model_module_version": "1.2.0",
          "state": {
            "_model_module": "@jupyter-widgets/base",
            "_model_module_version": "1.2.0",
            "_model_name": "LayoutModel",
            "_view_count": null,
            "_view_module": "@jupyter-widgets/base",
            "_view_module_version": "1.2.0",
            "_view_name": "LayoutView",
            "align_content": null,
            "align_items": null,
            "align_self": null,
            "border": null,
            "bottom": null,
            "display": null,
            "flex": null,
            "flex_flow": null,
            "grid_area": null,
            "grid_auto_columns": null,
            "grid_auto_flow": null,
            "grid_auto_rows": null,
            "grid_column": null,
            "grid_gap": null,
            "grid_row": null,
            "grid_template_areas": null,
            "grid_template_columns": null,
            "grid_template_rows": null,
            "height": null,
            "justify_content": null,
            "justify_items": null,
            "left": null,
            "margin": null,
            "max_height": null,
            "max_width": null,
            "min_height": null,
            "min_width": null,
            "object_fit": null,
            "object_position": null,
            "order": null,
            "overflow": null,
            "overflow_x": null,
            "overflow_y": null,
            "padding": null,
            "right": null,
            "top": null,
            "visibility": null,
            "width": null
          }
        },
        "613ca939a0594e449dddb6942ec36037": {
          "model_module": "@jupyter-widgets/controls",
          "model_name": "ProgressStyleModel",
          "model_module_version": "1.5.0",
          "state": {
            "_model_module": "@jupyter-widgets/controls",
            "_model_module_version": "1.5.0",
            "_model_name": "ProgressStyleModel",
            "_view_count": null,
            "_view_module": "@jupyter-widgets/base",
            "_view_module_version": "1.2.0",
            "_view_name": "StyleView",
            "bar_color": null,
            "description_width": ""
          }
        },
        "b9f4c20e7a63437fa4b30dbe582d13da": {
          "model_module": "@jupyter-widgets/base",
          "model_name": "LayoutModel",
          "model_module_version": "1.2.0",
          "state": {
            "_model_module": "@jupyter-widgets/base",
            "_model_module_version": "1.2.0",
            "_model_name": "LayoutModel",
            "_view_count": null,
            "_view_module": "@jupyter-widgets/base",
            "_view_module_version": "1.2.0",
            "_view_name": "LayoutView",
            "align_content": null,
            "align_items": null,
            "align_self": null,
            "border": null,
            "bottom": null,
            "display": null,
            "flex": null,
            "flex_flow": null,
            "grid_area": null,
            "grid_auto_columns": null,
            "grid_auto_flow": null,
            "grid_auto_rows": null,
            "grid_column": null,
            "grid_gap": null,
            "grid_row": null,
            "grid_template_areas": null,
            "grid_template_columns": null,
            "grid_template_rows": null,
            "height": null,
            "justify_content": null,
            "justify_items": null,
            "left": null,
            "margin": null,
            "max_height": null,
            "max_width": null,
            "min_height": null,
            "min_width": null,
            "object_fit": null,
            "object_position": null,
            "order": null,
            "overflow": null,
            "overflow_x": null,
            "overflow_y": null,
            "padding": null,
            "right": null,
            "top": null,
            "visibility": null,
            "width": null
          }
        },
        "b40b65d98e7e4558979ad1a746712af5": {
          "model_module": "@jupyter-widgets/controls",
          "model_name": "DescriptionStyleModel",
          "model_module_version": "1.5.0",
          "state": {
            "_model_module": "@jupyter-widgets/controls",
            "_model_module_version": "1.5.0",
            "_model_name": "DescriptionStyleModel",
            "_view_count": null,
            "_view_module": "@jupyter-widgets/base",
            "_view_module_version": "1.2.0",
            "_view_name": "StyleView",
            "description_width": ""
          }
        }
      }
    }
  },
  "cells": [
    {
      "cell_type": "markdown",
      "metadata": {
        "id": "view-in-github",
        "colab_type": "text"
      },
      "source": [
        "<a href=\"https://colab.research.google.com/github/chaehchaeh/MajorAI-DL/blob/main/221103DL7_1.ipynb\" target=\"_parent\"><img src=\"https://colab.research.google.com/assets/colab-badge.svg\" alt=\"Open In Colab\"/></a>"
      ]
    },
    {
      "cell_type": "code",
      "execution_count": null,
      "metadata": {
        "id": "flXOexA0rkNz"
      },
      "outputs": [],
      "source": []
    },
    {
      "cell_type": "markdown",
      "source": [
        "###원핫 인코딩: 0또는 1로 분류"
      ],
      "metadata": {
        "id": "5jsNumeP0hKX"
      }
    },
    {
      "cell_type": "code",
      "source": [],
      "metadata": {
        "id": "AxDACtuVtWHW"
      },
      "execution_count": null,
      "outputs": []
    },
    {
      "cell_type": "markdown",
      "source": [
        "###로그 소프트 맥스 함수: 소프트맥스 함수에 로그를 취한 형태\n",
        "음의 가능도(negative log likelihood;NLL)손실함수: 로그 소프트맥스 함수 결과에 대한 교차 엔트로피\n"
      ],
      "metadata": {
        "id": "zwgcnQJMtWlP"
      }
    },
    {
      "cell_type": "markdown",
      "source": [
        "###confusion matrix(혼동행렬)\n",
        "ex) true_3,pred_2위치에 6은 참값이 3인데 2로 예측한 경우\n"
      ],
      "metadata": {
        "id": "jgp-Kg3Rt8KP"
      }
    },
    {
      "cell_type": "code",
      "source": [
        "import numpy as np\n",
        "from copy import deepcopy\n",
        "import matplotlib.pyplot as plt\n",
        "\n",
        "import torch\n",
        "import torch.nn as nn\n",
        "import torch.nn.functional as F\n",
        "import torch.optim as optim\n",
        "\n",
        "from torchvision import datasets, transforms"
      ],
      "metadata": {
        "id": "6Pi6VqsUtt7N"
      },
      "execution_count": null,
      "outputs": []
    },
    {
      "cell_type": "code",
      "source": [
        "#데이터 셋 불러오기\n",
        "train=datasets.MNIST(\n",
        "    '../data',train=True, download=True,\n",
        "    transform=transforms.Compose([\n",
        "        transforms.ToTensor(),\n",
        "    ]),\n",
        ")\n",
        "test=datasets.MNIST(\n",
        "    '../data',train=False,\n",
        "    transform=transforms.Compose([\n",
        "        transforms.ToTensor(),\n",
        "        ]),\n",
        "    )"
      ],
      "metadata": {
        "colab": {
          "base_uri": "https://localhost:8080/",
          "height": 439,
          "referenced_widgets": [
            "8bda3fe49c3b4bd9adfd1b1d41ecdb4a",
            "abc402ca9ae54895b5e5d90466eb621a",
            "8c6852c5438347b1badd72384202a590",
            "b9d3e1e9390541f4aba5c20c6a708f84",
            "fd76c1e16d8748e58e035ea32bee1184",
            "6fb984881b434880b1d55997bebf5ad4",
            "9b50fb7cc9d7416992775d6f86e4ba8d",
            "faf4642c920245af84d85a3580f04edf",
            "5bf6ce1fb2e8428ba14e88e53a33625f",
            "a82323f759aa4484ba5f6d074001fa1a",
            "676283502eea4e998667c3c50292f5eb",
            "53f66308249145a0a7e247245964d92d",
            "a9d3191d7e01493a8f4c98361f8aec6c",
            "eb32c29803f54d67ba76389b34bee092",
            "54dbf155e9534c7c90a841a2df7354c9",
            "b517d95cae62416cb651341eb0410e25",
            "771ea810575c454db2924711228769a6",
            "f17c8697144042ecb4dd7d3c44035dec",
            "c8d714475ca346008166815aa3324902",
            "e9f8137379ff493da0b0b0a7b774b08b",
            "fa9fa30bcc644b3e90edf551bb6b42a2",
            "098eeb31ff514b8aa3637784ced0bca0",
            "c925eec14b96424d8613b036fb9bf428",
            "d738fdb038c7405fb2b15619cfbd3fd2",
            "13d212198e994f8d829de5361c43fa91",
            "790e311370bf481ea158fb2776d5314b",
            "51f6eebe76154236ae090c16c62d96da",
            "6d4ea1ac18b54604993246dc9d6227d3",
            "269c31cc450849cbb79a11fb5f8d943c",
            "9a424fab211e46a1a515aa18488543df",
            "aba137d50b9545aba7d2294eac4b8bdf",
            "3ab0c2812fd44421a34c548de1f32e0d",
            "fcefa408ce9d4169bf6eb5348c96a5f9",
            "694d3519b4064c4f96e6788d914906e4",
            "c7076ddc4c934e788d88a70c6e113503",
            "69e72c88197243fabc1431d5f550f252",
            "5e0302ea1d5c42848ab3be9a9f6ed933",
            "8d9d733d8c064e0487331359a64e4d29",
            "10c74a2e063d4cb4a424cec4810aa1a7",
            "58825416b50047b0a4dfcfb355aeaeda",
            "4e225b94aa38443ca96b455bffd5d0e9",
            "613ca939a0594e449dddb6942ec36037",
            "b9f4c20e7a63437fa4b30dbe582d13da",
            "b40b65d98e7e4558979ad1a746712af5"
          ]
        },
        "id": "00-BymlKu3VR",
        "outputId": "290fe237-32a5-4e5d-8ce0-e4632b3c217a"
      },
      "execution_count": null,
      "outputs": [
        {
          "output_type": "stream",
          "name": "stdout",
          "text": [
            "Downloading http://yann.lecun.com/exdb/mnist/train-images-idx3-ubyte.gz\n",
            "Downloading http://yann.lecun.com/exdb/mnist/train-images-idx3-ubyte.gz to ../data/MNIST/raw/train-images-idx3-ubyte.gz\n"
          ]
        },
        {
          "output_type": "display_data",
          "data": {
            "text/plain": [
              "  0%|          | 0/9912422 [00:00<?, ?it/s]"
            ],
            "application/vnd.jupyter.widget-view+json": {
              "version_major": 2,
              "version_minor": 0,
              "model_id": "8bda3fe49c3b4bd9adfd1b1d41ecdb4a"
            }
          },
          "metadata": {}
        },
        {
          "output_type": "stream",
          "name": "stdout",
          "text": [
            "Extracting ../data/MNIST/raw/train-images-idx3-ubyte.gz to ../data/MNIST/raw\n",
            "\n",
            "Downloading http://yann.lecun.com/exdb/mnist/train-labels-idx1-ubyte.gz\n",
            "Downloading http://yann.lecun.com/exdb/mnist/train-labels-idx1-ubyte.gz to ../data/MNIST/raw/train-labels-idx1-ubyte.gz\n"
          ]
        },
        {
          "output_type": "display_data",
          "data": {
            "text/plain": [
              "  0%|          | 0/28881 [00:00<?, ?it/s]"
            ],
            "application/vnd.jupyter.widget-view+json": {
              "version_major": 2,
              "version_minor": 0,
              "model_id": "53f66308249145a0a7e247245964d92d"
            }
          },
          "metadata": {}
        },
        {
          "output_type": "stream",
          "name": "stdout",
          "text": [
            "Extracting ../data/MNIST/raw/train-labels-idx1-ubyte.gz to ../data/MNIST/raw\n",
            "\n",
            "Downloading http://yann.lecun.com/exdb/mnist/t10k-images-idx3-ubyte.gz\n",
            "Downloading http://yann.lecun.com/exdb/mnist/t10k-images-idx3-ubyte.gz to ../data/MNIST/raw/t10k-images-idx3-ubyte.gz\n"
          ]
        },
        {
          "output_type": "display_data",
          "data": {
            "text/plain": [
              "  0%|          | 0/1648877 [00:00<?, ?it/s]"
            ],
            "application/vnd.jupyter.widget-view+json": {
              "version_major": 2,
              "version_minor": 0,
              "model_id": "c925eec14b96424d8613b036fb9bf428"
            }
          },
          "metadata": {}
        },
        {
          "output_type": "stream",
          "name": "stdout",
          "text": [
            "Extracting ../data/MNIST/raw/t10k-images-idx3-ubyte.gz to ../data/MNIST/raw\n",
            "\n",
            "Downloading http://yann.lecun.com/exdb/mnist/t10k-labels-idx1-ubyte.gz\n",
            "Downloading http://yann.lecun.com/exdb/mnist/t10k-labels-idx1-ubyte.gz to ../data/MNIST/raw/t10k-labels-idx1-ubyte.gz\n"
          ]
        },
        {
          "output_type": "display_data",
          "data": {
            "text/plain": [
              "  0%|          | 0/4542 [00:00<?, ?it/s]"
            ],
            "application/vnd.jupyter.widget-view+json": {
              "version_major": 2,
              "version_minor": 0,
              "model_id": "694d3519b4064c4f96e6788d914906e4"
            }
          },
          "metadata": {}
        },
        {
          "output_type": "stream",
          "name": "stdout",
          "text": [
            "Extracting ../data/MNIST/raw/t10k-labels-idx1-ubyte.gz to ../data/MNIST/raw\n",
            "\n"
          ]
        }
      ]
    },
    {
      "cell_type": "code",
      "source": [
        "#이미지 시각화\n",
        "def plot(x):\n",
        "    img=(np.array(x.detach().cpu(),dtype='float')).reshape(28,28)\n",
        "\n",
        "    plt.imshow(img,cmap='gray')\n",
        "    plt.show()\n",
        "\n",
        "plot(train.data[0])"
      ],
      "metadata": {
        "colab": {
          "base_uri": "https://localhost:8080/",
          "height": 265
        },
        "id": "FCy4zov1vQ75",
        "outputId": "097224e7-dbd2-4748-f404-1823a3b44fbf"
      },
      "execution_count": null,
      "outputs": [
        {
          "output_type": "display_data",
          "data": {
            "text/plain": [
              "<Figure size 432x288 with 1 Axes>"
            ],
            "image/png": "[encoded data removed]"
          },
          "metadata": {
            "needs_background": "light"
          }
        }
      ]
    },
    {
      "cell_type": "code",
      "source": [
        "#학습데이터 벡터로 변환\n",
        "x=train.data.float()/255.\n",
        "y=train.targets\n",
        "\n",
        "x=x.view(x.size(0),-1)\n",
        "print(x.shape,y.shape)\n",
        "\n",
        "#입출력 데이터 크기 설정\n",
        "input_size=x.size(-1)\n",
        "output_size=int(max(y))+1\n",
        "\n",
        "print('input_size:%d,output_size:%d'% (input_size,output_size))"
      ],
      "metadata": {
        "colab": {
          "base_uri": "https://localhost:8080/"
        },
        "id": "4zAZpzYfvk1f",
        "outputId": "e6b28bb0-c80f-4b63-ea5a-6bfcfc25a74f"
      },
      "execution_count": null,
      "outputs": [
        {
          "output_type": "stream",
          "name": "stdout",
          "text": [
            "torch.Size([60000, 784]) torch.Size([60000])\n",
            "input_size:784,output_size:10\n"
          ]
        }
      ]
    },
    {
      "cell_type": "code",
      "source": [
        "#학습 검증 데이터 분리\n",
        "ratios=[.8,.2]\n",
        "\n",
        "train_cnt=int(x.size(0)*ratios[0])\n",
        "valid_cnt=int(x.size(0)*ratios[1])\n",
        "test_cnt=len(test.data)\n",
        "cnts=[train_cnt, valid_cnt]\n",
        "\n",
        "print(\"Train%d/Valid%d/Test%d samples.\"%(train_cnt,valid_cnt,test_cnt))\n",
        "indices=torch.randperm(x.size(0))\n",
        "x=torch.index_select(x,dim=0,index=indices)\n",
        "y=torch.index_select(y,dim=0,index=indices)\n",
        "\n",
        "x=list(x.split(cnts,dim=0))\n",
        "y=list(y.split(cnts,dim=0))\n",
        "\n",
        "x+=[(test.data.float()/255.).view(test_cnt,-1)]\n",
        "y+=[test.targets]\n",
        "for x_i,y_i in zip(x,y):\n",
        "    print(x_i.size(),y_i.size())"
      ],
      "metadata": {
        "colab": {
          "base_uri": "https://localhost:8080/"
        },
        "id": "FSg_iQdmwfVt",
        "outputId": "9624a15f-3a53-4f68-f8ac-1062db45f44c"
      },
      "execution_count": null,
      "outputs": [
        {
          "output_type": "stream",
          "name": "stdout",
          "text": [
            "Train48000/Valid12000/Test10000 samples.\n",
            "torch.Size([48000, 784]) torch.Size([48000])\n",
            "torch.Size([12000, 784]) torch.Size([12000])\n",
            "torch.Size([10000, 784]) torch.Size([10000])\n"
          ]
        }
      ]
    },
    {
      "cell_type": "code",
      "source": [],
      "metadata": {
        "id": "Ouy59M4p2Tcs"
      },
      "execution_count": null,
      "outputs": []
    },
    {
      "cell_type": "code",
      "source": [
        "#심층신경망 구성\n",
        "\n",
        "model=nn.Sequential(\n",
        "    nn.Linear(input_size,500),\n",
        "    nn.LeakyReLU(),\n",
        "    nn.Linear(500,400),\n",
        "    nn.LeakyReLU(),\n",
        "    nn.Linear(400,300),\n",
        "    nn.LeakyReLU(),\n",
        "    nn.Linear(300,200),\n",
        "    nn.LeakyReLU(),\n",
        "    nn.Linear(200,100),\n",
        "    nn.LeakyReLU(),\n",
        "    nn.Linear(100,50),\n",
        "    nn.LeakyReLU(),\n",
        "    nn.Linear(50,output_size),\n",
        "    nn.LogSoftmax(dim=-1),\n",
        ")"
      ],
      "metadata": {
        "id": "Fz2j2EaNwyPx"
      },
      "execution_count": null,
      "outputs": []
    },
    {
      "cell_type": "code",
      "source": [
        "#옵티마이저 및 손실함수 설정\n",
        "optimizer=optim.Adam(model.parameters())\n",
        "crit=nn.NLLLoss()\n",
        "\n",
        "#GPU활용 가능여부 판정\n",
        "device=torch.device('cpu')\n",
        "if torch.cuda.is_available():\n",
        "    device=torch.device('cuda')\n",
        "\n",
        "#모델과 텐서를 선택된 장치로 각각 이동 및 복사\n",
        "model=model.to(device)\n",
        "x=[x_i.to(device) for x_i in x]\n",
        "y=[y_i.to(device) for y_i in y]"
      ],
      "metadata": {
        "id": "Puu0-Hvaw-Ir"
      },
      "execution_count": null,
      "outputs": []
    },
    {
      "cell_type": "code",
      "source": [
        "#하이퍼 파라미터 설정\n",
        "n_epochs=1000\n",
        "batch_size=256\n",
        "print_interval=10\n",
        "\n",
        "lowest_loss=np.inf\n",
        "best_model=None\n",
        "\n",
        "early_stop=50\n",
        "lowest_epoch=np.inf"
      ],
      "metadata": {
        "id": "ZIxEiXVYxeLe"
      },
      "execution_count": null,
      "outputs": []
    },
    {
      "cell_type": "code",
      "source": [
        "#학습시작\n",
        "train_history,valid_history=[],[]\n",
        "for i in range(n_epochs):\n",
        "    indices=torch.randperm(x[0].size(0)).to(device)\n",
        "    x_=torch.index_select(x[0],dim=0,index=indices)\n",
        "    y_=torch.index_select(y[0],dim=0,index=indices)\n",
        "\n",
        "    x_=x_.split(batch_size,dim=0)\n",
        "    y_=y_.split(batch_size,dim=0)\n",
        "    train_loss,valid_loss=0,0\n",
        "    y_hat=[]\n",
        "\n",
        "    for x_i,y_i in zip(x_,y_):\n",
        "        y_hat_i=model(x_i)\n",
        "        loss=crit(y_hat_i,y_i.squeeze())\n",
        "\n",
        "        optimizer.zero_grad()\n",
        "        loss.backward()\n",
        "\n",
        "        optimizer.step()\n",
        "        train_loss+=float(loss)\n",
        "\n",
        "    train_loss=train_loss/len(x_)\n",
        "#검증\n",
        "    with torch.no_grad():\n",
        "        x_hat_i=model(x_i)\n",
        "        loss=crit(y_hat_i,y_i.squeeze())\n",
        "        valid_loss+=float(loss)\n",
        "\n",
        "        y_hat+=[y_hat_i]\n",
        "\n",
        "    valid_loss=valid_loss/len(x_)\n",
        "\n",
        "    train_history+=[train_loss]\n",
        "    valid_history+=[valid_loss]\n",
        "\n",
        "    if(i+1)%print_interval==0:\n",
        "        print('Epoch%d: train loss=%.4e valid_loss=%.4e lowest_loss=%.4e'%\n",
        "              (i+1,train_loss,valid_loss,lowest_loss,))\n",
        "#조기종료 및 베스트 모델 선택\n",
        "    if valid_loss<=lowest_loss:\n",
        "        lowest_loss=valid_loss\n",
        "        lowest_epoch=i\n",
        "\n",
        "        best_model=deepcopy(model.state_dict())\n",
        "    else:\n",
        "        if early_stop>0 and lowest_epoch+early_stop<i+1:\n",
        "            print(\"There is no improvement during last %d epochs.\"% early_stop)\n",
        "            break\n",
        "\n",
        "print(\"The best validation loss from epoch %d: %.4e\"% (lowest_epoch+1, lowest_loss))\n",
        "model.load_state_dict(best_model)"
      ],
      "metadata": {
        "colab": {
          "base_uri": "https://localhost:8080/",
          "height": 1000
        },
        "id": "ayEaYO-cxnff",
        "outputId": "87763343-cd24-4b82-b1e5-86a14a086bd7"
      },
      "execution_count": null,
      "outputs": [
        {
          "output_type": "stream",
          "name": "stdout",
          "text": [
            "Epoch10: train loss=2.4878e-02 valid_loss=4.6140e-04 lowest_loss=4.4256e-05\n",
            "Epoch20: train loss=1.1289e-02 valid_loss=2.0678e-06 lowest_loss=4.9462e-06\n",
            "Epoch30: train loss=9.0956e-03 valid_loss=7.6103e-07 lowest_loss=2.0678e-06\n",
            "Epoch40: train loss=6.0677e-03 valid_loss=6.1074e-06 lowest_loss=4.3670e-07\n",
            "Epoch50: train loss=4.5913e-03 valid_loss=5.0413e-05 lowest_loss=1.5595e-07\n",
            "Epoch60: train loss=7.9772e-04 valid_loss=6.5363e-08 lowest_loss=5.1819e-08\n",
            "Epoch70: train loss=8.9736e-07 valid_loss=6.5189e-09 lowest_loss=1.5852e-10\n",
            "Epoch80: train loss=1.3654e-07 valid_loss=8.9169e-11 lowest_loss=1.4862e-11\n",
            "Epoch90: train loss=2.3716e-08 valid_loss=4.9538e-12 lowest_loss=1.4862e-11\n",
            "Epoch100: train loss=5.1743e-09 valid_loss=0.0000e+00 lowest_loss=0.0000e+00\n",
            "Epoch110: train loss=1.3796e-09 valid_loss=9.9077e-12 lowest_loss=0.0000e+00\n",
            "Epoch120: train loss=4.3098e-10 valid_loss=0.0000e+00 lowest_loss=0.0000e+00\n",
            "Epoch130: train loss=1.6843e-10 valid_loss=0.0000e+00 lowest_loss=0.0000e+00\n",
            "Epoch140: train loss=6.1923e-11 valid_loss=0.0000e+00 lowest_loss=0.0000e+00\n",
            "Epoch150: train loss=1.4862e-11 valid_loss=0.0000e+00 lowest_loss=0.0000e+00\n",
            "Epoch160: train loss=4.9538e-12 valid_loss=0.0000e+00 lowest_loss=0.0000e+00\n",
            "Epoch170: train loss=0.0000e+00 valid_loss=0.0000e+00 lowest_loss=0.0000e+00\n",
            "Epoch180: train loss=0.0000e+00 valid_loss=0.0000e+00 lowest_loss=0.0000e+00\n",
            "Epoch190: train loss=0.0000e+00 valid_loss=0.0000e+00 lowest_loss=0.0000e+00\n",
            "Epoch200: train loss=0.0000e+00 valid_loss=0.0000e+00 lowest_loss=0.0000e+00\n",
            "Epoch210: train loss=0.0000e+00 valid_loss=0.0000e+00 lowest_loss=0.0000e+00\n",
            "Epoch220: train loss=0.0000e+00 valid_loss=0.0000e+00 lowest_loss=0.0000e+00\n",
            "Epoch230: train loss=0.0000e+00 valid_loss=0.0000e+00 lowest_loss=0.0000e+00\n",
            "Epoch240: train loss=0.0000e+00 valid_loss=0.0000e+00 lowest_loss=0.0000e+00\n",
            "Epoch250: train loss=0.0000e+00 valid_loss=0.0000e+00 lowest_loss=0.0000e+00\n",
            "Epoch260: train loss=0.0000e+00 valid_loss=0.0000e+00 lowest_loss=0.0000e+00\n",
            "Epoch270: train loss=0.0000e+00 valid_loss=0.0000e+00 lowest_loss=0.0000e+00\n",
            "Epoch280: train loss=0.0000e+00 valid_loss=0.0000e+00 lowest_loss=0.0000e+00\n",
            "Epoch290: train loss=0.0000e+00 valid_loss=0.0000e+00 lowest_loss=0.0000e+00\n",
            "Epoch300: train loss=0.0000e+00 valid_loss=0.0000e+00 lowest_loss=0.0000e+00\n",
            "Epoch310: train loss=0.0000e+00 valid_loss=0.0000e+00 lowest_loss=0.0000e+00\n",
            "Epoch320: train loss=0.0000e+00 valid_loss=0.0000e+00 lowest_loss=0.0000e+00\n",
            "Epoch330: train loss=0.0000e+00 valid_loss=0.0000e+00 lowest_loss=0.0000e+00\n",
            "Epoch340: train loss=0.0000e+00 valid_loss=0.0000e+00 lowest_loss=0.0000e+00\n",
            "Epoch350: train loss=0.0000e+00 valid_loss=0.0000e+00 lowest_loss=0.0000e+00\n",
            "Epoch360: train loss=0.0000e+00 valid_loss=0.0000e+00 lowest_loss=0.0000e+00\n",
            "Epoch370: train loss=0.0000e+00 valid_loss=0.0000e+00 lowest_loss=0.0000e+00\n",
            "Epoch380: train loss=0.0000e+00 valid_loss=0.0000e+00 lowest_loss=0.0000e+00\n",
            "Epoch390: train loss=0.0000e+00 valid_loss=0.0000e+00 lowest_loss=0.0000e+00\n",
            "Epoch400: train loss=0.0000e+00 valid_loss=0.0000e+00 lowest_loss=0.0000e+00\n",
            "Epoch410: train loss=0.0000e+00 valid_loss=0.0000e+00 lowest_loss=0.0000e+00\n",
            "Epoch420: train loss=0.0000e+00 valid_loss=0.0000e+00 lowest_loss=0.0000e+00\n",
            "Epoch430: train loss=0.0000e+00 valid_loss=0.0000e+00 lowest_loss=0.0000e+00\n",
            "Epoch440: train loss=0.0000e+00 valid_loss=0.0000e+00 lowest_loss=0.0000e+00\n",
            "Epoch450: train loss=0.0000e+00 valid_loss=0.0000e+00 lowest_loss=0.0000e+00\n",
            "Epoch460: train loss=0.0000e+00 valid_loss=0.0000e+00 lowest_loss=0.0000e+00\n",
            "Epoch470: train loss=0.0000e+00 valid_loss=0.0000e+00 lowest_loss=0.0000e+00\n",
            "Epoch480: train loss=0.0000e+00 valid_loss=0.0000e+00 lowest_loss=0.0000e+00\n",
            "Epoch490: train loss=0.0000e+00 valid_loss=0.0000e+00 lowest_loss=0.0000e+00\n",
            "Epoch500: train loss=0.0000e+00 valid_loss=0.0000e+00 lowest_loss=0.0000e+00\n",
            "Epoch510: train loss=0.0000e+00 valid_loss=0.0000e+00 lowest_loss=0.0000e+00\n",
            "Epoch520: train loss=0.0000e+00 valid_loss=0.0000e+00 lowest_loss=0.0000e+00\n",
            "Epoch530: train loss=0.0000e+00 valid_loss=0.0000e+00 lowest_loss=0.0000e+00\n",
            "Epoch540: train loss=0.0000e+00 valid_loss=0.0000e+00 lowest_loss=0.0000e+00\n",
            "Epoch550: train loss=0.0000e+00 valid_loss=0.0000e+00 lowest_loss=0.0000e+00\n",
            "Epoch560: train loss=0.0000e+00 valid_loss=0.0000e+00 lowest_loss=0.0000e+00\n",
            "Epoch570: train loss=0.0000e+00 valid_loss=0.0000e+00 lowest_loss=0.0000e+00\n",
            "Epoch580: train loss=0.0000e+00 valid_loss=0.0000e+00 lowest_loss=0.0000e+00\n",
            "Epoch590: train loss=0.0000e+00 valid_loss=0.0000e+00 lowest_loss=0.0000e+00\n",
            "Epoch600: train loss=0.0000e+00 valid_loss=0.0000e+00 lowest_loss=0.0000e+00\n",
            "Epoch610: train loss=0.0000e+00 valid_loss=0.0000e+00 lowest_loss=0.0000e+00\n"
          ]
        },
        {
          "output_type": "error",
          "ename": "KeyboardInterrupt",
          "evalue": "ignored",
          "traceback": [
            "\u001b[0;31m---------------------------------------------------------------------------\u001b[0m",
            "\u001b[0;31mKeyboardInterrupt\u001b[0m                         Traceback (most recent call last)",
            "\u001b[0;32m<ipython-input-16-ea2d10e67446>\u001b[0m in \u001b[0;36m<module>\u001b[0;34m\u001b[0m\n\u001b[1;32m     15\u001b[0m         \u001b[0mloss\u001b[0m\u001b[0;34m=\u001b[0m\u001b[0mcrit\u001b[0m\u001b[0;34m(\u001b[0m\u001b[0my_hat_i\u001b[0m\u001b[0;34m,\u001b[0m\u001b[0my_i\u001b[0m\u001b[0;34m.\u001b[0m\u001b[0msqueeze\u001b[0m\u001b[0;34m(\u001b[0m\u001b[0;34m)\u001b[0m\u001b[0;34m)\u001b[0m\u001b[0;34m\u001b[0m\u001b[0;34m\u001b[0m\u001b[0m\n\u001b[1;32m     16\u001b[0m \u001b[0;34m\u001b[0m\u001b[0m\n\u001b[0;32m---> 17\u001b[0;31m         \u001b[0moptimizer\u001b[0m\u001b[0;34m.\u001b[0m\u001b[0mzero_grad\u001b[0m\u001b[0;34m(\u001b[0m\u001b[0;34m)\u001b[0m\u001b[0;34m\u001b[0m\u001b[0;34m\u001b[0m\u001b[0m\n\u001b[0m\u001b[1;32m     18\u001b[0m         \u001b[0mloss\u001b[0m\u001b[0;34m.\u001b[0m\u001b[0mbackward\u001b[0m\u001b[0;34m(\u001b[0m\u001b[0;34m)\u001b[0m\u001b[0;34m\u001b[0m\u001b[0;34m\u001b[0m\u001b[0m\n\u001b[1;32m     19\u001b[0m \u001b[0;34m\u001b[0m\u001b[0m\n",
            "\u001b[0;32m/usr/local/lib/python3.7/dist-packages/torch/optim/optimizer.py\u001b[0m in \u001b[0;36mzero_grad\u001b[0;34m(self, set_to_none)\u001b[0m\n\u001b[1;32m    247\u001b[0m                                 \u001b[0mp\u001b[0m\u001b[0;34m.\u001b[0m\u001b[0mgrad\u001b[0m\u001b[0;34m.\u001b[0m\u001b[0mrequires_grad_\u001b[0m\u001b[0;34m(\u001b[0m\u001b[0;32mFalse\u001b[0m\u001b[0;34m)\u001b[0m\u001b[0;34m\u001b[0m\u001b[0;34m\u001b[0m\u001b[0m\n\u001b[1;32m    248\u001b[0m                             \u001b[0;32mif\u001b[0m \u001b[0;34m(\u001b[0m\u001b[0;32mnot\u001b[0m \u001b[0mforeach\u001b[0m \u001b[0;32mor\u001b[0m \u001b[0mp\u001b[0m\u001b[0;34m.\u001b[0m\u001b[0mgrad\u001b[0m\u001b[0;34m.\u001b[0m\u001b[0mis_sparse\u001b[0m\u001b[0;34m)\u001b[0m\u001b[0;34m:\u001b[0m\u001b[0;34m\u001b[0m\u001b[0;34m\u001b[0m\u001b[0m\n\u001b[0;32m--> 249\u001b[0;31m                                 \u001b[0mp\u001b[0m\u001b[0;34m.\u001b[0m\u001b[0mgrad\u001b[0m\u001b[0;34m.\u001b[0m\u001b[0mzero_\u001b[0m\u001b[0;34m(\u001b[0m\u001b[0;34m)\u001b[0m\u001b[0;34m\u001b[0m\u001b[0;34m\u001b[0m\u001b[0m\n\u001b[0m\u001b[1;32m    250\u001b[0m                             \u001b[0;32melse\u001b[0m\u001b[0;34m:\u001b[0m\u001b[0;34m\u001b[0m\u001b[0;34m\u001b[0m\u001b[0m\n\u001b[1;32m    251\u001b[0m                                 \u001b[0mper_device_and_dtype_grads\u001b[0m\u001b[0;34m[\u001b[0m\u001b[0mp\u001b[0m\u001b[0;34m.\u001b[0m\u001b[0mgrad\u001b[0m\u001b[0;34m.\u001b[0m\u001b[0mdevice\u001b[0m\u001b[0;34m]\u001b[0m\u001b[0;34m[\u001b[0m\u001b[0mp\u001b[0m\u001b[0;34m.\u001b[0m\u001b[0mgrad\u001b[0m\u001b[0;34m.\u001b[0m\u001b[0mdtype\u001b[0m\u001b[0;34m]\u001b[0m\u001b[0;34m.\u001b[0m\u001b[0mappend\u001b[0m\u001b[0;34m(\u001b[0m\u001b[0mp\u001b[0m\u001b[0;34m.\u001b[0m\u001b[0mgrad\u001b[0m\u001b[0;34m)\u001b[0m\u001b[0;34m\u001b[0m\u001b[0;34m\u001b[0m\u001b[0m\n",
            "\u001b[0;31mKeyboardInterrupt\u001b[0m: "
          ]
        }
      ]
    },
    {
      "cell_type": "code",
      "source": [
        "#손실곡선 확인\n",
        "plot_from=0\n",
        "\n",
        "plt.figure(figsize=(20,10))\n",
        "plt.grid(True)\n",
        "plt.title(\"Train/Valid Loss History\")\n",
        "plt.plot(\n",
        "    range(plot_from. len(train_history)), train_history[plot_from:],\n",
        "    range(plot_from. len(train_history)), valid_history[plot_from:],\n",
        "    )\n",
        "plt.yscale('log')\n",
        "plt.show()"
      ],
      "metadata": {
        "id": "i1JVPtHcxtd4"
      },
      "execution_count": null,
      "outputs": []
    },
    {
      "cell_type": "code",
      "source": [
        "#평가(테스트):검증코드와 비슷함\n",
        "test_loss=0\n",
        "y_hat=[]\n",
        "\n",
        "with torch.no_grad():\n",
        "    x_="
      ],
      "metadata": {
        "id": "Bncf9peAyRfp"
      },
      "execution_count": null,
      "outputs": []
    },
    {
      "cell_type": "code",
      "source": [
        "#분류 정확도 계산\n",
        "correct_cnt=(y[-1].squeeze()==torch.argmax(y_hat,dim=-1)).sum()\n",
        "total_cnt=float(y[-1].size(0))"
      ],
      "metadata": {
        "id": "59WHFwTAydOw"
      },
      "execution_count": null,
      "outputs": []
    },
    {
      "cell_type": "code",
      "source": [
        "#혼동행렬 출력\n",
        "import pandas as pd\n",
        "from sklearn.metrics import confusion_matrix\n",
        "pd.DataFrame(confusion_matrix(y[-1],torch.argmax(y_hat,dim=1)),\n",
        "             index=['true_%d % i for i in range(10),\n",
        "             columns=['pred_%d' % i for i in range(10)]]\n",
        "             )"
      ],
      "metadata": {
        "id": "6iR1t1xaytP-"
      },
      "execution_count": null,
      "outputs": []
    }
  ]
}