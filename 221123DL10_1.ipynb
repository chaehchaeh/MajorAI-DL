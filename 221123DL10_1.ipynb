{
  "cells": [
    {
      "cell_type": "markdown",
      "metadata": {
        "id": "view-in-github",
        "colab_type": "text"
      },
      "source": [
        "<a href=\"https://colab.research.google.com/github/chaehchaeh/MajorAI-DL/blob/main/221123DL10_1.ipynb\" target=\"_parent\"><img src=\"https://colab.research.google.com/assets/colab-badge.svg\" alt=\"Open In Colab\"/></a>"
      ]
    },
    {
      "cell_type": "code",
      "execution_count": 1,
      "metadata": {
        "id": "FpTUyPsjzdA2"
      },
      "outputs": [],
      "source": [
        "import torch\n",
        "import torch.nn as nn\n",
        "class BasicBlock(nn.Module):\n",
        "    def __init__(self,in_channels,out_channels,kernel_size=3):\n",
        "        super(BasicBlock,self). __init__()\n",
        "\n",
        "        #합성곱층 정의\n",
        "        self.c1=nn.Conv2d(in_channels,out_channels,kernel_size=kernel_size,padding=1)\n",
        "        self.c2=nn.Conv2d(out_channels,out_channels,kernel_size=kernel_size,padding=1)\n",
        "        self.downsample=nn.Conv2d(in_channels,out_channels,kernel_size=1)\n",
        "\n",
        "        #배치정규화층 정의\n",
        "        self.bn1=nn.BatchNorm2d(num_features=out_channels)\n",
        "        self.bn2=nn.BatchNorm2d(num_features=out_channels)\n",
        "\n",
        "        self.relu=nn.ReLU()\n",
        "\n",
        "    def forward(self,x):\n",
        "        x_=x\n",
        "\n",
        "        x=self.c1(x)\n",
        "        x=self.bn1(x)\n",
        "        x=self.relu(x)\n",
        "        x=self.c2(x)\n",
        "        x=self.bn2(x)\n",
        "\n",
        "        x_=self.downsample(x_)\n",
        "        x+=x_\n",
        "        x=self.relu(x)\n",
        "\n",
        "        return x"
      ]
    },
    {
      "cell_type": "code",
      "execution_count": 2,
      "metadata": {
        "id": "-dXc8nhX4S_l"
      },
      "outputs": [],
      "source": [
        "class ResNet(nn.Module):\n",
        "    def __init__(self,num_classes=10):\n",
        "        super(ResNet,self).__init__()\n",
        "\n",
        "        #기본블록\n",
        "        self.b1=BasicBlock(in_channels=3,out_channels=64)\n",
        "        self.b2=BasicBlock(in_channels=64,out_channels=128)\n",
        "        self.b3=BasicBlock(in_channels=128,out_channels=256)\n",
        "\n",
        "        #풀링을 최댓값이 아닌 평균으로\n",
        "        self.pool=nn.AvgPool2d(kernel_size=2,stride=2)\n",
        "\n",
        "        #분류기\n",
        "        self.fc1=nn.Linear(in_features=4096,out_features=2048)\n",
        "        self.fc2=nn.Linear(in_features=2048,out_features=512)\n",
        "        self.fc3=nn.Linear(in_features=512,out_features=num_classes)\n",
        "\n",
        "        self.relu=nn.ReLU()\n",
        "\n",
        "    def forward(self,x):\n",
        "        #기본블록과 풀링층을 통과\n",
        "        x=self.b1(x)\n",
        "        x=self.pool(x)\n",
        "        x=self.b2(x)\n",
        "        x=self.pool(x)\n",
        "        x=self.b3(x)\n",
        "        x=self.pool(x)\n",
        "\n",
        "        #분류기의 입력으로 사용하기 위해 flatten\n",
        "        x=torch.flatten(x,start_dim=1)\n",
        "\n",
        "        #분류기로 예측값 출력\n",
        "        x=self.fc1(x)\n",
        "        x=self.relu(x)\n",
        "        x=self.fc2(x)\n",
        "        x=self.relu(x)\n",
        "        x=self.fc3(x)\n",
        "\n",
        "        return x"
      ]
    },
    {
      "cell_type": "code",
      "execution_count": 3,
      "metadata": {
        "id": "S9l1D-pp5wDF"
      },
      "outputs": [],
      "source": [
        "#데이터 전처리 정의\n",
        "import tqdm\n",
        "from torchvision.datasets.cifar import CIFAR10\n",
        "from torchvision.transforms import Compose,ToTensor\n",
        "from torchvision.transforms import RandomHorizontalFlip, RandomCrop\n",
        "from torchvision.transforms import Normalize\n",
        "from torch.utils.data.dataloader import DataLoader\n",
        "\n",
        "from torch.optim.adam import Adam\n",
        "\n",
        "transforms=Compose([\n",
        "    RandomCrop((32,32),padding=4),\n",
        "    RandomHorizontalFlip(p=0.5),\n",
        "    ToTensor(),\n",
        "    Normalize(mean=(0.4914,0.4822,0.4465),std=(0.247,0.243,0.261))\n",
        "])\n"
      ]
    },
    {
      "cell_type": "code",
      "execution_count": 4,
      "metadata": {
        "colab": {
          "base_uri": "https://localhost:8080/",
          "height": 103,
          "referenced_widgets": [
            "5d648653386d47d88d9464bd659ad056",
            "fde6338a40cf4351b14674d020b2122d",
            "f6dd334ba558482caeb4eb3b54c487ce",
            "ced7df91f0db4b13a3bc58e8b3ebc492",
            "2d11839f4a374213a2ee925e1903e23d",
            "8327df70ea44476bbf39bd2bece37aad",
            "0645d5793dd74d77a10c3790940dc765",
            "2870ff153eff4147a0509fe5de1f0499",
            "a59c4a2605684de688a579ab2f6d957d",
            "2e30bec271594590a52ce590ac2b7d72",
            "756af8ea10d447a6bef08d98b26ff70c"
          ]
        },
        "id": "_VLxjosy6zIP",
        "outputId": "38ca67c2-cac2-473d-ad33-30fbc0920b14"
      },
      "outputs": [
        {
          "output_type": "stream",
          "name": "stdout",
          "text": [
            "Downloading https://www.cs.toronto.edu/~kriz/cifar-10-python.tar.gz to ./cifar-10-python.tar.gz\n"
          ]
        },
        {
          "output_type": "display_data",
          "data": {
            "text/plain": [
              "  0%|          | 0/170498071 [00:00<?, ?it/s]"
            ],
            "application/vnd.jupyter.widget-view+json": {
              "version_major": 2,
              "version_minor": 0,
              "model_id": "5d648653386d47d88d9464bd659ad056"
            }
          },
          "metadata": {}
        },
        {
          "output_type": "stream",
          "name": "stdout",
          "text": [
            "Extracting ./cifar-10-python.tar.gz to ./\n",
            "Files already downloaded and verified\n"
          ]
        }
      ],
      "source": [
        "#데이터 불러오기\n",
        "training_data=CIFAR10(root=\"./\",train=True,download=True,transform=transforms)\n",
        "test_data=CIFAR10(root=\"./\",train=False,download=True,transform=transforms)\n",
        "\n",
        "train_loader=DataLoader(training_data,batch_size=32,shuffle=True)\n",
        "test_loader=DataLoader(test_data,batch_size=32,shuffle=False)"
      ]
    },
    {
      "cell_type": "code",
      "execution_count": 5,
      "metadata": {
        "colab": {
          "base_uri": "https://localhost:8080/"
        },
        "id": "09deRnwI7cwc",
        "outputId": "9b8c2a16-260e-457e-cbf3-14593a6f91a2"
      },
      "outputs": [
        {
          "output_type": "execute_result",
          "data": {
            "text/plain": [
              "ResNet(\n",
              "  (b1): BasicBlock(\n",
              "    (c1): Conv2d(3, 64, kernel_size=(3, 3), stride=(1, 1), padding=(1, 1))\n",
              "    (c2): Conv2d(64, 64, kernel_size=(3, 3), stride=(1, 1), padding=(1, 1))\n",
              "    (downsample): Conv2d(3, 64, kernel_size=(1, 1), stride=(1, 1))\n",
              "    (bn1): BatchNorm2d(64, eps=1e-05, momentum=0.1, affine=True, track_running_stats=True)\n",
              "    (bn2): BatchNorm2d(64, eps=1e-05, momentum=0.1, affine=True, track_running_stats=True)\n",
              "    (relu): ReLU()\n",
              "  )\n",
              "  (b2): BasicBlock(\n",
              "    (c1): Conv2d(64, 128, kernel_size=(3, 3), stride=(1, 1), padding=(1, 1))\n",
              "    (c2): Conv2d(128, 128, kernel_size=(3, 3), stride=(1, 1), padding=(1, 1))\n",
              "    (downsample): Conv2d(64, 128, kernel_size=(1, 1), stride=(1, 1))\n",
              "    (bn1): BatchNorm2d(128, eps=1e-05, momentum=0.1, affine=True, track_running_stats=True)\n",
              "    (bn2): BatchNorm2d(128, eps=1e-05, momentum=0.1, affine=True, track_running_stats=True)\n",
              "    (relu): ReLU()\n",
              "  )\n",
              "  (b3): BasicBlock(\n",
              "    (c1): Conv2d(128, 256, kernel_size=(3, 3), stride=(1, 1), padding=(1, 1))\n",
              "    (c2): Conv2d(256, 256, kernel_size=(3, 3), stride=(1, 1), padding=(1, 1))\n",
              "    (downsample): Conv2d(128, 256, kernel_size=(1, 1), stride=(1, 1))\n",
              "    (bn1): BatchNorm2d(256, eps=1e-05, momentum=0.1, affine=True, track_running_stats=True)\n",
              "    (bn2): BatchNorm2d(256, eps=1e-05, momentum=0.1, affine=True, track_running_stats=True)\n",
              "    (relu): ReLU()\n",
              "  )\n",
              "  (pool): AvgPool2d(kernel_size=2, stride=2, padding=0)\n",
              "  (fc1): Linear(in_features=4096, out_features=2048, bias=True)\n",
              "  (fc2): Linear(in_features=2048, out_features=512, bias=True)\n",
              "  (fc3): Linear(in_features=512, out_features=10, bias=True)\n",
              "  (relu): ReLU()\n",
              ")"
            ]
          },
          "metadata": {},
          "execution_count": 5
        }
      ],
      "source": [
        "#모델정의\n",
        "device=\"cuda\" if torch.cuda.is_available() else \"cpu\"\n",
        "model=ResNet(num_classes=10)\n",
        "model.to(device)"
      ]
    },
    {
      "cell_type": "code",
      "execution_count": 6,
      "metadata": {
        "colab": {
          "base_uri": "https://localhost:8080/"
        },
        "id": "cNm-DOG69IbY",
        "outputId": "c8370eee-6edb-45d3-e31e-0dca7ec1b9b0"
      },
      "outputs": [
        {
          "output_type": "stream",
          "name": "stderr",
          "text": [
            "epoch:1 loss:1.0381619930267334: 100%|██████████| 1563/1563 [00:52<00:00, 29.57it/s]\n",
            "epoch:2 loss:0.5546205639839172: 100%|██████████| 1563/1563 [00:45<00:00, 34.32it/s]\n",
            "epoch:3 loss:0.5326991677284241: 100%|██████████| 1563/1563 [00:45<00:00, 34.40it/s]\n",
            "epoch:4 loss:0.6052997708320618: 100%|██████████| 1563/1563 [00:45<00:00, 34.32it/s]\n",
            "epoch:5 loss:0.9651894569396973: 100%|██████████| 1563/1563 [00:45<00:00, 34.31it/s]\n",
            "epoch:6 loss:0.7213065028190613: 100%|██████████| 1563/1563 [00:45<00:00, 34.11it/s]\n",
            "epoch:7 loss:0.9223276972770691: 100%|██████████| 1563/1563 [00:45<00:00, 34.31it/s]\n",
            "epoch:8 loss:0.5129004716873169: 100%|██████████| 1563/1563 [00:45<00:00, 34.55it/s]\n",
            "epoch:9 loss:0.24727028608322144: 100%|██████████| 1563/1563 [00:45<00:00, 34.55it/s]\n",
            "epoch:10 loss:0.5543585419654846: 100%|██████████| 1563/1563 [00:45<00:00, 34.12it/s]\n",
            "epoch:11 loss:0.43561065196990967: 100%|██████████| 1563/1563 [00:45<00:00, 34.19it/s]\n",
            "epoch:12 loss:0.22032234072685242: 100%|██████████| 1563/1563 [00:45<00:00, 34.64it/s]\n",
            "epoch:13 loss:0.1354801505804062: 100%|██████████| 1563/1563 [00:45<00:00, 34.42it/s]\n",
            "epoch:14 loss:0.263795405626297: 100%|██████████| 1563/1563 [00:45<00:00, 34.35it/s]\n",
            "epoch:15 loss:0.16380512714385986: 100%|██████████| 1563/1563 [00:45<00:00, 34.29it/s]\n",
            "epoch:16 loss:0.3451029062271118: 100%|██████████| 1563/1563 [00:45<00:00, 34.37it/s]\n",
            "epoch:17 loss:0.04154076427221298: 100%|██████████| 1563/1563 [00:45<00:00, 34.41it/s]\n",
            "epoch:18 loss:0.05425255000591278: 100%|██████████| 1563/1563 [00:45<00:00, 34.01it/s]\n",
            "epoch:19 loss:0.1520470529794693: 100%|██████████| 1563/1563 [00:45<00:00, 34.31it/s]\n",
            "epoch:20 loss:0.03369809687137604: 100%|██████████| 1563/1563 [00:45<00:00, 34.47it/s]\n",
            "epoch:21 loss:0.25248172879219055: 100%|██████████| 1563/1563 [00:45<00:00, 34.39it/s]\n",
            "epoch:22 loss:0.31173381209373474: 100%|██████████| 1563/1563 [00:45<00:00, 34.16it/s]\n",
            "epoch:23 loss:0.30104488134384155: 100%|██████████| 1563/1563 [00:45<00:00, 34.26it/s]\n",
            "epoch:24 loss:0.18248456716537476: 100%|██████████| 1563/1563 [00:45<00:00, 34.55it/s]\n",
            "epoch:25 loss:0.17184188961982727: 100%|██████████| 1563/1563 [00:45<00:00, 34.44it/s]\n",
            "epoch:26 loss:0.012849745340645313: 100%|██████████| 1563/1563 [00:45<00:00, 34.21it/s]\n",
            "epoch:27 loss:0.003654309082776308: 100%|██████████| 1563/1563 [00:45<00:00, 34.22it/s]\n",
            "epoch:28 loss:0.1670163869857788: 100%|██████████| 1563/1563 [00:46<00:00, 33.91it/s]\n",
            "epoch:29 loss:0.09367398172616959: 100%|██████████| 1563/1563 [00:45<00:00, 34.68it/s]\n",
            "epoch:30 loss:0.20633335411548615: 100%|██████████| 1563/1563 [00:45<00:00, 34.58it/s]\n"
          ]
        }
      ],
      "source": [
        "#학습 시작\n",
        "lr = 1e-4\n",
        "optim=Adam(model.parameters(),lr=lr)\n",
        "\n",
        "for epoch in range(30):\n",
        "    iterator=tqdm.tqdm(train_loader)\n",
        "    for data, label in iterator:\n",
        "        #최적화를 위해 기울기를 최소화\n",
        "        optim.zero_grad()\n",
        "\n",
        "        #모델으 예측값\n",
        "        preds=model(data.to(device))\n",
        "\n",
        "        #손실 계산 및 역전파\n",
        "        loss=nn.CrossEntropyLoss()(preds,label.to(device))\n",
        "        loss.backward()\n",
        "        optim.step()\n",
        "\n",
        "        iterator.set_description(f\"epoch:{epoch+1} loss:{loss.item()}\")\n",
        "\n",
        "torch.save(model.state_dict(),\"ResNet.pth\")"
      ]
    },
    {
      "cell_type": "code",
      "execution_count": 7,
      "metadata": {
        "colab": {
          "base_uri": "https://localhost:8080/"
        },
        "id": "4ThxAqAI-69n",
        "outputId": "405058ec-83ef-416a-aff4-0fb152f1eb8f"
      },
      "outputs": [
        {
          "output_type": "stream",
          "name": "stdout",
          "text": [
            "Accuracy:0.8789\n"
          ]
        }
      ],
      "source": [
        "from torch.utils import data\n",
        "#테스트\n",
        "model.load_state_dict(torch.load(\"ResNet.pth\",map_location=device))\n",
        "\n",
        "num_corr=0\n",
        "\n",
        "with torch.no_grad():\n",
        "    for data, label in test_loader:\n",
        "\n",
        "        output=model(data.to(device))\n",
        "        preds=output.data.max(1)[1]\n",
        "        corr=preds.eq(label.to(device).data).sum().item()\n",
        "        num_corr+=corr\n",
        "\n",
        "    print(f\"Accuracy:{num_corr/len(test_data)}\")"
      ]
    }
  ],
  "metadata": {
    "accelerator": "GPU",
    "colab": {
      "provenance": [],
      "authorship_tag": "ABX9TyNLYiQa/Um5l5trgJ19dW1L",
      "include_colab_link": true
    },
    "gpuClass": "standard",
    "kernelspec": {
      "display_name": "Python 3",
      "name": "python3"
    },
    "language_info": {
      "name": "python"
    },
    "widgets": {
      "application/vnd.jupyter.widget-state+json": {
        "5d648653386d47d88d9464bd659ad056": {
          "model_module": "@jupyter-widgets/controls",
          "model_name": "HBoxModel",
          "model_module_version": "1.5.0",
          "state": {
            "_dom_classes": [],
            "_model_module": "@jupyter-widgets/controls",
            "_model_module_version": "1.5.0",
            "_model_name": "HBoxModel",
            "_view_count": null,
            "_view_module": "@jupyter-widgets/controls",
            "_view_module_version": "1.5.0",
            "_view_name": "HBoxView",
            "box_style": "",
            "children": [
              "IPY_MODEL_fde6338a40cf4351b14674d020b2122d",
              "IPY_MODEL_f6dd334ba558482caeb4eb3b54c487ce",
              "IPY_MODEL_ced7df91f0db4b13a3bc58e8b3ebc492"
            ],
            "layout": "IPY_MODEL_2d11839f4a374213a2ee925e1903e23d"
          }
        },
        "fde6338a40cf4351b14674d020b2122d": {
          "model_module": "@jupyter-widgets/controls",
          "model_name": "HTMLModel",
          "model_module_version": "1.5.0",
          "state": {
            "_dom_classes": [],
            "_model_module": "@jupyter-widgets/controls",
            "_model_module_version": "1.5.0",
            "_model_name": "HTMLModel",
            "_view_count": null,
            "_view_module": "@jupyter-widgets/controls",
            "_view_module_version": "1.5.0",
            "_view_name": "HTMLView",
            "description": "",
            "description_tooltip": null,
            "layout": "IPY_MODEL_8327df70ea44476bbf39bd2bece37aad",
            "placeholder": "​",
            "style": "IPY_MODEL_0645d5793dd74d77a10c3790940dc765",
            "value": "100%"
          }
        },
        "f6dd334ba558482caeb4eb3b54c487ce": {
          "model_module": "@jupyter-widgets/controls",
          "model_name": "FloatProgressModel",
          "model_module_version": "1.5.0",
          "state": {
            "_dom_classes": [],
            "_model_module": "@jupyter-widgets/controls",
            "_model_module_version": "1.5.0",
            "_model_name": "FloatProgressModel",
            "_view_count": null,
            "_view_module": "@jupyter-widgets/controls",
            "_view_module_version": "1.5.0",
            "_view_name": "ProgressView",
            "bar_style": "success",
            "description": "",
            "description_tooltip": null,
            "layout": "IPY_MODEL_2870ff153eff4147a0509fe5de1f0499",
            "max": 170498071,
            "min": 0,
            "orientation": "horizontal",
            "style": "IPY_MODEL_a59c4a2605684de688a579ab2f6d957d",
            "value": 170498071
          }
        },
        "ced7df91f0db4b13a3bc58e8b3ebc492": {
          "model_module": "@jupyter-widgets/controls",
          "model_name": "HTMLModel",
          "model_module_version": "1.5.0",
          "state": {
            "_dom_classes": [],
            "_model_module": "@jupyter-widgets/controls",
            "_model_module_version": "1.5.0",
            "_model_name": "HTMLModel",
            "_view_count": null,
            "_view_module": "@jupyter-widgets/controls",
            "_view_module_version": "1.5.0",
            "_view_name": "HTMLView",
            "description": "",
            "description_tooltip": null,
            "layout": "IPY_MODEL_2e30bec271594590a52ce590ac2b7d72",
            "placeholder": "​",
            "style": "IPY_MODEL_756af8ea10d447a6bef08d98b26ff70c",
            "value": " 170498071/170498071 [00:06&lt;00:00, 31572850.32it/s]"
          }
        },
        "2d11839f4a374213a2ee925e1903e23d": {
          "model_module": "@jupyter-widgets/base",
          "model_name": "LayoutModel",
          "model_module_version": "1.2.0",
          "state": {
            "_model_module": "@jupyter-widgets/base",
            "_model_module_version": "1.2.0",
            "_model_name": "LayoutModel",
            "_view_count": null,
            "_view_module": "@jupyter-widgets/base",
            "_view_module_version": "1.2.0",
            "_view_name": "LayoutView",
            "align_content": null,
            "align_items": null,
            "align_self": null,
            "border": null,
            "bottom": null,
            "display": null,
            "flex": null,
            "flex_flow": null,
            "grid_area": null,
            "grid_auto_columns": null,
            "grid_auto_flow": null,
            "grid_auto_rows": null,
            "grid_column": null,
            "grid_gap": null,
            "grid_row": null,
            "grid_template_areas": null,
            "grid_template_columns": null,
            "grid_template_rows": null,
            "height": null,
            "justify_content": null,
            "justify_items": null,
            "left": null,
            "margin": null,
            "max_height": null,
            "max_width": null,
            "min_height": null,
            "min_width": null,
            "object_fit": null,
            "object_position": null,
            "order": null,
            "overflow": null,
            "overflow_x": null,
            "overflow_y": null,
            "padding": null,
            "right": null,
            "top": null,
            "visibility": null,
            "width": null
          }
        },
        "8327df70ea44476bbf39bd2bece37aad": {
          "model_module": "@jupyter-widgets/base",
          "model_name": "LayoutModel",
          "model_module_version": "1.2.0",
          "state": {
            "_model_module": "@jupyter-widgets/base",
            "_model_module_version": "1.2.0",
            "_model_name": "LayoutModel",
            "_view_count": null,
            "_view_module": "@jupyter-widgets/base",
            "_view_module_version": "1.2.0",
            "_view_name": "LayoutView",
            "align_content": null,
            "align_items": null,
            "align_self": null,
            "border": null,
            "bottom": null,
            "display": null,
            "flex": null,
            "flex_flow": null,
            "grid_area": null,
            "grid_auto_columns": null,
            "grid_auto_flow": null,
            "grid_auto_rows": null,
            "grid_column": null,
            "grid_gap": null,
            "grid_row": null,
            "grid_template_areas": null,
            "grid_template_columns": null,
            "grid_template_rows": null,
            "height": null,
            "justify_content": null,
            "justify_items": null,
            "left": null,
            "margin": null,
            "max_height": null,
            "max_width": null,
            "min_height": null,
            "min_width": null,
            "object_fit": null,
            "object_position": null,
            "order": null,
            "overflow": null,
            "overflow_x": null,
            "overflow_y": null,
            "padding": null,
            "right": null,
            "top": null,
            "visibility": null,
            "width": null
          }
        },
        "0645d5793dd74d77a10c3790940dc765": {
          "model_module": "@jupyter-widgets/controls",
          "model_name": "DescriptionStyleModel",
          "model_module_version": "1.5.0",
          "state": {
            "_model_module": "@jupyter-widgets/controls",
            "_model_module_version": "1.5.0",
            "_model_name": "DescriptionStyleModel",
            "_view_count": null,
            "_view_module": "@jupyter-widgets/base",
            "_view_module_version": "1.2.0",
            "_view_name": "StyleView",
            "description_width": ""
          }
        },
        "2870ff153eff4147a0509fe5de1f0499": {
          "model_module": "@jupyter-widgets/base",
          "model_name": "LayoutModel",
          "model_module_version": "1.2.0",
          "state": {
            "_model_module": "@jupyter-widgets/base",
            "_model_module_version": "1.2.0",
            "_model_name": "LayoutModel",
            "_view_count": null,
            "_view_module": "@jupyter-widgets/base",
            "_view_module_version": "1.2.0",
            "_view_name": "LayoutView",
            "align_content": null,
            "align_items": null,
            "align_self": null,
            "border": null,
            "bottom": null,
            "display": null,
            "flex": null,
            "flex_flow": null,
            "grid_area": null,
            "grid_auto_columns": null,
            "grid_auto_flow": null,
            "grid_auto_rows": null,
            "grid_column": null,
            "grid_gap": null,
            "grid_row": null,
            "grid_template_areas": null,
            "grid_template_columns": null,
            "grid_template_rows": null,
            "height": null,
            "justify_content": null,
            "justify_items": null,
            "left": null,
            "margin": null,
            "max_height": null,
            "max_width": null,
            "min_height": null,
            "min_width": null,
            "object_fit": null,
            "object_position": null,
            "order": null,
            "overflow": null,
            "overflow_x": null,
            "overflow_y": null,
            "padding": null,
            "right": null,
            "top": null,
            "visibility": null,
            "width": null
          }
        },
        "a59c4a2605684de688a579ab2f6d957d": {
          "model_module": "@jupyter-widgets/controls",
          "model_name": "ProgressStyleModel",
          "model_module_version": "1.5.0",
          "state": {
            "_model_module": "@jupyter-widgets/controls",
            "_model_module_version": "1.5.0",
            "_model_name": "ProgressStyleModel",
            "_view_count": null,
            "_view_module": "@jupyter-widgets/base",
            "_view_module_version": "1.2.0",
            "_view_name": "StyleView",
            "bar_color": null,
            "description_width": ""
          }
        },
        "2e30bec271594590a52ce590ac2b7d72": {
          "model_module": "@jupyter-widgets/base",
          "model_name": "LayoutModel",
          "model_module_version": "1.2.0",
          "state": {
            "_model_module": "@jupyter-widgets/base",
            "_model_module_version": "1.2.0",
            "_model_name": "LayoutModel",
            "_view_count": null,
            "_view_module": "@jupyter-widgets/base",
            "_view_module_version": "1.2.0",
            "_view_name": "LayoutView",
            "align_content": null,
            "align_items": null,
            "align_self": null,
            "border": null,
            "bottom": null,
            "display": null,
            "flex": null,
            "flex_flow": null,
            "grid_area": null,
            "grid_auto_columns": null,
            "grid_auto_flow": null,
            "grid_auto_rows": null,
            "grid_column": null,
            "grid_gap": null,
            "grid_row": null,
            "grid_template_areas": null,
            "grid_template_columns": null,
            "grid_template_rows": null,
            "height": null,
            "justify_content": null,
            "justify_items": null,
            "left": null,
            "margin": null,
            "max_height": null,
            "max_width": null,
            "min_height": null,
            "min_width": null,
            "object_fit": null,
            "object_position": null,
            "order": null,
            "overflow": null,
            "overflow_x": null,
            "overflow_y": null,
            "padding": null,
            "right": null,
            "top": null,
            "visibility": null,
            "width": null
          }
        },
        "756af8ea10d447a6bef08d98b26ff70c": {
          "model_module": "@jupyter-widgets/controls",
          "model_name": "DescriptionStyleModel",
          "model_module_version": "1.5.0",
          "state": {
            "_model_module": "@jupyter-widgets/controls",
            "_model_module_version": "1.5.0",
            "_model_name": "DescriptionStyleModel",
            "_view_count": null,
            "_view_module": "@jupyter-widgets/base",
            "_view_module_version": "1.2.0",
            "_view_name": "StyleView",
            "description_width": ""
          }
        }
      }
    }
  },
  "nbformat": 4,
  "nbformat_minor": 0
}